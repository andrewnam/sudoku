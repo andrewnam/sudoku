{
 "cells": [
  {
   "cell_type": "code",
   "execution_count": 6,
   "metadata": {},
   "outputs": [],
   "source": [
    "%matplotlib inline\n",
    "\n",
    "import numpy as np\n",
    "import itertools\n",
    "import random\n",
    "import matplotlib\n",
    "import matplotlib.pyplot as plt\n",
    "import pickle\n",
    "from tqdm import tqdm, tqdm_notebook\n",
    "import math\n",
    "\n",
    "import torch\n",
    "import torch.nn as nn\n",
    "import torch.optim as optim\n",
    "\n",
    "import sys\n",
    "sys.path.append('/home/ajhnam/sudoku/src/sudoku')\n",
    "\n",
    "from board import Board\n",
    "from solutions import Solutions\n",
    "import utils"
   ]
  },
  {
   "cell_type": "code",
   "execution_count": 7,
   "metadata": {},
   "outputs": [],
   "source": [
    "# set random seed to 0\n",
    "np.random.seed(0)\n",
    "torch.manual_seed(0)\n",
    "\n",
    "torch.set_default_tensor_type('torch.DoubleTensor')"
   ]
  },
  {
   "cell_type": "code",
   "execution_count": 8,
   "metadata": {},
   "outputs": [
    {
     "name": "stdout",
     "output_type": "stream",
     "text": [
      "4 64\n",
      "5 357\n",
      "6 883\n",
      "7 1584\n",
      "8 2384\n",
      "9 3309\n",
      "10 4149\n",
      "11 4754\n",
      "12 4841\n",
      "13 3741\n",
      "14 1391\n",
      "15 192\n",
      "16 12\n"
     ]
    }
   ],
   "source": [
    "with open('solutions5.pickle', 'rb') as f:\n",
    "    solutions = pickle.load(f)\n",
    "puzzles = solutions.get_puzzles_by_hints()\n",
    "for hints in sorted(puzzles):\n",
    "    print(hints, len(puzzles[hints]))"
   ]
  },
  {
   "cell_type": "code",
   "execution_count": 9,
   "metadata": {},
   "outputs": [],
   "source": [
    "def is_in_row(board, row, digit):\n",
    "    return digit in board[row]\n",
    "\n",
    "def is_in_col(board, col, digit):\n",
    "    return digit in board[:,col]\n",
    "\n",
    "def is_in_box(board, box, digit):\n",
    "    return digit in board.get_box_by_index(box).box\n",
    "\n",
    "def vectorize_cell(board, x, y):\n",
    "    vector = torch.zeros(board.max_digit)\n",
    "    if board[x][y] != 0:\n",
    "        vector[board[x][y]-1] = 1\n",
    "    return vector\n",
    "\n",
    "def vectorize_cell_distribution(max_digit, cell_coordinates):\n",
    "    \"\"\"\n",
    "    Creates a uniform distribution amongst cell_coordinates and zeros out other locations\n",
    "    >>> vectorize_cell_distribution(4, [(1,1), (0, 3), (2, 0)])\n",
    "    tensor([0.0000, 0.0000, 0.0000, 0.3333, 0.0000, 0.3333, 0.0000, 0.0000, 0.3333,\n",
    "        0.0000, 0.0000, 0.0000, 0.0000, 0.0000, 0.0000, 0.0000])\n",
    "    \"\"\"\n",
    "    cell_coordinates = np.array(list(set(cell_coordinates)))\n",
    "    assert cell_coordinates.shape[0] < max_digit**2\n",
    "    assert cell_coordinates.shape[1] == 2\n",
    "    vector = torch.zeros(max_digit**2)\n",
    "    for coord in cell_coordinates:\n",
    "        vector[coord[0]*max_digit + coord[1]] = 1\n",
    "    return vector/len(cell_coordinates)"
   ]
  },
  {
   "cell_type": "code",
   "execution_count": 10,
   "metadata": {},
   "outputs": [],
   "source": [
    "class Query():\n",
    "    ROW = \"ROW\"\n",
    "    COLUMN = \"COLUMN\"\n",
    "    BOX = \"BOX\"\n",
    "    \n",
    "    def __init__(self, board: Board, digit: int, house_type: int, house_index: int):\n",
    "        assert house_type == Query.ROW or house_type == Query.COLUMN or house_type == Query.BOX\n",
    "        assert 0 < digit <= board.max_digit\n",
    "        assert 0 <= house_index < board.max_digit\n",
    "        \n",
    "        self.board = board\n",
    "        self.digit = digit\n",
    "        self.house_type = house_type\n",
    "        self.house_index = house_index\n",
    "        \n",
    "    def __repr__(self):\n",
    "        return \"Is {0} in {1} {2}: {3}\".format(self.digit,\n",
    "                                               self.house_type.lower(),\n",
    "                                               self.house_index,\n",
    "                                               'Yes' if self.answer() else 'No')\n",
    "        \n",
    "    def vectorize(self):\n",
    "        digit = torch.zeros(self.board.max_digit)\n",
    "        house_type = torch.zeros(3)\n",
    "        house_index = torch.zeros(self.board.max_digit)\n",
    "        \n",
    "        digit[self.digit-1] = 1\n",
    "        if self.house_type == Query.ROW:\n",
    "            house_type[0] = 1\n",
    "        elif self.house_type == Query.COLUMN:\n",
    "            house_type[1] = 1\n",
    "        else:\n",
    "            house_type[2] = 1\n",
    "        house_index[self.house_index] = 1\n",
    "        \n",
    "        return torch.cat([digit, house_type, house_index])\n",
    "    \n",
    "    def answer(self):\n",
    "        if self.house_type is Query.ROW:\n",
    "            return is_in_row(self.board, self.house_index, self.digit)\n",
    "        if self.house_type is Query.COLUMN:\n",
    "            return is_in_col(self.board, self.house_index, self.digit)\n",
    "        else:\n",
    "            return is_in_box(self.board, self.house_index, self.digit)\n",
    "    \n",
    "    def relevant_cells(self):\n",
    "        if self.house_type == Query.ROW:\n",
    "            return {(self.house_index, i) for i in range(self.board.max_digit)}\n",
    "        if self.house_type == Query.COLUMN:\n",
    "            return {(i, self.house_index) for i in range(self.board.max_digit)}\n",
    "        return {tuple(t) for t in self.board.get_box_by_index(self.house_index).get_coordinates()}\n",
    "    \n",
    "    def is_answerable(self, seen_cells):\n",
    "        \"\"\"\n",
    "        Checks if the query could be answered with just the seen cells\n",
    "        \"\"\"\n",
    "        if self.answer():\n",
    "            if self.house_type == Query.ROW:\n",
    "                cell = self.board.find_digit_in_row(self.house_index, self.digit)\n",
    "            elif self.house_type == Query.COLUMN:\n",
    "                cell = self.board.find_digit_in_column(self.house_index, self.digit)\n",
    "            else:\n",
    "                cell = self.board.find_digit_in_box_by_index(self.house_index, self.digit)\n",
    "        return not bool(self.relevant_cells() - set(seen_cells))\n",
    "    \n",
    "    def vector_dim(max_digit):\n",
    "        return 3 + 2*max_digit"
   ]
  },
  {
   "cell_type": "code",
   "execution_count": 11,
   "metadata": {},
   "outputs": [],
   "source": [
    "class Response():\n",
    "    MAYBE = \"MAYBE\"\n",
    "    TRUE = \"TRUE\"\n",
    "    FALSE = \"FALSE\"\n",
    "    \n",
    "    def __init__(self, max_digit, attention_dist, answer_dist):\n",
    "        self.attention_dist = attention_dist\n",
    "        self.answer_dist = answer_dist\n",
    "        \n",
    "        cell_index = torch.argmax(attention_dist)\n",
    "        self.x = int(cell_index // max_digit)\n",
    "        self.y = int(cell_index % max_digit)\n",
    "        \n",
    "        answer_index = torch.argmax(answer_dist)\n",
    "        if answer_index == 0:\n",
    "            self.answer = Response.TRUE\n",
    "        elif answer_index == 1:\n",
    "            self.answer = Response.FALSE\n",
    "        elif answer_index == 2:\n",
    "            self.answer = Response.MAYBE\n",
    "        assert len(answer_dist) == 3\n",
    "        \n",
    "    def __repr__(self):\n",
    "        return str((self.answer, self.x, self.y))\n",
    "            \n",
    "    @staticmethod\n",
    "    def answer_vector(answer):\n",
    "        if answer == Response.TRUE or answer == True:\n",
    "            return torch.tensor([1., 0, 0])\n",
    "        if answer == Response.FALSE or answer == False:\n",
    "            return torch.tensor([0, 1., 0])\n",
    "        if answer == Response.MAYBE:\n",
    "            return torch.tensor([0, 0., 1])\n",
    "        assert answer in (Response.TRUE, Response.FALSE, Response.MAYBE, True, False)"
   ]
  },
  {
   "cell_type": "code",
   "execution_count": 33,
   "metadata": {},
   "outputs": [],
   "source": [
    "class Model1(nn.Module):\n",
    "    def __init__(self, input_size, hidden_layer_size, output_sizes):\n",
    "        super(Model1, self).__init__()\n",
    "        self.input_size = input_size\n",
    "        self.hidden_layer_size = hidden_layer_size\n",
    "        self.output_sizes = output_sizes\n",
    "        \n",
    "        self.lstm = nn.LSTMCell(input_size, hidden_layer_size).cuda(1)\n",
    "        self.reset()\n",
    "        \n",
    "        self.output_layers = nn.ModuleList() \n",
    "        for output_size in output_sizes:\n",
    "            self.output_layers.append(nn.Linear(hidden_layer_size, output_size).cuda(1))\n",
    "        self.softmax = nn.Softmax()\n",
    "        \n",
    "    def reset(self):\n",
    "        self.lstm_h = torch.zeros(1, self.hidden_layer_size, dtype=torch.double).cuda(1)\n",
    "        self.lstm_c = torch.zeros(1, self.hidden_layer_size, dtype=torch.double).cuda(1)\n",
    "        \n",
    "    def forward(self, x):\n",
    "        input_layer = x.reshape(1, self.input_size).cuda(1)\n",
    "        self.lstm_h, self.lstm_c = self.lstm(input_layer, (self.lstm_h, self.lstm_c))\n",
    "        return (self.softmax(layer(self.lstm_h).squeeze()) for layer in self.output_layers)"
   ]
  },
  {
   "cell_type": "code",
   "execution_count": 34,
   "metadata": {},
   "outputs": [],
   "source": [
    "class QueryModel():\n",
    "    \n",
    "    def __init__(self, torch_model):\n",
    "        self.torch_model = torch_model\n",
    "        self.optimizer = optim.Adam(model.parameters())\n",
    "        \n",
    "    def predict(self, query):\n",
    "        self.torch_model.reset()\n",
    "        \n",
    "        responses = []\n",
    "        relevant_unseen = set(query.relevant_cells())\n",
    "        seen_cells = set()\n",
    "        query_vector = query.vectorize()\n",
    "        cell_vector = torch.zeros(query.board.max_digit)\n",
    "        last_answer = Response.MAYBE\n",
    "        \n",
    "        while last_answer == Response.MAYBE and relevant_unseen:\n",
    "            input = torch.cat([query_vector, cell_vector])\n",
    "            attention, answer = self.torch_model(input)\n",
    "            response = Response(query.board.max_digit, attention, answer)\n",
    "            responses.append(response)\n",
    "\n",
    "            next_cell = (response.x, response.y)\n",
    "            if next_cell in seen_cells: # Should never re-visit a cell in this task\n",
    "                break\n",
    "\n",
    "            seen_cells.add(next_cell)\n",
    "            relevant_unseen.discard(next_cell)\n",
    "            last_answer = response.answer\n",
    "            cell_vector = vectorize_cell(query.board, response.x, response.y)\n",
    "\n",
    "        return responses\n",
    "    \n",
    "    def get_correct_responses(self, query, predicted_responses):\n",
    "        seen_cells = set()\n",
    "        relevant_unseen = set(query.relevant_cells())\n",
    "        correct_responses = []\n",
    "        \n",
    "        for response in predicted_responses:\n",
    "            next_cell = (response.x, response.y)\n",
    "            \n",
    "            correct_attention_dist = vectorize_cell_distribution(query.board.max_digit, relevant_unseen)\n",
    "            correct_answer = query.answer() if query.is_answerable(seen_cells) else Response.MAYBE\n",
    "            correct_answer_dist = Response.answer_vector(correct_answer)\n",
    "            correct_responses.append(Response(query.board.max_digit, correct_attention_dist, correct_answer_dist))\n",
    "            \n",
    "            seen_cells.add(next_cell)\n",
    "            relevant_unseen.discard(next_cell)\n",
    "        return correct_responses\n",
    "    \n",
    "    def train(self, queries):\n",
    "        def closure():\n",
    "            self.optimizer.zero_grad()\n",
    "            responses = self.predict(query)\n",
    "            total_loss = 0\n",
    "            \n",
    "            for response, correct_response in zip(responses, self.get_correct_responses(query, responses)):\n",
    "                attention_loss = nn.functional.kl_div(response.attention_dist, correct_response.attention_dist.cuda(1))\n",
    "                answer_loss = nn.functional.kl_div(response.answer_dist, correct_response.answer_dist.cuda(1))\n",
    "                loss = attention_loss + answer_loss\n",
    "                loss.backward(retain_graph=True)\n",
    "\n",
    "                attention_losses.append(float(attention_loss))\n",
    "                answer_losses.append(float(answer_loss))\n",
    "            return total_loss\n",
    "        \n",
    "        all_attention_losses, all_answer_losses = [], []\n",
    "        for query in queries:\n",
    "            attention_losses, answer_losses = [], []\n",
    "            self.optimizer.step(closure)\n",
    "            all_attention_losses.append(attention_losses)\n",
    "            all_answer_losses.append(answer_losses)\n",
    "        \n",
    "        return all_attention_losses, all_answer_losses"
   ]
  },
  {
   "cell_type": "code",
   "execution_count": 36,
   "metadata": {},
   "outputs": [
    {
     "data": {
      "application/vnd.jupyter.widget-view+json": {
       "model_id": "d130beab0aa542c7b968910d55bf4ff9",
       "version_major": 2,
       "version_minor": 0
      },
      "text/plain": [
       "HBox(children=(IntProgress(value=0, max=10), HTML(value='')))"
      ]
     },
     "metadata": {},
     "output_type": "display_data"
    },
    {
     "data": {
      "application/vnd.jupyter.widget-view+json": {
       "model_id": "9472d7bc47e9453aace5a679668335a3",
       "version_major": 2,
       "version_minor": 0
      },
      "text/plain": [
       "HBox(children=(IntProgress(value=0, max=1000), HTML(value='')))"
      ]
     },
     "metadata": {},
     "output_type": "display_data"
    },
    {
     "name": "stderr",
     "output_type": "stream",
     "text": [
      "/home/ajhnam/.local/lib/python3.5/site-packages/ipykernel_launcher.py:23: UserWarning: Implicit dimension choice for softmax has been deprecated. Change the call to include dim=X as an argument.\n"
     ]
    },
    {
     "data": {
      "application/vnd.jupyter.widget-view+json": {
       "model_id": "41b7b8521e22486892ce557242e9f325",
       "version_major": 2,
       "version_minor": 0
      },
      "text/plain": [
       "HBox(children=(IntProgress(value=0, max=1000), HTML(value='')))"
      ]
     },
     "metadata": {},
     "output_type": "display_data"
    },
    {
     "data": {
      "application/vnd.jupyter.widget-view+json": {
       "model_id": "31bc19bd6a5c4a30af4ba47ee7fe1c0f",
       "version_major": 2,
       "version_minor": 0
      },
      "text/plain": [
       "HBox(children=(IntProgress(value=0, max=1000), HTML(value='')))"
      ]
     },
     "metadata": {},
     "output_type": "display_data"
    },
    {
     "data": {
      "application/vnd.jupyter.widget-view+json": {
       "model_id": "3da71345482a4763a03129cf35ba81a5",
       "version_major": 2,
       "version_minor": 0
      },
      "text/plain": [
       "HBox(children=(IntProgress(value=0, max=1000), HTML(value='')))"
      ]
     },
     "metadata": {},
     "output_type": "display_data"
    },
    {
     "data": {
      "application/vnd.jupyter.widget-view+json": {
       "model_id": "435e85db4ab0454e8b7d6e76dee8a737",
       "version_major": 2,
       "version_minor": 0
      },
      "text/plain": [
       "HBox(children=(IntProgress(value=0, max=1000), HTML(value='')))"
      ]
     },
     "metadata": {},
     "output_type": "display_data"
    },
    {
     "data": {
      "application/vnd.jupyter.widget-view+json": {
       "model_id": "b1795615ea27409aa990d28d17b093cf",
       "version_major": 2,
       "version_minor": 0
      },
      "text/plain": [
       "HBox(children=(IntProgress(value=0, max=1000), HTML(value='')))"
      ]
     },
     "metadata": {},
     "output_type": "display_data"
    },
    {
     "data": {
      "application/vnd.jupyter.widget-view+json": {
       "model_id": "8cc6a84816154b1a8bc86b181cb84dc2",
       "version_major": 2,
       "version_minor": 0
      },
      "text/plain": [
       "HBox(children=(IntProgress(value=0, max=1000), HTML(value='')))"
      ]
     },
     "metadata": {},
     "output_type": "display_data"
    },
    {
     "data": {
      "application/vnd.jupyter.widget-view+json": {
       "model_id": "b0440cbf9eb948cdb7a586e75ca6fdbb",
       "version_major": 2,
       "version_minor": 0
      },
      "text/plain": [
       "HBox(children=(IntProgress(value=0, max=1000), HTML(value='')))"
      ]
     },
     "metadata": {},
     "output_type": "display_data"
    },
    {
     "data": {
      "application/vnd.jupyter.widget-view+json": {
       "model_id": "d75369e2f4cc4a01a976ed7f105a052a",
       "version_major": 2,
       "version_minor": 0
      },
      "text/plain": [
       "HBox(children=(IntProgress(value=0, max=1000), HTML(value='')))"
      ]
     },
     "metadata": {},
     "output_type": "display_data"
    },
    {
     "data": {
      "application/vnd.jupyter.widget-view+json": {
       "model_id": "0f66f50a73ee4464844ca618cebfea89",
       "version_major": 2,
       "version_minor": 0
      },
      "text/plain": [
       "HBox(children=(IntProgress(value=0, max=1000), HTML(value='')))"
      ]
     },
     "metadata": {},
     "output_type": "display_data"
    }
   ],
   "source": [
    "max_digit = 4\n",
    "model = Model1(Query.vector_dim(max_digit) + max_digit, 64, [(max_digit**2), 3]).double().cuda(1)\n",
    "query_model = QueryModel(model)\n",
    "\n",
    "boards = puzzles[8]\n",
    "np.random.shuffle(boards)\n",
    "losses = []\n",
    "for epoch in tqdm_notebook(range(10)):\n",
    "    for board in tqdm_notebook(boards[:1000]):\n",
    "        xs, ys = np.nonzero(board.board)\n",
    "        queries = [Query(board, board[x][y], Query.ROW, x) for x,y in zip(xs, ys) if board[x][y] != 0]\n",
    "        attention_losses, answer_losses = query_model.train(queries)"
   ]
  },
  {
   "cell_type": "code",
   "execution_count": null,
   "metadata": {},
   "outputs": [],
   "source": []
  }
 ],
 "metadata": {
  "kernelspec": {
   "display_name": "Python 3",
   "language": "python",
   "name": "python3"
  },
  "language_info": {
   "codemirror_mode": {
    "name": "ipython",
    "version": 3
   },
   "file_extension": ".py",
   "mimetype": "text/x-python",
   "name": "python",
   "nbconvert_exporter": "python",
   "pygments_lexer": "ipython3",
   "version": "3.5.2"
  }
 },
 "nbformat": 4,
 "nbformat_minor": 2
}
