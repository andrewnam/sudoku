{
 "cells": [
  {
   "cell_type": "code",
   "execution_count": 1,
   "metadata": {
    "collapsed": false
   },
   "outputs": [],
   "source": [
    "import numpy as np\n",
    "import pandas as pd\n",
    "import random\n",
    "from tqdm import tqdm\n",
    "\n",
    "import sys\n",
    "sys.path.append('/Users/andrew/Desktop/sudoku/src/sudoku')\n",
    "\n",
    "from board import Board\n",
    "from solutions import Solutions"
   ]
  },
  {
   "cell_type": "code",
   "execution_count": 2,
   "metadata": {
    "collapsed": true
   },
   "outputs": [],
   "source": [
    "def find_all_solutions(board: Board, solutions: dict) -> set:\n",
    "    \"\"\"\n",
    "    Returns a set of Boards that contain all possible solutions to the input board\n",
    "    :param board:\n",
    "    :param solutions: dictionary of board K -> board V where V is the solution to K. V may be None\n",
    "    :return: set of Boards\n",
    "    \"\"\"\n",
    "#     puzzles = {board: solutions[board] for board in solutions if solutions[board]}\n",
    "    if board in solutions:\n",
    "        return {solutions[board]}\n",
    "\n",
    "    found_solutions = set()\n",
    "    possibilities = board.get_cell_possibilities_count()\n",
    "    min_possibilities = [coord for coord in possibilities if possibilities[coord] == min(possibilities.values())]\n",
    "    x, y = random.choice(min_possibilities)\n",
    "    for digit in board.get_possible_digits(x, y):\n",
    "        next_board = board.copy()\n",
    "        next_board.write(x, y, digit)\n",
    "        if next_board in solutions:\n",
    "            found_solutions.add(solutions[next_board])\n",
    "        elif next_board.all_filled():\n",
    "            solutions[next_board] = next_board\n",
    "            found_solutions.add(solutions[next_board])\n",
    "        if next_board.is_solvable():\n",
    "            found_solutions |= find_all_solutions(next_board, solutions)\n",
    "    if len(found_solutions) == 1:\n",
    "        solutions[board] = list(found_solutions)[0]\n",
    "    else:\n",
    "        solutions[board] = None\n",
    "    return found_solutions\n",
    "\n",
    "def generate_new_puzzle(board: Board, solutions: Solutions):\n",
    "    new_puzzles = remove_cell(board, solutions, cells_to_remove=1)\n",
    "    while new_puzzles:\n",
    "        new_board = random.sample(new_puzzles, 1)[0]\n",
    "        new_puzzles = remove_cell(new_board, solutions, cells_to_remove=1)\n",
    "    return new_board if new_board != board else None\n",
    "\n",
    "def remove_cell(board: Board, solutions: Solutions, cells_to_remove: int=0) -> list:\n",
    "    \"\"\"\n",
    "    Given a board with a unique solution and a dictionary of board-hash -> solution-board-hash, remove a random cell\n",
    "     from the board and test if the resulting board also has a unique solution (every legal move also results boards\n",
    "     that have unique solutions). Also adds the new board to unique_solutions\n",
    "    If no board with a unique solution can be created, returns None\n",
    "    :param board:\n",
    "    :param solutions:\n",
    "    :param cells_to_remove:\n",
    "    :return:\n",
    "    \"\"\"\n",
    "    assert board in solutions\n",
    "    assert cells_to_remove >= 0\n",
    "    new_puzzles = []\n",
    "    xs, ys = np.nonzero(board.board)\n",
    "    indices = np.arange(len(xs))\n",
    "    np.random.shuffle(indices)\n",
    "    for i in indices:\n",
    "        x, y = xs[i], ys[i]\n",
    "        new_board = board.remove(x, y)\n",
    "        if new_board in solutions: # if this puzzle already exists, skip\n",
    "            pass\n",
    "        if len(find_all_solutions(new_board, solutions)) == 1:\n",
    "            new_puzzles.append(new_board)\n",
    "            if cells_to_remove and len(new_puzzles) >= cells_to_remove:\n",
    "                return new_puzzles\n",
    "    return new_puzzles if new_puzzles else None"
   ]
  },
  {
   "cell_type": "code",
   "execution_count": 3,
   "metadata": {
    "collapsed": false
   },
   "outputs": [
    {
     "data": {
      "text/plain": [
       "<solutions.Solutions at 0x11d4a3668>"
      ]
     },
     "execution_count": 3,
     "metadata": {},
     "output_type": "execute_result"
    }
   ],
   "source": [
    "solutions = Solutions()\n",
    "solutions.load('../data/solutions2.txt')"
   ]
  },
  {
   "cell_type": "code",
   "execution_count": 5,
   "metadata": {
    "collapsed": false,
    "scrolled": true
   },
   "outputs": [
    {
     "data": {
      "text/plain": [
       "{array([[1, 2, 3, 4],\n",
       "        [3, 4, 1, 2],\n",
       "        [2, 1, 4, 3],\n",
       "        [4, 3, 2, 1]], dtype=int8), array([[1, 2, 3, 4],\n",
       "        [3, 4, 1, 2],\n",
       "        [2, 3, 4, 1],\n",
       "        [4, 1, 2, 3]], dtype=int8), array([[1, 2, 3, 4],\n",
       "        [3, 4, 1, 2],\n",
       "        [4, 1, 2, 3],\n",
       "        [2, 3, 4, 1]], dtype=int8), array([[1, 2, 3, 4],\n",
       "        [3, 4, 1, 2],\n",
       "        [4, 3, 2, 1],\n",
       "        [2, 1, 4, 3]], dtype=int8), array([[1, 2, 3, 4],\n",
       "        [3, 4, 2, 1],\n",
       "        [2, 1, 4, 3],\n",
       "        [4, 3, 1, 2]], dtype=int8), array([[1, 2, 3, 4],\n",
       "        [3, 4, 2, 1],\n",
       "        [4, 3, 1, 2],\n",
       "        [2, 1, 4, 3]], dtype=int8), array([[1, 2, 3, 4],\n",
       "        [4, 3, 1, 2],\n",
       "        [2, 1, 4, 3],\n",
       "        [3, 4, 2, 1]], dtype=int8), array([[1, 2, 3, 4],\n",
       "        [4, 3, 1, 2],\n",
       "        [3, 4, 2, 1],\n",
       "        [2, 1, 4, 3]], dtype=int8), array([[1, 2, 3, 4],\n",
       "        [4, 3, 2, 1],\n",
       "        [2, 1, 4, 3],\n",
       "        [3, 4, 1, 2]], dtype=int8), array([[1, 2, 3, 4],\n",
       "        [4, 3, 2, 1],\n",
       "        [2, 4, 1, 3],\n",
       "        [3, 1, 4, 2]], dtype=int8), array([[1, 2, 3, 4],\n",
       "        [4, 3, 2, 1],\n",
       "        [3, 1, 4, 2],\n",
       "        [2, 4, 1, 3]], dtype=int8), array([[1, 2, 3, 4],\n",
       "        [4, 3, 2, 1],\n",
       "        [3, 4, 1, 2],\n",
       "        [2, 1, 4, 3]], dtype=int8)}"
      ]
     },
     "execution_count": 5,
     "metadata": {},
     "output_type": "execute_result"
    }
   ],
   "source": [
    "solutions = Solutions()\n",
    "board = Board(2, 2)\n",
    "for i in range(4):\n",
    "    board.write(0, i, i+1)\n",
    "find_all_solutions(board, solutions)"
   ]
  },
  {
   "cell_type": "code",
   "execution_count": 6,
   "metadata": {
    "collapsed": true
   },
   "outputs": [],
   "source": [
    "solutions.save('../data/solutions.txt')"
   ]
  },
  {
   "cell_type": "code",
   "execution_count": 7,
   "metadata": {
    "collapsed": true
   },
   "outputs": [],
   "source": [
    "a = solutions.get_random_seed_solution()\n",
    "for i in range(8):\n",
    "    a = remove_cell(a, solutions, cells_to_remove=1)[0]"
   ]
  },
  {
   "cell_type": "code",
   "execution_count": 8,
   "metadata": {
    "collapsed": false
   },
   "outputs": [
    {
     "data": {
      "text/plain": [
       "[array([[1, 2, 3, 4],\n",
       "        [3, 4, 1, 2],\n",
       "        [2, 1, 4, 3],\n",
       "        [4, 3, 2, 1]], dtype=int8), array([[1, 2, 3, 4],\n",
       "        [3, 4, 1, 2],\n",
       "        [2, 3, 4, 1],\n",
       "        [4, 1, 2, 3]], dtype=int8), array([[1, 2, 3, 4],\n",
       "        [3, 4, 1, 2],\n",
       "        [4, 1, 2, 3],\n",
       "        [2, 3, 4, 1]], dtype=int8), array([[1, 2, 3, 4],\n",
       "        [3, 4, 1, 2],\n",
       "        [4, 3, 2, 1],\n",
       "        [2, 1, 4, 3]], dtype=int8), array([[1, 2, 3, 4],\n",
       "        [3, 4, 2, 1],\n",
       "        [2, 1, 4, 3],\n",
       "        [4, 3, 1, 2]], dtype=int8), array([[1, 2, 3, 4],\n",
       "        [3, 4, 2, 1],\n",
       "        [4, 3, 1, 2],\n",
       "        [2, 1, 4, 3]], dtype=int8), array([[1, 2, 3, 4],\n",
       "        [4, 3, 1, 2],\n",
       "        [2, 1, 4, 3],\n",
       "        [3, 4, 2, 1]], dtype=int8), array([[1, 2, 3, 4],\n",
       "        [4, 3, 1, 2],\n",
       "        [3, 4, 2, 1],\n",
       "        [2, 1, 4, 3]], dtype=int8), array([[1, 2, 3, 4],\n",
       "        [4, 3, 2, 1],\n",
       "        [2, 1, 4, 3],\n",
       "        [3, 4, 1, 2]], dtype=int8), array([[1, 2, 3, 4],\n",
       "        [4, 3, 2, 1],\n",
       "        [2, 4, 1, 3],\n",
       "        [3, 1, 4, 2]], dtype=int8), array([[1, 2, 3, 4],\n",
       "        [4, 3, 2, 1],\n",
       "        [3, 1, 4, 2],\n",
       "        [2, 4, 1, 3]], dtype=int8), array([[1, 2, 3, 4],\n",
       "        [4, 3, 2, 1],\n",
       "        [3, 4, 1, 2],\n",
       "        [2, 1, 4, 3]], dtype=int8)]"
      ]
     },
     "execution_count": 8,
     "metadata": {},
     "output_type": "execute_result"
    }
   ],
   "source": [
    "sorted(solutions.seed_solutions)"
   ]
  },
  {
   "cell_type": "code",
   "execution_count": 33,
   "metadata": {
    "collapsed": false
   },
   "outputs": [
    {
     "name": "stderr",
     "output_type": "stream",
     "text": [
      "\r",
      "  0%|          | 0/10 [00:00<?, ?it/s]"
     ]
    },
    {
     "name": "stdout",
     "output_type": "stream",
     "text": [
      "24185\n"
     ]
    },
    {
     "name": "stderr",
     "output_type": "stream",
     "text": [
      "100%|██████████| 10/10 [00:15<00:00,  1.57s/it]\n"
     ]
    }
   ],
   "source": [
    "print(len(solutions))\n",
    "for i in tqdm(range(10)):\n",
    "    sol = solutions.get_random_seed_solution(inverse_weight=True)\n",
    "#     print(sol)\n",
    "    generate_new_puzzle(sol, solutions)\n",
    "#     print(len(solutions))"
   ]
  },
  {
   "cell_type": "code",
   "execution_count": 30,
   "metadata": {
    "collapsed": false
   },
   "outputs": [
    {
     "data": {
      "text/plain": [
       "24185"
      ]
     },
     "execution_count": 30,
     "metadata": {},
     "output_type": "execute_result"
    }
   ],
   "source": [
    "len(solutions)"
   ]
  },
  {
   "cell_type": "code",
   "execution_count": 34,
   "metadata": {
    "collapsed": true
   },
   "outputs": [],
   "source": [
    "solutions.save('../data/solutions5.txt')"
   ]
  },
  {
   "cell_type": "code",
   "execution_count": 32,
   "metadata": {
    "collapsed": false
   },
   "outputs": [
    {
     "name": "stderr",
     "output_type": "stream",
     "text": [
      "100%|██████████| 13712/13712 [00:49<00:00, 274.55it/s]\n"
     ]
    }
   ],
   "source": [
    "for board, sol in tqdm([(b, s) for b, s in solutions.items() if s]):\n",
    "    if sol and board != sol:\n",
    "        all_sols = list(find_all_solutions(board, Solutions()))\n",
    "        assert len(all_sols) is 1 and all_sols[0] == sol"
   ]
  },
  {
   "cell_type": "code",
   "execution_count": null,
   "metadata": {
    "collapsed": false
   },
   "outputs": [
    {
     "name": "stderr",
     "output_type": "stream",
     "text": [
      " 78%|███████▊  | 8418/10745 [03:02<00:50, 46.07it/s]"
     ]
    }
   ],
   "source": [
    "for board, sol in tqdm([(b, s) for b, s in solutions.items() if not s]):\n",
    "    assert len(find_all_solutions(board, Solutions())) != 1"
   ]
  },
  {
   "cell_type": "code",
   "execution_count": 7,
   "metadata": {
    "collapsed": false
   },
   "outputs": [
    {
     "data": {
      "text/plain": [
       "array([[1, 2, 3, 4],\n",
       "       [4, 3, 2, 1],\n",
       "       [3, 1, 4, 2],\n",
       "       [2, 4, 1, 3]], dtype=int8)"
      ]
     },
     "execution_count": 7,
     "metadata": {},
     "output_type": "execute_result"
    }
   ],
   "source": [
    "solutions.get_random_seed_solution(inverse_weight=True)"
   ]
  },
  {
   "cell_type": "code",
   "execution_count": 6,
   "metadata": {
    "collapsed": false
   },
   "outputs": [
    {
     "data": {
      "text/plain": [
       "array([  0,   1,   2,   3,   4,   5,   6,   7,   8,   9,  10,  11,  12,\n",
       "        13,  14,  15,  16,  17,  18,  19,  20,  21,  22,  23,  24,  25,\n",
       "        26,  27,  28,  29,  30,  31,  32,  33,  34,  35,  36,  37,  38,\n",
       "        39,  40,  41,  42,  43,  44,  45,  46,  47,  48,  49,  50,  51,\n",
       "        52,  53,  54,  55,  56,  57,  58,  59,  60,  61,  62,  63,  64,\n",
       "        65,  66,  67,  68,  69,  70,  71,  72,  73,  74,  75,  76,  77,\n",
       "        78,  79,  80,  81,  82,  83,  84,  85,  86,  87,  88,  89,  90,\n",
       "        91,  92,  93,  94,  95,  96,  97,  98,  99, 100, 101, 102, 103,\n",
       "       104, 105, 106, 107, 108, 109, 110, 111, 112, 113, 114, 115, 116,\n",
       "       117, 118, 119, 120, 121, 122, 123, 124, 125, 126, 127, 128, 129,\n",
       "       130, 131, 132, 133, 134, 135, 136, 137, 138, 139, 140, 141, 142,\n",
       "       143, 144, 145, 146, 147, 148, 149, 150, 151, 152])"
      ]
     },
     "execution_count": 6,
     "metadata": {},
     "output_type": "execute_result"
    }
   ],
   "source": [
    "np.arange(len(list(solutions.seed_solutions)))"
   ]
  },
  {
   "cell_type": "code",
   "execution_count": 7,
   "metadata": {
    "collapsed": false
   },
   "outputs": [
    {
     "data": {
      "text/plain": [
       "{array([[1, 2, 3, 4],\n",
       "        [3, 4, 1, 2],\n",
       "        [2, 1, 4, 3],\n",
       "        [4, 3, 2, 1]], dtype=int8), array([[1, 2, 3, 4],\n",
       "        [3, 4, 1, 2],\n",
       "        [2, 3, 4, 1],\n",
       "        [4, 1, 2, 3]], dtype=int8), array([[1, 2, 3, 4],\n",
       "        [3, 4, 1, 2],\n",
       "        [4, 1, 2, 3],\n",
       "        [2, 3, 4, 1]], dtype=int8), array([[1, 2, 3, 4],\n",
       "        [3, 4, 1, 2],\n",
       "        [4, 3, 2, 1],\n",
       "        [2, 1, 4, 3]], dtype=int8), array([[1, 2, 3, 4],\n",
       "        [3, 4, 2, 1],\n",
       "        [2, 1, 4, 3],\n",
       "        [4, 3, 1, 2]], dtype=int8), array([[1, 2, 3, 4],\n",
       "        [3, 4, 2, 1],\n",
       "        [4, 3, 1, 2],\n",
       "        [2, 1, 4, 3]], dtype=int8), array([[1, 2, 3, 4],\n",
       "        [4, 3, 1, 2],\n",
       "        [2, 1, 4, 3],\n",
       "        [3, 4, 2, 1]], dtype=int8), array([[1, 2, 3, 4],\n",
       "        [4, 3, 1, 2],\n",
       "        [3, 4, 2, 1],\n",
       "        [2, 1, 4, 3]], dtype=int8), array([[1, 2, 3, 4],\n",
       "        [4, 3, 2, 1],\n",
       "        [2, 1, 4, 3],\n",
       "        [3, 4, 1, 2]], dtype=int8), array([[1, 2, 3, 4],\n",
       "        [4, 3, 2, 1],\n",
       "        [2, 4, 1, 3],\n",
       "        [3, 1, 4, 2]], dtype=int8), array([[1, 2, 3, 4],\n",
       "        [4, 3, 2, 1],\n",
       "        [3, 1, 4, 2],\n",
       "        [2, 4, 1, 3]], dtype=int8), array([[1, 2, 3, 4],\n",
       "        [4, 3, 2, 1],\n",
       "        [3, 4, 1, 2],\n",
       "        [2, 1, 4, 3]], dtype=int8), array([[1, 2, 4, 3],\n",
       "        [3, 4, 1, 2],\n",
       "        [2, 1, 3, 4],\n",
       "        [4, 3, 2, 1]], dtype=int8), array([[1, 2, 4, 3],\n",
       "        [3, 4, 1, 2],\n",
       "        [4, 3, 2, 1],\n",
       "        [2, 1, 3, 4]], dtype=int8), array([[1, 2, 4, 3],\n",
       "        [3, 4, 2, 1],\n",
       "        [2, 1, 3, 4],\n",
       "        [4, 3, 1, 2]], dtype=int8), array([[1, 2, 4, 3],\n",
       "        [3, 4, 2, 1],\n",
       "        [2, 3, 1, 4],\n",
       "        [4, 1, 3, 2]], dtype=int8), array([[1, 2, 4, 3],\n",
       "        [3, 4, 2, 1],\n",
       "        [4, 1, 3, 2],\n",
       "        [2, 3, 1, 4]], dtype=int8), array([[1, 2, 4, 3],\n",
       "        [3, 4, 2, 1],\n",
       "        [4, 3, 1, 2],\n",
       "        [2, 1, 3, 4]], dtype=int8), array([[1, 2, 4, 3],\n",
       "        [4, 3, 1, 2],\n",
       "        [2, 1, 3, 4],\n",
       "        [3, 4, 2, 1]], dtype=int8), array([[1, 2, 4, 3],\n",
       "        [4, 3, 1, 2],\n",
       "        [2, 4, 3, 1],\n",
       "        [3, 1, 2, 4]], dtype=int8), array([[1, 2, 4, 3],\n",
       "        [4, 3, 1, 2],\n",
       "        [3, 1, 2, 4],\n",
       "        [2, 4, 3, 1]], dtype=int8), array([[1, 2, 4, 3],\n",
       "        [4, 3, 1, 2],\n",
       "        [3, 4, 2, 1],\n",
       "        [2, 1, 3, 4]], dtype=int8), array([[1, 2, 4, 3],\n",
       "        [4, 3, 2, 1],\n",
       "        [2, 1, 3, 4],\n",
       "        [3, 4, 1, 2]], dtype=int8), array([[1, 2, 4, 3],\n",
       "        [4, 3, 2, 1],\n",
       "        [3, 4, 1, 2],\n",
       "        [2, 1, 3, 4]], dtype=int8), array([[1, 3, 2, 4],\n",
       "        [2, 4, 1, 3],\n",
       "        [3, 1, 4, 2],\n",
       "        [4, 2, 3, 1]], dtype=int8), array([[1, 3, 2, 4],\n",
       "        [2, 4, 1, 3],\n",
       "        [3, 2, 4, 1],\n",
       "        [4, 1, 3, 2]], dtype=int8), array([[1, 3, 2, 4],\n",
       "        [2, 4, 1, 3],\n",
       "        [4, 1, 3, 2],\n",
       "        [3, 2, 4, 1]], dtype=int8), array([[1, 3, 2, 4],\n",
       "        [2, 4, 1, 3],\n",
       "        [4, 2, 3, 1],\n",
       "        [3, 1, 4, 2]], dtype=int8), array([[1, 3, 2, 4],\n",
       "        [2, 4, 3, 1],\n",
       "        [3, 1, 4, 2],\n",
       "        [4, 2, 1, 3]], dtype=int8), array([[1, 3, 2, 4],\n",
       "        [2, 4, 3, 1],\n",
       "        [4, 2, 1, 3],\n",
       "        [3, 1, 4, 2]], dtype=int8), array([[1, 3, 2, 4],\n",
       "        [4, 2, 1, 3],\n",
       "        [2, 4, 3, 1],\n",
       "        [3, 1, 4, 2]], dtype=int8), array([[1, 3, 2, 4],\n",
       "        [4, 2, 1, 3],\n",
       "        [3, 1, 4, 2],\n",
       "        [2, 4, 3, 1]], dtype=int8), array([[1, 3, 2, 4],\n",
       "        [4, 2, 3, 1],\n",
       "        [2, 1, 4, 3],\n",
       "        [3, 4, 1, 2]], dtype=int8), array([[1, 3, 2, 4],\n",
       "        [4, 2, 3, 1],\n",
       "        [2, 4, 1, 3],\n",
       "        [3, 1, 4, 2]], dtype=int8), array([[1, 3, 2, 4],\n",
       "        [4, 2, 3, 1],\n",
       "        [3, 1, 4, 2],\n",
       "        [2, 4, 1, 3]], dtype=int8), array([[1, 3, 2, 4],\n",
       "        [4, 2, 3, 1],\n",
       "        [3, 4, 1, 2],\n",
       "        [2, 1, 4, 3]], dtype=int8), array([[1, 3, 4, 2],\n",
       "        [2, 4, 1, 3],\n",
       "        [3, 1, 2, 4],\n",
       "        [4, 2, 3, 1]], dtype=int8), array([[1, 3, 4, 2],\n",
       "        [2, 4, 1, 3],\n",
       "        [4, 2, 3, 1],\n",
       "        [3, 1, 2, 4]], dtype=int8), array([[1, 3, 4, 2],\n",
       "        [2, 4, 3, 1],\n",
       "        [3, 1, 2, 4],\n",
       "        [4, 2, 1, 3]], dtype=int8), array([[1, 3, 4, 2],\n",
       "        [2, 4, 3, 1],\n",
       "        [3, 2, 1, 4],\n",
       "        [4, 1, 2, 3]], dtype=int8), array([[1, 3, 4, 2],\n",
       "        [2, 4, 3, 1],\n",
       "        [4, 1, 2, 3],\n",
       "        [3, 2, 1, 4]], dtype=int8), array([[1, 3, 4, 2],\n",
       "        [2, 4, 3, 1],\n",
       "        [4, 2, 1, 3],\n",
       "        [3, 1, 2, 4]], dtype=int8), array([[1, 3, 4, 2],\n",
       "        [4, 2, 1, 3],\n",
       "        [2, 1, 3, 4],\n",
       "        [3, 4, 2, 1]], dtype=int8), array([[1, 3, 4, 2],\n",
       "        [4, 2, 1, 3],\n",
       "        [2, 4, 3, 1],\n",
       "        [3, 1, 2, 4]], dtype=int8), array([[1, 3, 4, 2],\n",
       "        [4, 2, 1, 3],\n",
       "        [3, 1, 2, 4],\n",
       "        [2, 4, 3, 1]], dtype=int8), array([[1, 3, 4, 2],\n",
       "        [4, 2, 1, 3],\n",
       "        [3, 4, 2, 1],\n",
       "        [2, 1, 3, 4]], dtype=int8), array([[1, 3, 4, 2],\n",
       "        [4, 2, 3, 1],\n",
       "        [2, 4, 1, 3],\n",
       "        [3, 1, 2, 4]], dtype=int8), array([[1, 3, 4, 2],\n",
       "        [4, 2, 3, 1],\n",
       "        [3, 1, 2, 4],\n",
       "        [2, 4, 1, 3]], dtype=int8), array([[1, 4, 2, 3],\n",
       "        [2, 3, 1, 4],\n",
       "        [3, 1, 4, 2],\n",
       "        [4, 2, 3, 1]], dtype=int8), array([[1, 4, 2, 3],\n",
       "        [2, 3, 1, 4],\n",
       "        [3, 2, 4, 1],\n",
       "        [4, 1, 3, 2]], dtype=int8), array([[1, 4, 2, 3],\n",
       "        [2, 3, 1, 4],\n",
       "        [4, 1, 3, 2],\n",
       "        [3, 2, 4, 1]], dtype=int8), array([[1, 4, 2, 3],\n",
       "        [2, 3, 1, 4],\n",
       "        [4, 2, 3, 1],\n",
       "        [3, 1, 4, 2]], dtype=int8), array([[1, 4, 2, 3],\n",
       "        [2, 3, 4, 1],\n",
       "        [3, 2, 1, 4],\n",
       "        [4, 1, 3, 2]], dtype=int8), array([[1, 4, 2, 3],\n",
       "        [2, 3, 4, 1],\n",
       "        [4, 1, 3, 2],\n",
       "        [3, 2, 1, 4]], dtype=int8), array([[1, 4, 2, 3],\n",
       "        [3, 2, 1, 4],\n",
       "        [2, 3, 4, 1],\n",
       "        [4, 1, 3, 2]], dtype=int8), array([[1, 4, 2, 3],\n",
       "        [3, 2, 1, 4],\n",
       "        [4, 1, 3, 2],\n",
       "        [2, 3, 4, 1]], dtype=int8), array([[1, 4, 2, 3],\n",
       "        [3, 2, 4, 1],\n",
       "        [2, 1, 3, 4],\n",
       "        [4, 3, 1, 2]], dtype=int8), array([[1, 4, 2, 3],\n",
       "        [3, 2, 4, 1],\n",
       "        [2, 3, 1, 4],\n",
       "        [4, 1, 3, 2]], dtype=int8), array([[1, 4, 2, 3],\n",
       "        [3, 2, 4, 1],\n",
       "        [4, 1, 3, 2],\n",
       "        [2, 3, 1, 4]], dtype=int8), array([[1, 4, 2, 3],\n",
       "        [3, 2, 4, 1],\n",
       "        [4, 3, 1, 2],\n",
       "        [2, 1, 3, 4]], dtype=int8), array([[1, 4, 3, 2],\n",
       "        [2, 3, 1, 4],\n",
       "        [3, 2, 4, 1],\n",
       "        [4, 1, 2, 3]], dtype=int8), array([[1, 4, 3, 2],\n",
       "        [2, 3, 1, 4],\n",
       "        [4, 1, 2, 3],\n",
       "        [3, 2, 4, 1]], dtype=int8), array([[1, 4, 3, 2],\n",
       "        [2, 3, 4, 1],\n",
       "        [3, 1, 2, 4],\n",
       "        [4, 2, 1, 3]], dtype=int8), array([[1, 4, 3, 2],\n",
       "        [2, 3, 4, 1],\n",
       "        [3, 2, 1, 4],\n",
       "        [4, 1, 2, 3]], dtype=int8), array([[1, 4, 3, 2],\n",
       "        [2, 3, 4, 1],\n",
       "        [4, 1, 2, 3],\n",
       "        [3, 2, 1, 4]], dtype=int8), array([[1, 4, 3, 2],\n",
       "        [2, 3, 4, 1],\n",
       "        [4, 2, 1, 3],\n",
       "        [3, 1, 2, 4]], dtype=int8), array([[1, 4, 3, 2],\n",
       "        [3, 2, 1, 4],\n",
       "        [2, 1, 4, 3],\n",
       "        [4, 3, 2, 1]], dtype=int8), array([[1, 4, 3, 2],\n",
       "        [3, 2, 1, 4],\n",
       "        [2, 3, 4, 1],\n",
       "        [4, 1, 2, 3]], dtype=int8), array([[1, 4, 3, 2],\n",
       "        [3, 2, 1, 4],\n",
       "        [4, 1, 2, 3],\n",
       "        [2, 3, 4, 1]], dtype=int8), array([[1, 4, 3, 2],\n",
       "        [3, 2, 1, 4],\n",
       "        [4, 3, 2, 1],\n",
       "        [2, 1, 4, 3]], dtype=int8), array([[1, 4, 3, 2],\n",
       "        [3, 2, 4, 1],\n",
       "        [2, 3, 1, 4],\n",
       "        [4, 1, 2, 3]], dtype=int8), array([[1, 4, 3, 2],\n",
       "        [3, 2, 4, 1],\n",
       "        [4, 1, 2, 3],\n",
       "        [2, 3, 1, 4]], dtype=int8), array([[2, 1, 3, 4],\n",
       "        [3, 4, 1, 2],\n",
       "        [1, 2, 4, 3],\n",
       "        [4, 3, 2, 1]], dtype=int8), array([[2, 1, 3, 4],\n",
       "        [3, 4, 1, 2],\n",
       "        [4, 3, 2, 1],\n",
       "        [1, 2, 4, 3]], dtype=int8), array([[2, 1, 3, 4],\n",
       "        [3, 4, 2, 1],\n",
       "        [1, 2, 4, 3],\n",
       "        [4, 3, 1, 2]], dtype=int8), array([[2, 1, 3, 4],\n",
       "        [3, 4, 2, 1],\n",
       "        [1, 3, 4, 2],\n",
       "        [4, 2, 1, 3]], dtype=int8), array([[2, 1, 3, 4],\n",
       "        [3, 4, 2, 1],\n",
       "        [4, 2, 1, 3],\n",
       "        [1, 3, 4, 2]], dtype=int8), array([[2, 1, 3, 4],\n",
       "        [3, 4, 2, 1],\n",
       "        [4, 3, 1, 2],\n",
       "        [1, 2, 4, 3]], dtype=int8), array([[2, 1, 3, 4],\n",
       "        [4, 3, 1, 2],\n",
       "        [1, 2, 4, 3],\n",
       "        [3, 4, 2, 1]], dtype=int8), array([[2, 1, 3, 4],\n",
       "        [4, 3, 1, 2],\n",
       "        [1, 4, 2, 3],\n",
       "        [3, 2, 4, 1]], dtype=int8), array([[2, 1, 3, 4],\n",
       "        [4, 3, 1, 2],\n",
       "        [3, 2, 4, 1],\n",
       "        [1, 4, 2, 3]], dtype=int8), array([[2, 1, 3, 4],\n",
       "        [4, 3, 1, 2],\n",
       "        [3, 4, 2, 1],\n",
       "        [1, 2, 4, 3]], dtype=int8), array([[2, 1, 3, 4],\n",
       "        [4, 3, 2, 1],\n",
       "        [1, 2, 4, 3],\n",
       "        [3, 4, 1, 2]], dtype=int8), array([[2, 1, 3, 4],\n",
       "        [4, 3, 2, 1],\n",
       "        [3, 4, 1, 2],\n",
       "        [1, 2, 4, 3]], dtype=int8), array([[2, 1, 4, 3],\n",
       "        [3, 4, 1, 2],\n",
       "        [1, 2, 3, 4],\n",
       "        [4, 3, 2, 1]], dtype=int8), array([[2, 1, 4, 3],\n",
       "        [3, 4, 1, 2],\n",
       "        [1, 3, 2, 4],\n",
       "        [4, 2, 3, 1]], dtype=int8), array([[2, 1, 4, 3],\n",
       "        [3, 4, 1, 2],\n",
       "        [4, 2, 3, 1],\n",
       "        [1, 3, 2, 4]], dtype=int8), array([[2, 1, 4, 3],\n",
       "        [3, 4, 1, 2],\n",
       "        [4, 3, 2, 1],\n",
       "        [1, 2, 3, 4]], dtype=int8), array([[2, 1, 4, 3],\n",
       "        [3, 4, 2, 1],\n",
       "        [1, 2, 3, 4],\n",
       "        [4, 3, 1, 2]], dtype=int8), array([[2, 1, 4, 3],\n",
       "        [3, 4, 2, 1],\n",
       "        [4, 3, 1, 2],\n",
       "        [1, 2, 3, 4]], dtype=int8), array([[2, 3, 1, 4],\n",
       "        [1, 4, 2, 3],\n",
       "        [3, 1, 4, 2],\n",
       "        [4, 2, 3, 1]], dtype=int8), array([[2, 3, 1, 4],\n",
       "        [1, 4, 2, 3],\n",
       "        [3, 2, 4, 1],\n",
       "        [4, 1, 3, 2]], dtype=int8), array([[2, 3, 1, 4],\n",
       "        [1, 4, 2, 3],\n",
       "        [4, 1, 3, 2],\n",
       "        [3, 2, 4, 1]], dtype=int8), array([[2, 3, 1, 4],\n",
       "        [1, 4, 2, 3],\n",
       "        [4, 2, 3, 1],\n",
       "        [3, 1, 4, 2]], dtype=int8), array([[2, 3, 1, 4],\n",
       "        [1, 4, 3, 2],\n",
       "        [3, 2, 4, 1],\n",
       "        [4, 1, 2, 3]], dtype=int8), array([[2, 3, 1, 4],\n",
       "        [1, 4, 3, 2],\n",
       "        [4, 1, 2, 3],\n",
       "        [3, 2, 4, 1]], dtype=int8), array([[2, 3, 1, 4],\n",
       "        [4, 1, 2, 3],\n",
       "        [1, 4, 3, 2],\n",
       "        [3, 2, 4, 1]], dtype=int8), array([[2, 3, 1, 4],\n",
       "        [4, 1, 2, 3],\n",
       "        [3, 2, 4, 1],\n",
       "        [1, 4, 3, 2]], dtype=int8), array([[2, 3, 1, 4],\n",
       "        [4, 1, 3, 2],\n",
       "        [1, 2, 4, 3],\n",
       "        [3, 4, 2, 1]], dtype=int8), array([[2, 3, 1, 4],\n",
       "        [4, 1, 3, 2],\n",
       "        [1, 4, 2, 3],\n",
       "        [3, 2, 4, 1]], dtype=int8), array([[2, 3, 1, 4],\n",
       "        [4, 1, 3, 2],\n",
       "        [3, 2, 4, 1],\n",
       "        [1, 4, 2, 3]], dtype=int8), array([[2, 3, 1, 4],\n",
       "        [4, 1, 3, 2],\n",
       "        [3, 4, 2, 1],\n",
       "        [1, 2, 4, 3]], dtype=int8), array([[3, 1, 2, 4],\n",
       "        [2, 4, 1, 3],\n",
       "        [1, 3, 4, 2],\n",
       "        [4, 2, 3, 1]], dtype=int8), array([[3, 1, 2, 4],\n",
       "        [2, 4, 1, 3],\n",
       "        [4, 2, 3, 1],\n",
       "        [1, 3, 4, 2]], dtype=int8), array([[3, 1, 2, 4],\n",
       "        [2, 4, 3, 1],\n",
       "        [1, 2, 4, 3],\n",
       "        [4, 3, 1, 2]], dtype=int8), array([[3, 1, 2, 4],\n",
       "        [2, 4, 3, 1],\n",
       "        [1, 3, 4, 2],\n",
       "        [4, 2, 1, 3]], dtype=int8), array([[3, 1, 2, 4],\n",
       "        [2, 4, 3, 1],\n",
       "        [4, 2, 1, 3],\n",
       "        [1, 3, 4, 2]], dtype=int8), array([[3, 1, 2, 4],\n",
       "        [2, 4, 3, 1],\n",
       "        [4, 3, 1, 2],\n",
       "        [1, 2, 4, 3]], dtype=int8), array([[3, 1, 2, 4],\n",
       "        [4, 2, 1, 3],\n",
       "        [1, 3, 4, 2],\n",
       "        [2, 4, 3, 1]], dtype=int8), array([[3, 1, 2, 4],\n",
       "        [4, 2, 1, 3],\n",
       "        [1, 4, 3, 2],\n",
       "        [2, 3, 4, 1]], dtype=int8), array([[3, 1, 2, 4],\n",
       "        [4, 2, 1, 3],\n",
       "        [2, 3, 4, 1],\n",
       "        [1, 4, 3, 2]], dtype=int8), array([[3, 1, 2, 4],\n",
       "        [4, 2, 1, 3],\n",
       "        [2, 4, 3, 1],\n",
       "        [1, 3, 4, 2]], dtype=int8), array([[3, 1, 2, 4],\n",
       "        [4, 2, 3, 1],\n",
       "        [1, 3, 4, 2],\n",
       "        [2, 4, 1, 3]], dtype=int8), array([[3, 1, 2, 4],\n",
       "        [4, 2, 3, 1],\n",
       "        [2, 4, 1, 3],\n",
       "        [1, 3, 4, 2]], dtype=int8), array([[3, 2, 1, 4],\n",
       "        [1, 4, 2, 3],\n",
       "        [2, 3, 4, 1],\n",
       "        [4, 1, 3, 2]], dtype=int8), array([[3, 2, 1, 4],\n",
       "        [1, 4, 2, 3],\n",
       "        [4, 1, 3, 2],\n",
       "        [2, 3, 4, 1]], dtype=int8), array([[3, 2, 1, 4],\n",
       "        [1, 4, 3, 2],\n",
       "        [2, 1, 4, 3],\n",
       "        [4, 3, 2, 1]], dtype=int8), array([[3, 2, 1, 4],\n",
       "        [1, 4, 3, 2],\n",
       "        [2, 3, 4, 1],\n",
       "        [4, 1, 2, 3]], dtype=int8), array([[3, 2, 1, 4],\n",
       "        [1, 4, 3, 2],\n",
       "        [4, 1, 2, 3],\n",
       "        [2, 3, 4, 1]], dtype=int8), array([[3, 2, 1, 4],\n",
       "        [1, 4, 3, 2],\n",
       "        [4, 3, 2, 1],\n",
       "        [2, 1, 4, 3]], dtype=int8), array([[3, 2, 1, 4],\n",
       "        [4, 1, 2, 3],\n",
       "        [1, 3, 4, 2],\n",
       "        [2, 4, 3, 1]], dtype=int8), array([[3, 2, 1, 4],\n",
       "        [4, 1, 2, 3],\n",
       "        [1, 4, 3, 2],\n",
       "        [2, 3, 4, 1]], dtype=int8), array([[3, 2, 1, 4],\n",
       "        [4, 1, 2, 3],\n",
       "        [2, 3, 4, 1],\n",
       "        [1, 4, 3, 2]], dtype=int8), array([[3, 2, 1, 4],\n",
       "        [4, 1, 2, 3],\n",
       "        [2, 4, 3, 1],\n",
       "        [1, 3, 4, 2]], dtype=int8), array([[3, 2, 1, 4],\n",
       "        [4, 1, 3, 2],\n",
       "        [1, 4, 2, 3],\n",
       "        [2, 3, 4, 1]], dtype=int8), array([[3, 2, 1, 4],\n",
       "        [4, 1, 3, 2],\n",
       "        [2, 3, 4, 1],\n",
       "        [1, 4, 2, 3]], dtype=int8), array([[3, 2, 4, 1],\n",
       "        [1, 4, 2, 3],\n",
       "        [2, 1, 3, 4],\n",
       "        [4, 3, 1, 2]], dtype=int8), array([[3, 2, 4, 1],\n",
       "        [1, 4, 2, 3],\n",
       "        [2, 3, 1, 4],\n",
       "        [4, 1, 3, 2]], dtype=int8), array([[3, 2, 4, 1],\n",
       "        [1, 4, 3, 2],\n",
       "        [2, 3, 1, 4],\n",
       "        [4, 1, 2, 3]], dtype=int8), array([[4, 1, 2, 3],\n",
       "        [3, 2, 1, 4],\n",
       "        [1, 3, 4, 2],\n",
       "        [2, 4, 3, 1]], dtype=int8), array([[4, 1, 2, 3],\n",
       "        [3, 2, 1, 4],\n",
       "        [1, 4, 3, 2],\n",
       "        [2, 3, 4, 1]], dtype=int8), array([[4, 1, 2, 3],\n",
       "        [3, 2, 1, 4],\n",
       "        [2, 3, 4, 1],\n",
       "        [1, 4, 3, 2]], dtype=int8), array([[4, 1, 2, 3],\n",
       "        [3, 2, 1, 4],\n",
       "        [2, 4, 3, 1],\n",
       "        [1, 3, 4, 2]], dtype=int8), array([[4, 1, 2, 3],\n",
       "        [3, 2, 4, 1],\n",
       "        [1, 4, 3, 2],\n",
       "        [2, 3, 1, 4]], dtype=int8), array([[4, 1, 2, 3],\n",
       "        [3, 2, 4, 1],\n",
       "        [2, 3, 1, 4],\n",
       "        [1, 4, 3, 2]], dtype=int8), array([[4, 1, 3, 2],\n",
       "        [3, 2, 1, 4],\n",
       "        [1, 4, 2, 3],\n",
       "        [2, 3, 4, 1]], dtype=int8), array([[4, 1, 3, 2],\n",
       "        [3, 2, 1, 4],\n",
       "        [2, 3, 4, 1],\n",
       "        [1, 4, 2, 3]], dtype=int8), array([[4, 1, 3, 2],\n",
       "        [3, 2, 4, 1],\n",
       "        [1, 3, 2, 4],\n",
       "        [2, 4, 1, 3]], dtype=int8), array([[4, 1, 3, 2],\n",
       "        [3, 2, 4, 1],\n",
       "        [1, 4, 2, 3],\n",
       "        [2, 3, 1, 4]], dtype=int8), array([[4, 1, 3, 2],\n",
       "        [3, 2, 4, 1],\n",
       "        [2, 3, 1, 4],\n",
       "        [1, 4, 2, 3]], dtype=int8), array([[4, 1, 3, 2],\n",
       "        [3, 2, 4, 1],\n",
       "        [2, 4, 1, 3],\n",
       "        [1, 3, 2, 4]], dtype=int8), array([[4, 2, 1, 3],\n",
       "        [3, 1, 2, 4],\n",
       "        [1, 3, 4, 2],\n",
       "        [2, 4, 3, 1]], dtype=int8), array([[4, 2, 1, 3],\n",
       "        [3, 1, 2, 4],\n",
       "        [1, 4, 3, 2],\n",
       "        [2, 3, 4, 1]], dtype=int8), array([[4, 2, 1, 3],\n",
       "        [3, 1, 2, 4],\n",
       "        [2, 3, 4, 1],\n",
       "        [1, 4, 3, 2]], dtype=int8), array([[4, 2, 1, 3],\n",
       "        [3, 1, 2, 4],\n",
       "        [2, 4, 3, 1],\n",
       "        [1, 3, 4, 2]], dtype=int8), array([[4, 2, 1, 3],\n",
       "        [3, 1, 4, 2],\n",
       "        [1, 3, 2, 4],\n",
       "        [2, 4, 3, 1]], dtype=int8), array([[4, 2, 1, 3],\n",
       "        [3, 1, 4, 2],\n",
       "        [2, 4, 3, 1],\n",
       "        [1, 3, 2, 4]], dtype=int8), array([[4, 2, 3, 1],\n",
       "        [3, 1, 2, 4],\n",
       "        [1, 3, 4, 2],\n",
       "        [2, 4, 1, 3]], dtype=int8), array([[4, 2, 3, 1],\n",
       "        [3, 1, 2, 4],\n",
       "        [2, 4, 1, 3],\n",
       "        [1, 3, 4, 2]], dtype=int8), array([[4, 2, 3, 1],\n",
       "        [3, 1, 4, 2],\n",
       "        [1, 3, 2, 4],\n",
       "        [2, 4, 1, 3]], dtype=int8), array([[4, 2, 3, 1],\n",
       "        [3, 1, 4, 2],\n",
       "        [1, 4, 2, 3],\n",
       "        [2, 3, 1, 4]], dtype=int8), array([[4, 2, 3, 1],\n",
       "        [3, 1, 4, 2],\n",
       "        [2, 3, 1, 4],\n",
       "        [1, 4, 2, 3]], dtype=int8), array([[4, 2, 3, 1],\n",
       "        [3, 1, 4, 2],\n",
       "        [2, 4, 1, 3],\n",
       "        [1, 3, 2, 4]], dtype=int8)}"
      ]
     },
     "execution_count": 7,
     "metadata": {},
     "output_type": "execute_result"
    }
   ],
   "source": [
    "solutions.seed_solutions"
   ]
  },
  {
   "cell_type": "code",
   "execution_count": 7,
   "metadata": {
    "collapsed": false
   },
   "outputs": [
    {
     "data": {
      "text/plain": [
       "4"
      ]
     },
     "execution_count": 7,
     "metadata": {},
     "output_type": "execute_result"
    }
   ],
   "source": [
    "np.random.choice(np.arange(5))"
   ]
  },
  {
   "cell_type": "code",
   "execution_count": null,
   "metadata": {
    "collapsed": true
   },
   "outputs": [],
   "source": []
  }
 ],
 "metadata": {
  "kernelspec": {
   "display_name": "Python 3",
   "language": "python",
   "name": "python3"
  },
  "language_info": {
   "codemirror_mode": {
    "name": "ipython",
    "version": 3
   },
   "file_extension": ".py",
   "mimetype": "text/x-python",
   "name": "python",
   "nbconvert_exporter": "python",
   "pygments_lexer": "ipython3",
   "version": "3.6.6"
  }
 },
 "nbformat": 4,
 "nbformat_minor": 2
}
