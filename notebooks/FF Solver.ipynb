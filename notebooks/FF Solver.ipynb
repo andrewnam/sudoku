{
 "cells": [
  {
   "cell_type": "code",
   "execution_count": 31,
   "metadata": {
    "collapsed": false
   },
   "outputs": [],
   "source": [
    "%matplotlib inline\n",
    "\n",
    "import torch\n",
    "import torch.nn as nn\n",
    "import torch.optim as optim\n",
    "import numpy as np\n",
    "import itertools\n",
    "import random\n",
    "import matplotlib\n",
    "import matplotlib.pyplot as plt\n",
    "from tqdm import tqdm, tqdm_notebook\n",
    "\n",
    "import sys\n",
    "sys.path.append('/Users/andrew/Desktop/sudoku/src/sudoku')\n",
    "\n",
    "from board import Board\n",
    "from solutions import Solutions\n",
    "import andrew_utils as utils"
   ]
  },
  {
   "cell_type": "code",
   "execution_count": 2,
   "metadata": {
    "collapsed": false
   },
   "outputs": [
    {
     "data": {
      "text/plain": [
       "<torch._C.Generator at 0x1137198d0>"
      ]
     },
     "execution_count": 2,
     "metadata": {},
     "output_type": "execute_result"
    }
   ],
   "source": [
    "# set random seed to 0\n",
    "np.random.seed(0)\n",
    "torch.manual_seed(0)"
   ]
  },
  {
   "cell_type": "code",
   "execution_count": 3,
   "metadata": {
    "collapsed": false
   },
   "outputs": [],
   "source": [
    "torch.set_default_tensor_type('torch.DoubleTensor')"
   ]
  },
  {
   "cell_type": "code",
   "execution_count": 4,
   "metadata": {
    "collapsed": true
   },
   "outputs": [],
   "source": [
    "def vector_encode(board_string):\n",
    "    dim_x, dim_y, board = board_string.split('.')\n",
    "    max_digit = int(dim_x) * int(dim_y)\n",
    "    vector = np.zeros((max_digit*len(board),), dtype=np.float64)\n",
    "    for i in range(len(board)):\n",
    "        if board[i] != '0':\n",
    "            vector[i*max_digit + int(board[i]) - 1] = 1\n",
    "        else:\n",
    "            vector[i*max_digit:(i+1)*max_digit] = 1/max_digit\n",
    "    return vector\n",
    "\n",
    "def get_board_entries(board_string):\n",
    "    return np.array(list(board_string[4:]), dtype=np.int)"
   ]
  },
  {
   "cell_type": "code",
   "execution_count": 5,
   "metadata": {
    "collapsed": true
   },
   "outputs": [],
   "source": [
    "def shuffle_numbers(seed_board_string, number_orders):\n",
    "    \"\"\"\n",
    "    Given a seed_board string and a string with the new order for top row of board, generates derivative board\n",
    "    e.g.\n",
    "    >>> shuffle_numbers('2.2.0204030120400400', ['2143'])\n",
    "    ['2.2.0103040210300300']\n",
    "    \"\"\"\n",
    "    max_digit = int(seed_board_string[0]) * int(seed_board_string[2])\n",
    "    digits = seed_board_string[4:]\n",
    "    assert np.all([int(digits[i]) == i+1 or int(digits[i]) == 0 for i in range(max_digit)]) # check if seed\n",
    "    if type(number_orders) == str:\n",
    "        number_orders = [number_orders]\n",
    "        \n",
    "    all_digits = {str(i) for i in range(1, max_digit+1)}\n",
    "    shuffled_board_strings = []\n",
    "    for number_order in number_orders:\n",
    "        assert len(number_order) == max_digit\n",
    "        mapping = {str(i+1): str(number_order[i]) for i in range(max_digit)}\n",
    "        assert set(mapping.values()) == all_digits\n",
    "        shuffled_board_string = seed_board_string[:4]\n",
    "        shuffled_board_string += ''.join([mapping[d] if d != '0' else '0' for d in digits])\n",
    "        shuffled_board_strings.append(shuffled_board_string)\n",
    "    \n",
    "    return shuffled_board_strings"
   ]
  },
  {
   "cell_type": "code",
   "execution_count": 6,
   "metadata": {
    "collapsed": false
   },
   "outputs": [],
   "source": [
    "def generate_derivatives(puzzles, solutions, num_derivatives=0):\n",
    "    \"\"\"\n",
    "    puzzles: list of seed Boards\n",
    "    solutions: Solutions\n",
    "    num_derivatives: max number of derivatives to generate per seed. Default: 0 -> all\n",
    "    returns\n",
    "    derivative_puzzles: dict - seed board string -> list of derivative board strings\n",
    "    derivative_puzzle_solutions: dict - derivative board string -> derivative board solution string\n",
    "    \"\"\"\n",
    "    max_digit = puzzles[0].board.shape[0]\n",
    "    all_digits_string = ''.join([str(i) for i in range(1, max_digit+1)])\n",
    "    permutations = [''.join(lst) for lst in itertools.permutations(all_digits_string, max_digit)]\n",
    "    random.shuffle(permutations)\n",
    "    if num_derivatives > 0:\n",
    "        permutations = permutations[:num_derivatives]\n",
    "    derivative_puzzles = {}\n",
    "    derivative_puzzle_solutions = {}\n",
    "    for puzzle in puzzles:\n",
    "        puzzle_string = puzzle.stringify()\n",
    "        derivatives = shuffle_numbers(puzzle_string, permutations)\n",
    "        derivative_solutions = shuffle_numbers(solutions[puzzle].stringify(), permutations)\n",
    "        derivative_puzzles[puzzle_string] = derivatives\n",
    "        for i in range(len(permutations)):\n",
    "            derivative_puzzle_solutions[derivatives[i]] = derivative_solutions[i]\n",
    "    return derivative_puzzles, derivative_puzzle_solutions"
   ]
  },
  {
   "cell_type": "code",
   "execution_count": 7,
   "metadata": {
    "collapsed": true
   },
   "outputs": [],
   "source": [
    "def split_data(data, boundaries):\n",
    "    \"\"\"\n",
    "    Shuffles and splits data according to the sorted boundaries set\n",
    "    \"\"\"\n",
    "    assert boundaries[0] > 0 and boundaries[-1] < 1 and boundaries == sorted(boundaries)\n",
    "    assert len(data) > len(boundaries)\n",
    "    \n",
    "    data = list(data)\n",
    "    np.random.shuffle(data)\n",
    "    \n",
    "    split = []\n",
    "    last_boundary = 0\n",
    "    for boundary in boundaries + [1]:\n",
    "        next_boundary = int(len(data) * boundary)\n",
    "        split.append(data[last_boundary:next_boundary])\n",
    "        last_boundary = next_boundary\n",
    "    return split"
   ]
  },
  {
   "cell_type": "code",
   "execution_count": 8,
   "metadata": {
    "collapsed": false
   },
   "outputs": [],
   "source": [
    "def generate_dataset(seed_puzzles, solutions, boundaries, num_derivatives=0):\n",
    "    \"\"\"\n",
    "    puzzles: list of puzzle\n",
    "    \"\"\"\n",
    "    derivative_puzzles, derivative_puzzle_solutions = generate_derivatives(seed_puzzles, solutions, num_derivatives)\n",
    "\n",
    "    train_seeds, valid_seeds, test_seeds = split_data([p.stringify() for p in seed_puzzles], boundaries)\n",
    "    train_seeds_derivs = utils.flatten([derivative_puzzles[puzzle] for puzzle in train_seeds])\n",
    "    train_puzzles, valid_deriv_puzzles, test_deriv_puzzles = split_data(train_seeds_derivs, boundaries)\n",
    "\n",
    "    train = {puzzle: derivative_puzzle_solutions[puzzle] for puzzle in train_puzzles}\n",
    "    valid_deriv = {puzzle: derivative_puzzle_solutions[puzzle] for puzzle in valid_deriv_puzzles}\n",
    "    test_deriv = {puzzle: derivative_puzzle_solutions[puzzle] for puzzle in test_deriv_puzzles}\n",
    "\n",
    "    valid_nonderiv_puzzles = utils.flatten([derivative_puzzles[puzzle] for puzzle in valid_seeds])\n",
    "    valid_nonderiv = {puzzle: derivative_puzzle_solutions[puzzle] for puzzle in valid_nonderiv_puzzles}\n",
    "    test_nonderiv_puzzles = utils.flatten([derivative_puzzles[puzzle] for puzzle in test_seeds])\n",
    "    test_nonderiv = {puzzle: derivative_puzzle_solutions[puzzle] for puzzle in test_nonderiv_puzzles}\n",
    "\n",
    "    # sanity check\n",
    "    assert not train.keys() & valid_deriv.keys()\n",
    "    assert not train.keys() & test_deriv.keys()\n",
    "    assert not train.keys() & valid_nonderiv.keys()\n",
    "    assert not train.keys() & test_nonderiv.keys()\n",
    "    assert not valid_deriv.keys() & test_deriv.keys()\n",
    "    assert not valid_deriv.keys() & valid_nonderiv.keys()\n",
    "    assert not valid_deriv.keys() & test_nonderiv.keys()\n",
    "    assert not test_deriv.keys() & valid_nonderiv.keys()\n",
    "    assert not test_deriv.keys() & test_nonderiv.keys()\n",
    "    assert not valid_nonderiv.keys() & test_nonderiv.keys()\n",
    "    \n",
    "    return train, valid_deriv, test_deriv, valid_nonderiv, test_nonderiv"
   ]
  },
  {
   "cell_type": "code",
   "execution_count": 9,
   "metadata": {
    "collapsed": false
   },
   "outputs": [
    {
     "name": "stdout",
     "output_type": "stream",
     "text": [
      "4 64\n",
      "5 357\n",
      "6 883\n",
      "7 1584\n",
      "8 2384\n",
      "9 3309\n",
      "10 4149\n",
      "11 4754\n",
      "12 4841\n",
      "13 3741\n",
      "14 1391\n",
      "15 192\n",
      "16 12\n"
     ]
    }
   ],
   "source": [
    "solutions = Solutions('/Users/andrew/Desktop/sudoku/data/solutions5.txt')\n",
    "puzzles = solutions.get_puzzles_by_hints()\n",
    "for hints in sorted(puzzles):\n",
    "    print(hints, len(puzzles[hints]))"
   ]
  },
  {
   "cell_type": "code",
   "execution_count": 10,
   "metadata": {
    "collapsed": true
   },
   "outputs": [],
   "source": [
    "class Linear(nn.Module):\n",
    "    def __init__(self, max_digit):\n",
    "        super(Linear, self).__init__()\n",
    "        self.max_digit = max_digit\n",
    "        self.linear = nn.Linear(self.max_digit**3, self.max_digit**3)\n",
    "        self.softmax = nn.Softmax(dim=2)\n",
    "\n",
    "    def forward(self, X):\n",
    "        pre_output = self.linear(X).reshape(X.shape[0], self.max_digit**2, self.max_digit)\n",
    "        return self.softmax(pre_output)"
   ]
  },
  {
   "cell_type": "code",
   "execution_count": 20,
   "metadata": {
    "collapsed": true
   },
   "outputs": [],
   "source": [
    "class FeedForward(nn.Module):\n",
    "    def __init__(self, max_digit, hidden_layer_sizes):\n",
    "        super(FeedForward, self).__init__()\n",
    "        self.max_digit = max_digit\n",
    "        self.hidden_layer_sizes = hidden_layer_sizes\n",
    "        \n",
    "        last_layer_size = self.max_digit**3\n",
    "        self.layers = nn.ModuleList() \n",
    "        for size in hidden_layer_sizes:\n",
    "            self.layers.append(nn.Linear(last_layer_size, size))\n",
    "            last_layer_size = size\n",
    "        self.layers.append(nn.Linear(last_layer_size, self.max_digit**3))\n",
    "        self.softmax = nn.Softmax(dim=2)\n",
    "\n",
    "    def forward(self, X):\n",
    "        vector = X\n",
    "        for layer in self.layers:\n",
    "            vector = layer(vector)\n",
    "        pre_output = vector.reshape(X.shape[0], self.max_digit**2, self.max_digit)\n",
    "        return self.softmax(pre_output)"
   ]
  },
  {
   "cell_type": "code",
   "execution_count": 11,
   "metadata": {
    "collapsed": true
   },
   "outputs": [],
   "source": [
    "def generate_XY(puzzles):\n",
    "    \"\"\"\n",
    "    puzzles: dict - puzzle board string -> solution board string\n",
    "    \"\"\"\n",
    "    keys = sorted(puzzles)\n",
    "    X = torch.tensor([vector_encode(p) for p in keys])\n",
    "    Y = torch.tensor([get_board_entries(puzzles[p]) for p in keys], dtype=torch.int64) - 1\n",
    "    return X, Y\n",
    "\n",
    "def get_performance(model, X, Y):\n",
    "    prediction = model(X)\n",
    "    total_cells = Y.shape[0]*Y.shape[1]\n",
    "    flattened_prediction = prediction.reshape(total_cells, max_digit)\n",
    "    flattened_Y = Y.reshape(total_cells)\n",
    "    loss = nn.functional.nll_loss(flattened_prediction, flattened_Y)\n",
    "    return loss, get_model_accuracy(prediction, Y)"
   ]
  },
  {
   "cell_type": "code",
   "execution_count": 24,
   "metadata": {
    "collapsed": true
   },
   "outputs": [],
   "source": [
    "def flatten_prediction(pred_distributions):\n",
    "    a0, a1, a2 = pred_distributions.shape\n",
    "    return pred_distributions.reshape(a0, a1*a2)\n",
    "\n",
    "def get_predicted_boards(pred_distributions):\n",
    "    return np.argmax(pred_distributions.detach().numpy(), axis=2)\n",
    "\n",
    "def count_correct_cells(pred_distributions, solutions):\n",
    "    return torch.sum(get_predicted_boards(pred_distributions) == solutions, dim=1)\n",
    "\n",
    "def get_board_accuracies(pred_distributions, solutions):\n",
    "    return torch.tensor(count_correct_cells(pred_distributions, solutions), dtype=torch.float32) / solutions.shape[1]\n",
    "\n",
    "def get_model_accuracy(pred_distributions, solutions):\n",
    "    return np.average(get_board_accuracies(pred_distributions, solutions) == 1)"
   ]
  },
  {
   "cell_type": "code",
   "execution_count": 13,
   "metadata": {
    "collapsed": false
   },
   "outputs": [
    {
     "name": "stdout",
     "output_type": "stream",
     "text": [
      "\n"
     ]
    },
    {
     "data": {
      "image/png": "[encoded data removed]",
      "text/plain": [
       "<matplotlib.figure.Figure at 0x1172dd470>"
      ]
     },
     "metadata": {},
     "output_type": "display_data"
    },
    {
     "data": {
      "image/png": "[encoded data removed]",
      "text/plain": [
       "<matplotlib.figure.Figure at 0x3a11437b8>"
      ]
     },
     "metadata": {},
     "output_type": "display_data"
    }
   ],
   "source": [
    "max_digit = 4\n",
    "model = Linear(max_digit)\n",
    "model.double()\n",
    "\n",
    "optimizer = optim.Adam(model.parameters())\n",
    "X, Y = generate_XY(train)\n",
    "val_deriv_X, val_deriv_Y = generate_XY(valid_deriv)\n",
    "val_nonderiv_X, val_nonderiv_Y = generate_XY(valid_nonderiv)\n",
    "test_deriv_X, test_deriv_Y = generate_XY(test_deriv)\n",
    "test_nonderiv_X, test_nonderiv_Y = generate_XY(test_nonderiv)\n",
    "\n",
    "def closure():\n",
    "    optimizer.zero_grad()\n",
    "    prediction = model(X)\n",
    "    total_cells = Y.shape[0]*Y.shape[1]\n",
    "    flattened_prediction = prediction.reshape(total_cells, max_digit)\n",
    "    flattened_Y = Y.reshape(total_cells)\n",
    "    loss = nn.functional.nll_loss(flattened_prediction, flattened_Y)\n",
    "    loss.backward()\n",
    "    return loss\n",
    "\n",
    "train_losses = []\n",
    "val_deriv_losses = []\n",
    "val_nonderiv_losses = []\n",
    "test_nonderiv_losses = []\n",
    "test_deriv_losses = []\n",
    "\n",
    "train_accuracies = []\n",
    "val_deriv_accuracies = []\n",
    "val_nonderiv_accuracies = []\n",
    "test_nonderiv_accuracies = []\n",
    "test_deriv_accuracies = []\n",
    "\n",
    "epochs = 10000\n",
    "\n",
    "for epoch in tqdm_notebook(range(epochs), leave=True):\n",
    "    optimizer.step(closure)\n",
    "    train_loss, train_accuracy = get_performance(model, X, Y)\n",
    "    val_deriv_loss, val_deriv_accuracy = get_performance(model, val_deriv_X, val_deriv_Y)\n",
    "    val_nonderiv_loss, val_nonderiv_accuracy = get_performance(model, val_nonderiv_X, val_nonderiv_Y)\n",
    "    test_deriv_loss, test_deriv_accuracy = get_performance(model, test_deriv_X, test_deriv_Y)\n",
    "    test_nonderiv_loss, test_nonderiv_accuracy = get_performance(model, test_nonderiv_X, test_nonderiv_Y)\n",
    "    \n",
    "    train_losses.append(train_loss)\n",
    "    val_deriv_losses.append(val_deriv_loss)\n",
    "    val_nonderiv_losses.append(val_nonderiv_loss)\n",
    "    test_nonderiv_losses.append(test_nonderiv_loss)\n",
    "    test_deriv_losses.append(test_deriv_loss)\n",
    "    \n",
    "    train_accuracies.append(train_accuracy)\n",
    "    val_deriv_accuracies.append(val_deriv_accuracy)\n",
    "    val_nonderiv_accuracies.append(val_nonderiv_accuracy)\n",
    "    test_deriv_accuracies.append(test_deriv_accuracy)\n",
    "    test_nonderiv_accuracies.append(test_nonderiv_accuracy)\n",
    "    \n",
    "plt.plot(range(epochs), train_losses, '-b', label='training')\n",
    "plt.plot(range(epochs), val_deriv_losses, '-g', label='val_deriv')\n",
    "plt.plot(range(epochs), val_nonderiv_losses, '-r', label='val_nonderiv')\n",
    "plt.plot(range(epochs), test_deriv_losses, '-c', label='test_deriv')\n",
    "plt.plot(range(epochs), test_nonderiv_losses, '-m', label='test_nonderiv')\n",
    "plt.title(\"Losses\")\n",
    "plt.legend(loc='upper right') \n",
    "plt.show()\n",
    "\n",
    "plt.plot(range(epochs), train_accuracies, '-b', label='train')\n",
    "plt.plot(range(epochs), val_deriv_accuracies, '-g', label='val_deriv')\n",
    "plt.plot(range(epochs), val_nonderiv_accuracies, '-r', label='val_nonderiv')\n",
    "plt.plot(range(epochs), test_deriv_accuracies, '-c', label='test_deriv')\n",
    "plt.plot(range(epochs), test_nonderiv_accuracies, '-m', label='test_nonderiv')\n",
    "plt.title(\"Accuracies\")\n",
    "plt.legend(loc='upper right')\n",
    "plt.show()"
   ]
  },
  {
   "cell_type": "code",
   "execution_count": 22,
   "metadata": {
    "collapsed": false
   },
   "outputs": [
    {
     "name": "stdout",
     "output_type": "stream",
     "text": [
      "\n"
     ]
    },
    {
     "data": {
      "image/png": "[encoded data removed]",
      "text/plain": [
       "<matplotlib.figure.Figure at 0x118732f98>"
      ]
     },
     "metadata": {},
     "output_type": "display_data"
    },
    {
     "data": {
      "image/png": "[encoded data removed]",
      "text/plain": [
       "<matplotlib.figure.Figure at 0x11bd32a90>"
      ]
     },
     "metadata": {},
     "output_type": "display_data"
    }
   ],
   "source": [
    "max_digit = 4\n",
    "model = FeedForward(max_digit, [128, 128])\n",
    "model.double()\n",
    "\n",
    "optimizer = optim.Adam(model.parameters())\n",
    "X, Y = generate_XY(train)\n",
    "val_deriv_X, val_deriv_Y = generate_XY(valid_deriv)\n",
    "val_nonderiv_X, val_nonderiv_Y = generate_XY(valid_nonderiv)\n",
    "test_deriv_X, test_deriv_Y = generate_XY(test_deriv)\n",
    "test_nonderiv_X, test_nonderiv_Y = generate_XY(test_nonderiv)\n",
    "\n",
    "def closure():\n",
    "    optimizer.zero_grad()\n",
    "    prediction = model(X)\n",
    "    total_cells = Y.shape[0]*Y.shape[1]\n",
    "    flattened_prediction = prediction.reshape(total_cells, max_digit)\n",
    "    flattened_Y = Y.reshape(total_cells)\n",
    "    loss = nn.functional.nll_loss(flattened_prediction, flattened_Y)\n",
    "    loss.backward()\n",
    "    return loss\n",
    "\n",
    "train_losses = []\n",
    "val_deriv_losses = []\n",
    "val_nonderiv_losses = []\n",
    "test_nonderiv_losses = []\n",
    "test_deriv_losses = []\n",
    "\n",
    "train_accuracies = []\n",
    "val_deriv_accuracies = []\n",
    "val_nonderiv_accuracies = []\n",
    "test_nonderiv_accuracies = []\n",
    "test_deriv_accuracies = []\n",
    "\n",
    "epochs = 2000\n",
    "\n",
    "for epoch in tqdm_notebook(range(epochs), leave=True):\n",
    "    optimizer.step(closure)\n",
    "    train_loss, train_accuracy = get_performance(model, X, Y)\n",
    "    val_deriv_loss, val_deriv_accuracy = get_performance(model, val_deriv_X, val_deriv_Y)\n",
    "    val_nonderiv_loss, val_nonderiv_accuracy = get_performance(model, val_nonderiv_X, val_nonderiv_Y)\n",
    "    test_deriv_loss, test_deriv_accuracy = get_performance(model, test_deriv_X, test_deriv_Y)\n",
    "    test_nonderiv_loss, test_nonderiv_accuracy = get_performance(model, test_nonderiv_X, test_nonderiv_Y)\n",
    "    \n",
    "    train_losses.append(train_loss)\n",
    "    val_deriv_losses.append(val_deriv_loss)\n",
    "    val_nonderiv_losses.append(val_nonderiv_loss)\n",
    "    test_nonderiv_losses.append(test_nonderiv_loss)\n",
    "    test_deriv_losses.append(test_deriv_loss)\n",
    "    \n",
    "    train_accuracies.append(train_accuracy)\n",
    "    val_deriv_accuracies.append(val_deriv_accuracy)\n",
    "    val_nonderiv_accuracies.append(val_nonderiv_accuracy)\n",
    "    test_deriv_accuracies.append(test_deriv_accuracy)\n",
    "    test_nonderiv_accuracies.append(test_nonderiv_accuracy)\n",
    "    \n",
    "plt.plot(range(epochs), train_losses, '-b', label='training')\n",
    "plt.plot(range(epochs), val_deriv_losses, '-g', label='val_deriv')\n",
    "plt.plot(range(epochs), val_nonderiv_losses, '-r', label='val_nonderiv')\n",
    "plt.plot(range(epochs), test_deriv_losses, '-c', label='test_deriv')\n",
    "plt.plot(range(epochs), test_nonderiv_losses, '-m', label='test_nonderiv')\n",
    "plt.title(\"Losses\")\n",
    "plt.legend(loc='upper right') \n",
    "plt.show()\n",
    "\n",
    "plt.plot(range(epochs), train_accuracies, '-b', label='train')\n",
    "plt.plot(range(epochs), val_deriv_accuracies, '-g', label='val_deriv')\n",
    "plt.plot(range(epochs), val_nonderiv_accuracies, '-r', label='val_nonderiv')\n",
    "plt.plot(range(epochs), test_deriv_accuracies, '-c', label='test_deriv')\n",
    "plt.plot(range(epochs), test_nonderiv_accuracies, '-m', label='test_nonderiv')\n",
    "plt.title(\"Accuracies\")\n",
    "plt.legend(loc='upper right')\n",
    "plt.show()"
   ]
  },
  {
   "cell_type": "code",
   "execution_count": 30,
   "metadata": {
    "collapsed": false
   },
   "outputs": [
    {
     "ename": "KeyboardInterrupt",
     "evalue": "",
     "output_type": "error",
     "traceback": [
      "\u001b[0;31m---------------------------------------------------------------------------\u001b[0m",
      "\u001b[0;31mKeyboardInterrupt\u001b[0m                         Traceback (most recent call last)",
      "\u001b[0;32m<ipython-input-30-221b3e7e25b2>\u001b[0m in \u001b[0;36m<module>\u001b[0;34m()\u001b[0m\n\u001b[1;32m     45\u001b[0m \u001b[0;34m\u001b[0m\u001b[0m\n\u001b[1;32m     46\u001b[0m     \u001b[0;32mfor\u001b[0m \u001b[0mi\u001b[0m \u001b[0;32min\u001b[0m \u001b[0mrange\u001b[0m\u001b[0;34m(\u001b[0m\u001b[0mruns\u001b[0m\u001b[0;34m)\u001b[0m\u001b[0;34m:\u001b[0m\u001b[0;34m\u001b[0m\u001b[0m\n\u001b[0;32m---> 47\u001b[0;31m         \u001b[0moptimizer\u001b[0m\u001b[0;34m.\u001b[0m\u001b[0mstep\u001b[0m\u001b[0;34m(\u001b[0m\u001b[0mclosure\u001b[0m\u001b[0;34m)\u001b[0m\u001b[0;34m\u001b[0m\u001b[0m\n\u001b[0m\u001b[1;32m     48\u001b[0m \u001b[0;34m\u001b[0m\u001b[0m\n\u001b[1;32m     49\u001b[0m         \u001b[0;32mwith\u001b[0m \u001b[0mtorch\u001b[0m\u001b[0;34m.\u001b[0m\u001b[0mno_grad\u001b[0m\u001b[0;34m(\u001b[0m\u001b[0;34m)\u001b[0m\u001b[0;34m:\u001b[0m\u001b[0;34m\u001b[0m\u001b[0m\n",
      "\u001b[0;32m/Users/andrew/anaconda/lib/python3.6/site-packages/torch/optim/adam.py\u001b[0m in \u001b[0;36mstep\u001b[0;34m(self, closure)\u001b[0m\n\u001b[1;32m     55\u001b[0m         \u001b[0mloss\u001b[0m \u001b[0;34m=\u001b[0m \u001b[0;32mNone\u001b[0m\u001b[0;34m\u001b[0m\u001b[0m\n\u001b[1;32m     56\u001b[0m         \u001b[0;32mif\u001b[0m \u001b[0mclosure\u001b[0m \u001b[0;32mis\u001b[0m \u001b[0;32mnot\u001b[0m \u001b[0;32mNone\u001b[0m\u001b[0;34m:\u001b[0m\u001b[0;34m\u001b[0m\u001b[0m\n\u001b[0;32m---> 57\u001b[0;31m             \u001b[0mloss\u001b[0m \u001b[0;34m=\u001b[0m \u001b[0mclosure\u001b[0m\u001b[0;34m(\u001b[0m\u001b[0;34m)\u001b[0m\u001b[0;34m\u001b[0m\u001b[0m\n\u001b[0m\u001b[1;32m     58\u001b[0m \u001b[0;34m\u001b[0m\u001b[0m\n\u001b[1;32m     59\u001b[0m         \u001b[0;32mfor\u001b[0m \u001b[0mgroup\u001b[0m \u001b[0;32min\u001b[0m \u001b[0mself\u001b[0m\u001b[0;34m.\u001b[0m\u001b[0mparam_groups\u001b[0m\u001b[0;34m:\u001b[0m\u001b[0;34m\u001b[0m\u001b[0m\n",
      "\u001b[0;32m<ipython-input-30-221b3e7e25b2>\u001b[0m in \u001b[0;36mclosure\u001b[0;34m()\u001b[0m\n\u001b[1;32m     29\u001b[0m     \u001b[0mflattened_prediction\u001b[0m \u001b[0;34m=\u001b[0m \u001b[0mprediction\u001b[0m\u001b[0;34m.\u001b[0m\u001b[0mreshape\u001b[0m\u001b[0;34m(\u001b[0m\u001b[0mtotal_cells\u001b[0m\u001b[0;34m,\u001b[0m \u001b[0mmax_digit\u001b[0m\u001b[0;34m)\u001b[0m\u001b[0;34m\u001b[0m\u001b[0m\n\u001b[1;32m     30\u001b[0m     \u001b[0mflattened_target\u001b[0m \u001b[0;34m=\u001b[0m \u001b[0mtarget\u001b[0m\u001b[0;34m.\u001b[0m\u001b[0mreshape\u001b[0m\u001b[0;34m(\u001b[0m\u001b[0mtotal_cells\u001b[0m\u001b[0;34m)\u001b[0m\u001b[0;34m\u001b[0m\u001b[0m\n\u001b[0;32m---> 31\u001b[0;31m     \u001b[0mloss\u001b[0m \u001b[0;34m=\u001b[0m \u001b[0mnn\u001b[0m\u001b[0;34m.\u001b[0m\u001b[0mfunctional\u001b[0m\u001b[0;34m.\u001b[0m\u001b[0mnll_loss\u001b[0m\u001b[0;34m(\u001b[0m\u001b[0mflattened_prediction\u001b[0m\u001b[0;34m,\u001b[0m \u001b[0mflattened_target\u001b[0m\u001b[0;34m)\u001b[0m\u001b[0;34m\u001b[0m\u001b[0m\n\u001b[0m\u001b[1;32m     32\u001b[0m     \u001b[0mloss\u001b[0m\u001b[0;34m.\u001b[0m\u001b[0mbackward\u001b[0m\u001b[0;34m(\u001b[0m\u001b[0mretain_graph\u001b[0m\u001b[0;34m=\u001b[0m\u001b[0;32mTrue\u001b[0m\u001b[0;34m)\u001b[0m\u001b[0;34m\u001b[0m\u001b[0m\n\u001b[1;32m     33\u001b[0m     \u001b[0;32mreturn\u001b[0m \u001b[0mloss\u001b[0m\u001b[0;34m\u001b[0m\u001b[0m\n",
      "\u001b[0;32m/Users/andrew/anaconda/lib/python3.6/site-packages/torch/nn/functional.py\u001b[0m in \u001b[0;36mnll_loss\u001b[0;34m(input, target, weight, size_average, ignore_index, reduce, reduction)\u001b[0m\n\u001b[1;32m   1405\u001b[0m                          .format(input.size(0), target.size(0)))\n\u001b[1;32m   1406\u001b[0m     \u001b[0;32mif\u001b[0m \u001b[0mdim\u001b[0m \u001b[0;34m==\u001b[0m \u001b[0;36m2\u001b[0m\u001b[0;34m:\u001b[0m\u001b[0;34m\u001b[0m\u001b[0m\n\u001b[0;32m-> 1407\u001b[0;31m         \u001b[0;32mreturn\u001b[0m \u001b[0mtorch\u001b[0m\u001b[0;34m.\u001b[0m\u001b[0m_C\u001b[0m\u001b[0;34m.\u001b[0m\u001b[0m_nn\u001b[0m\u001b[0;34m.\u001b[0m\u001b[0mnll_loss\u001b[0m\u001b[0;34m(\u001b[0m\u001b[0minput\u001b[0m\u001b[0;34m,\u001b[0m \u001b[0mtarget\u001b[0m\u001b[0;34m,\u001b[0m \u001b[0mweight\u001b[0m\u001b[0;34m,\u001b[0m \u001b[0m_Reduction\u001b[0m\u001b[0;34m.\u001b[0m\u001b[0mget_enum\u001b[0m\u001b[0;34m(\u001b[0m\u001b[0mreduction\u001b[0m\u001b[0;34m)\u001b[0m\u001b[0;34m,\u001b[0m \u001b[0mignore_index\u001b[0m\u001b[0;34m)\u001b[0m\u001b[0;34m\u001b[0m\u001b[0m\n\u001b[0m\u001b[1;32m   1408\u001b[0m     \u001b[0;32melif\u001b[0m \u001b[0mdim\u001b[0m \u001b[0;34m==\u001b[0m \u001b[0;36m4\u001b[0m\u001b[0;34m:\u001b[0m\u001b[0;34m\u001b[0m\u001b[0m\n\u001b[1;32m   1409\u001b[0m         \u001b[0;32mreturn\u001b[0m \u001b[0mtorch\u001b[0m\u001b[0;34m.\u001b[0m\u001b[0m_C\u001b[0m\u001b[0;34m.\u001b[0m\u001b[0m_nn\u001b[0m\u001b[0;34m.\u001b[0m\u001b[0mnll_loss2d\u001b[0m\u001b[0;34m(\u001b[0m\u001b[0minput\u001b[0m\u001b[0;34m,\u001b[0m \u001b[0mtarget\u001b[0m\u001b[0;34m,\u001b[0m \u001b[0mweight\u001b[0m\u001b[0;34m,\u001b[0m \u001b[0m_Reduction\u001b[0m\u001b[0;34m.\u001b[0m\u001b[0mget_enum\u001b[0m\u001b[0;34m(\u001b[0m\u001b[0mreduction\u001b[0m\u001b[0;34m)\u001b[0m\u001b[0;34m,\u001b[0m \u001b[0mignore_index\u001b[0m\u001b[0;34m)\u001b[0m\u001b[0;34m\u001b[0m\u001b[0m\n",
      "\u001b[0;31mKeyboardInterrupt\u001b[0m: "
     ]
    }
   ],
   "source": [
    "max_digit = 4\n",
    "model = FeedForward(max_digit, [128, 128])\n",
    "model.double()\n",
    "\n",
    "optimizer = optim.Adam(model.parameters())\n",
    "\n",
    "train_X, train_Y = generate_XY(train)\n",
    "val_deriv_X, val_deriv_Y = generate_XY(valid_deriv)\n",
    "val_nonderiv_X, val_nonderiv_Y = generate_XY(valid_nonderiv)\n",
    "test_deriv_X, test_deriv_Y = generate_XY(test_deriv)\n",
    "test_nonderiv_X, test_nonderiv_Y = generate_XY(test_nonderiv)\n",
    "\n",
    "train_losses = []\n",
    "val_deriv_losses = []\n",
    "val_nonderiv_losses = []\n",
    "test_nonderiv_losses = []\n",
    "test_deriv_losses = []\n",
    "\n",
    "train_accuracies = []\n",
    "val_deriv_accuracies = []\n",
    "val_nonderiv_accuracies = []\n",
    "test_nonderiv_accuracies = []\n",
    "test_deriv_accuracies = []\n",
    "\n",
    "def closure():\n",
    "    optimizer.zero_grad()\n",
    "    prediction = model(train_input)\n",
    "    total_cells = target.shape[0]*target.shape[1]\n",
    "    flattened_prediction = prediction.reshape(total_cells, max_digit)\n",
    "    flattened_target = target.reshape(total_cells)\n",
    "    loss = nn.functional.nll_loss(flattened_prediction, flattened_target)\n",
    "    loss.backward(retain_graph=True)\n",
    "    return loss\n",
    "\n",
    "epochs = 2000\n",
    "runs = 12\n",
    "\n",
    "target = train_Y\n",
    "for epoch in tqdm_notebook(range(epochs), leave=True):\n",
    "    train_input = train_X\n",
    "    val_deriv_input = val_deriv_X\n",
    "    val_nonderiv_input = val_nonderiv_X\n",
    "    test_deriv_input = test_deriv_X\n",
    "    test_nonderiv_input = test_nonderiv_X\n",
    "    \n",
    "    for i in range(runs):\n",
    "        optimizer.step(closure)\n",
    "        \n",
    "        with torch.no_grad():\n",
    "            train_output = model(train_input)\n",
    "            val_deriv_output = model(val_deriv_input)\n",
    "            val_nonderiv_output = model(val_nonderiv_input)\n",
    "            test_deriv_output = model(test_deriv_input)\n",
    "            test_nonderiv_output = model(test_nonderiv_input)\n",
    "\n",
    "            train_input = flatten_prediction(train_output)\n",
    "            val_deriv_input = flatten_prediction(val_deriv_output)\n",
    "            val_nonderiv_input = flatten_prediction(val_nonderiv_output)\n",
    "            test_deriv_input = flatten_prediction(test_deriv_output)\n",
    "            test_nonderiv_input = flatten_prediction(test_nonderiv_output)\n",
    "        \n",
    "    train_accuracy = get_model_accuracy(train_output, train_Y)\n",
    "    val_deriv_accuracy = get_model_accuracy(val_deriv_output, val_deriv_Y)\n",
    "    val_nonderiv_accuracy = get_model_accuracy(val_nonderiv_output, val_nonderiv_Y)\n",
    "    test_deriv_accuracy = get_model_accuracy(test_deriv_output, test_deriv_Y)\n",
    "    test_nonderiv_accuracy = get_model_accuracy(test_nonderiv_output, test_nonderiv_Y)\n",
    "        \n",
    "    train_accuracies.append(train_accuracy)\n",
    "    val_deriv_accuracies.append(val_deriv_accuracy)\n",
    "    val_nonderiv_accuracies.append(val_nonderiv_accuracy)\n",
    "    test_deriv_accuracies.append(test_deriv_accuracy)\n",
    "    test_nonderiv_accuracies.append(test_nonderiv_accuracy)\n",
    "\n",
    "# plt.plot(range(epochs), train_losses, '-b', label='training')\n",
    "# plt.plot(range(epochs), val_deriv_losses, '-g', label='val_deriv')\n",
    "# plt.plot(range(epochs), val_nonderiv_losses, '-r', label='val_nonderiv')\n",
    "# plt.plot(range(epochs), test_deriv_losses, '-c', label='test_deriv')\n",
    "# plt.plot(range(epochs), test_nonderiv_losses, '-m', label='test_nonderiv')\n",
    "# plt.title(\"Losses\")\n",
    "# plt.legend(loc='upper right') \n",
    "# plt.show()\n",
    "\n",
    "plt.plot(range(epochs), train_accuracies, '-b', label='train')\n",
    "plt.plot(range(epochs), val_deriv_accuracies, '-g', label='val_deriv')\n",
    "plt.plot(range(epochs), val_nonderiv_accuracies, '-r', label='val_nonderiv')\n",
    "plt.plot(range(epochs), test_deriv_accuracies, '-c', label='test_deriv')\n",
    "plt.plot(range(epochs), test_nonderiv_accuracies, '-m', label='test_nonderiv')\n",
    "plt.title(\"Accuracies\")\n",
    "plt.legend(loc='upper right')\n",
    "plt.show()"
   ]
  },
  {
   "cell_type": "code",
   "execution_count": 29,
   "metadata": {
    "collapsed": false
   },
   "outputs": [
    {
     "data": {
      "image/png": "[encoded data removed]",
      "text/plain": [
       "<matplotlib.figure.Figure at 0x12194ec50>"
      ]
     },
     "metadata": {},
     "output_type": "display_data"
    }
   ],
   "source": [
    "plt.plot(range(epochs), train_accuracies, '-b', label='train')\n",
    "plt.plot(range(epochs), val_deriv_accuracies, '-g', label='val_deriv')\n",
    "plt.plot(range(epochs), val_nonderiv_accuracies, '-r', label='val_nonderiv')\n",
    "plt.plot(range(epochs), test_deriv_accuracies, '-c', label='test_deriv')\n",
    "plt.plot(range(epochs), test_nonderiv_accuracies, '-m', label='test_nonderiv')\n",
    "plt.title(\"Accuracies\")\n",
    "plt.legend(loc='upper right')\n",
    "plt.show()"
   ]
  },
  {
   "cell_type": "code",
   "execution_count": 36,
   "metadata": {
    "collapsed": false
   },
   "outputs": [
    {
     "data": {
      "text/plain": [
       "4"
      ]
     },
     "execution_count": 36,
     "metadata": {},
     "output_type": "execute_result"
    }
   ],
   "source": [
    "int(np.sqrt(Y.shape[1]))"
   ]
  },
  {
   "cell_type": "code",
   "execution_count": null,
   "metadata": {
    "collapsed": true
   },
   "outputs": [],
   "source": []
  }
 ],
 "metadata": {
  "kernelspec": {
   "display_name": "Python 3",
   "language": "python",
   "name": "python3"
  },
  "language_info": {
   "codemirror_mode": {
    "name": "ipython",
    "version": 3
   },
   "file_extension": ".py",
   "mimetype": "text/x-python",
   "name": "python",
   "nbconvert_exporter": "python",
   "pygments_lexer": "ipython3",
   "version": "3.6.6"
  }
 },
 "nbformat": 4,
 "nbformat_minor": 2
}
