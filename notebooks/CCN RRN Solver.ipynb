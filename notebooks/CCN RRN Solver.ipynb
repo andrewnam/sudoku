{
 "cells": [
  {
   "cell_type": "code",
   "execution_count": 1,
   "metadata": {},
   "outputs": [],
   "source": [
    "%matplotlib inline\n",
    "\n",
    "import torch\n",
    "import torch.nn as nn\n",
    "import torch.optim as optim\n",
    "import torch.nn.functional as F\n",
    "import numpy as np\n",
    "import itertools\n",
    "import random\n",
    "import matplotlib\n",
    "import matplotlib.pyplot as plt\n",
    "import pickle\n",
    "from tqdm import tqdm, tqdm_notebook\n",
    "\n",
    "import sys\n",
    "sys.path.append('/home/ajhnam/sudoku/src/sudoku')\n",
    "\n",
    "from board import Board\n",
    "from solutions import Solutions\n",
    "import solvertools\n",
    "import utils"
   ]
  },
  {
   "cell_type": "code",
   "execution_count": 2,
   "metadata": {},
   "outputs": [],
   "source": [
    "# set random seed to 0\n",
    "np.random.seed(0)\n",
    "torch.manual_seed(0)\n",
    "\n",
    "torch.set_default_tensor_type('torch.DoubleTensor')"
   ]
  },
  {
   "cell_type": "code",
   "execution_count": 3,
   "metadata": {},
   "outputs": [],
   "source": [
    "def roll(seq, n):\n",
    "    return torch.cat((seq[-n:], seq[:-n]))\n",
    "\n",
    "def hstack(a, b):\n",
    "    return torch.cat([a, b], dim=1)\n",
    "\n",
    "def round_robin_concat(X):\n",
    "    \"\"\"\n",
    "    Concatenates each row i of X with another row j where i != j. e.g.\n",
    "    >>> mat, indices = round_robin_concat(torch.stack([torch.ones(4)*i for i in range(4)]))\n",
    "    >>> mat\n",
    "    tensor([[0., 0., 0., 0., 3., 3., 3., 3.],\n",
    "            [1., 1., 1., 1., 0., 0., 0., 0.],\n",
    "            [2., 2., 2., 2., 1., 1., 1., 1.],\n",
    "            [3., 3., 3., 3., 2., 2., 2., 2.],\n",
    "            [0., 0., 0., 0., 2., 2., 2., 2.],\n",
    "            [1., 1., 1., 1., 3., 3., 3., 3.],\n",
    "            [2., 2., 2., 2., 0., 0., 0., 0.],\n",
    "            [3., 3., 3., 3., 1., 1., 1., 1.],\n",
    "            [0., 0., 0., 0., 1., 1., 1., 1.],\n",
    "            [1., 1., 1., 1., 2., 2., 2., 2.],\n",
    "            [2., 2., 2., 2., 3., 3., 3., 3.],\n",
    "            [3., 3., 3., 3., 0., 0., 0., 0.]])\n",
    "    >>> mat[indices[(1, 3)]]\n",
    "    tensor([1., 1., 1., 1., 3., 3., 3., 3.])\n",
    "    >>> mat[indices[(3, 1)]]\n",
    "    tensor([3., 3., 3., 3., 1., 1., 1., 1.])\n",
    "    \"\"\"\n",
    "    concat_index = {}\n",
    "    concat_matrix = []\n",
    "    n = X.shape[0]\n",
    "    dim = X.shape[1]\n",
    "    \n",
    "    rolled = 1\n",
    "    last_index = 0\n",
    "    while len(concat_index) < n*(n-1):\n",
    "        concat_matrix.append(torch.stack((X, roll(X, rolled)), dim=1).reshape(n, dim*2))\n",
    "        for i in range(n):\n",
    "            concat_index[(i, (i-rolled)%n)] = last_index\n",
    "            last_index += 1\n",
    "        rolled += 1\n",
    "    \n",
    "    concat_matrix = torch.stack(concat_matrix)\n",
    "    concat_matrix = concat_matrix.reshape(concat_matrix.shape[0]*concat_matrix.shape[1], concat_matrix.shape[2])\n",
    "    return concat_matrix, concat_index\n",
    "\n",
    "def board_vec2mat(vectors):\n",
    "    n, d = vectors.shape[0], int(np.cbrt(vectors.shape[1]))\n",
    "    return vectors.reshape(n, d**2, d)"
   ]
  },
  {
   "cell_type": "code",
   "execution_count": 4,
   "metadata": {},
   "outputs": [
    {
     "name": "stdout",
     "output_type": "stream",
     "text": [
      "4 64\n",
      "5 357\n",
      "6 883\n",
      "7 1584\n",
      "8 2384\n",
      "9 3309\n",
      "10 4149\n",
      "11 4754\n",
      "12 4841\n",
      "13 3741\n",
      "14 1391\n",
      "15 192\n",
      "16 12\n"
     ]
    }
   ],
   "source": [
    "with open('solutions5.pickle', 'rb') as f:\n",
    "    solutions = pickle.load(f)\n",
    "puzzles = solutions.get_puzzles_by_hints()\n",
    "for hints in sorted(puzzles):\n",
    "    print(hints, len(puzzles[hints]))"
   ]
  },
  {
   "cell_type": "code",
   "execution_count": 5,
   "metadata": {},
   "outputs": [],
   "source": [
    "class MLP(nn.Module):\n",
    "    def __init__(self, input_size, output_size, hidden_layer_sizes, activation_func):\n",
    "        super(MLP, self).__init__()\n",
    "        self.input_size = input_size\n",
    "        self.output_size = output_size\n",
    "        self.hidden_layer_sizes = hidden_layer_sizes\n",
    "        self.activation_func = activation_func\n",
    "        \n",
    "        last_layer_size = input_size\n",
    "        self.layers = nn.ModuleList() \n",
    "        for size in hidden_layer_sizes:\n",
    "            self.layers.append(nn.Linear(last_layer_size, size).cuda())\n",
    "            last_layer_size = size\n",
    "        self.layers.append(nn.Linear(last_layer_size, output_size).cuda())\n",
    "\n",
    "    def forward(self, X):\n",
    "        vector = X\n",
    "        for layer in self.layers:\n",
    "            vector = self.activation_func(layer(vector))\n",
    "        return vector"
   ]
  },
  {
   "cell_type": "code",
   "execution_count": 6,
   "metadata": {},
   "outputs": [],
   "source": [
    "class FeedForwardRRN(nn.Module):\n",
    "    def __init__(self, max_digit, message_size, hidden_layer_sizes, activation_func):\n",
    "        super(FeedForwardRRN, self).__init__()\n",
    "        assert len(hidden_layer_sizes) > 0\n",
    "        self.max_digit = max_digit\n",
    "        self.message_size = message_size\n",
    "        self.hidden_layer_sizes = hidden_layer_sizes\n",
    "        self.activation_func = activation_func\n",
    "        \n",
    "        self.f = MLP(2*max_digit, message_size, hidden_layer_sizes, activation_func).cuda()\n",
    "        self.g = MLP(max_digit + message_size, max_digit, hidden_layer_sizes, activation_func).cuda()\n",
    "        self.softmax = nn.Softmax(dim=1)\n",
    "\n",
    "    def forward(self, X):\n",
    "        \"\"\"\n",
    "        Assume that X is an (n, d) matrix where\n",
    "            n: number of cells in the board (self.max_digit**2)\n",
    "            d: max_digit\n",
    "        \"\"\"\n",
    "        assert X.shape == (self.max_digit**2, self.max_digit)\n",
    "        X_paired, pair_indices = round_robin_concat(X)\n",
    "        pair_messages = self.f(X_paired.cuda())\n",
    "        messages = []\n",
    "        for i in range(len(X)):\n",
    "            message = torch.zeros(self.message_size).cuda()\n",
    "            for j in range(self.max_digit):\n",
    "                if i != j:\n",
    "                    message += pair_messages[pair_indices[(i, j)]].cuda()\n",
    "            messages.append(message)\n",
    "        messages = torch.stack(messages)\n",
    "        pre_output = self.g(hstack(X, messages))\n",
    "        output = self.softmax(pre_output)\n",
    "        return output"
   ]
  },
  {
   "cell_type": "code",
   "execution_count": null,
   "metadata": {
    "scrolled": true
   },
   "outputs": [
    {
     "data": {
      "application/vnd.jupyter.widget-view+json": {
       "model_id": "fd1a8bb89a93439db707463c01780d38",
       "version_major": 2,
       "version_minor": 0
      },
      "text/plain": [
       "HBox(children=(IntProgress(value=0, max=200), HTML(value='')))"
      ]
     },
     "metadata": {},
     "output_type": "display_data"
    },
    {
     "data": {
      "application/vnd.jupyter.widget-view+json": {
       "model_id": "",
       "version_major": 2,
       "version_minor": 0
      },
      "text/plain": [
       "HBox(children=(IntProgress(value=0, max=739), HTML(value='')))"
      ]
     },
     "metadata": {},
     "output_type": "display_data"
    },
    {
     "name": "stdout",
     "output_type": "stream",
     "text": [
      "-2217.104336371031\n"
     ]
    },
    {
     "data": {
      "application/vnd.jupyter.widget-view+json": {
       "model_id": "",
       "version_major": 2,
       "version_minor": 0
      },
      "text/plain": [
       "HBox(children=(IntProgress(value=0, max=739), HTML(value='')))"
      ]
     },
     "metadata": {},
     "output_type": "display_data"
    },
    {
     "name": "stdout",
     "output_type": "stream",
     "text": [
      "-2217.2474832557405\n"
     ]
    },
    {
     "data": {
      "application/vnd.jupyter.widget-view+json": {
       "model_id": "",
       "version_major": 2,
       "version_minor": 0
      },
      "text/plain": [
       "HBox(children=(IntProgress(value=0, max=739), HTML(value='')))"
      ]
     },
     "metadata": {},
     "output_type": "display_data"
    },
    {
     "name": "stdout",
     "output_type": "stream",
     "text": [
      "-2217.354013356788\n"
     ]
    },
    {
     "data": {
      "application/vnd.jupyter.widget-view+json": {
       "model_id": "",
       "version_major": 2,
       "version_minor": 0
      },
      "text/plain": [
       "HBox(children=(IntProgress(value=0, max=739), HTML(value='')))"
      ]
     },
     "metadata": {},
     "output_type": "display_data"
    },
    {
     "name": "stdout",
     "output_type": "stream",
     "text": [
      "-2217.456539914503\n"
     ]
    },
    {
     "data": {
      "application/vnd.jupyter.widget-view+json": {
       "model_id": "",
       "version_major": 2,
       "version_minor": 0
      },
      "text/plain": [
       "HBox(children=(IntProgress(value=0, max=739), HTML(value='')))"
      ]
     },
     "metadata": {},
     "output_type": "display_data"
    },
    {
     "name": "stdout",
     "output_type": "stream",
     "text": [
      "-2217.5721468116476\n"
     ]
    },
    {
     "data": {
      "application/vnd.jupyter.widget-view+json": {
       "model_id": "",
       "version_major": 2,
       "version_minor": 0
      },
      "text/plain": [
       "HBox(children=(IntProgress(value=0, max=739), HTML(value='')))"
      ]
     },
     "metadata": {},
     "output_type": "display_data"
    },
    {
     "name": "stdout",
     "output_type": "stream",
     "text": [
      "-2217.7005952713753\n"
     ]
    },
    {
     "data": {
      "application/vnd.jupyter.widget-view+json": {
       "model_id": "",
       "version_major": 2,
       "version_minor": 0
      },
      "text/plain": [
       "HBox(children=(IntProgress(value=0, max=739), HTML(value='')))"
      ]
     },
     "metadata": {},
     "output_type": "display_data"
    },
    {
     "name": "stdout",
     "output_type": "stream",
     "text": [
      "-2217.8338656999913\n"
     ]
    },
    {
     "data": {
      "application/vnd.jupyter.widget-view+json": {
       "model_id": "",
       "version_major": 2,
       "version_minor": 0
      },
      "text/plain": [
       "HBox(children=(IntProgress(value=0, max=739), HTML(value='')))"
      ]
     },
     "metadata": {},
     "output_type": "display_data"
    },
    {
     "name": "stdout",
     "output_type": "stream",
     "text": [
      "-2217.966403142499\n"
     ]
    },
    {
     "data": {
      "application/vnd.jupyter.widget-view+json": {
       "model_id": "",
       "version_major": 2,
       "version_minor": 0
      },
      "text/plain": [
       "HBox(children=(IntProgress(value=0, max=739), HTML(value='')))"
      ]
     },
     "metadata": {},
     "output_type": "display_data"
    },
    {
     "name": "stdout",
     "output_type": "stream",
     "text": [
      "-2218.1054942260866\n"
     ]
    },
    {
     "data": {
      "application/vnd.jupyter.widget-view+json": {
       "model_id": "",
       "version_major": 2,
       "version_minor": 0
      },
      "text/plain": [
       "HBox(children=(IntProgress(value=0, max=739), HTML(value='')))"
      ]
     },
     "metadata": {},
     "output_type": "display_data"
    },
    {
     "name": "stdout",
     "output_type": "stream",
     "text": [
      "-2218.2436132356843\n"
     ]
    },
    {
     "data": {
      "application/vnd.jupyter.widget-view+json": {
       "model_id": "",
       "version_major": 2,
       "version_minor": 0
      },
      "text/plain": [
       "HBox(children=(IntProgress(value=0, max=739), HTML(value='')))"
      ]
     },
     "metadata": {},
     "output_type": "display_data"
    },
    {
     "name": "stdout",
     "output_type": "stream",
     "text": [
      "-2218.378737474827\n"
     ]
    },
    {
     "data": {
      "application/vnd.jupyter.widget-view+json": {
       "model_id": "",
       "version_major": 2,
       "version_minor": 0
      },
      "text/plain": [
       "HBox(children=(IntProgress(value=0, max=739), HTML(value='')))"
      ]
     },
     "metadata": {},
     "output_type": "display_data"
    },
    {
     "name": "stdout",
     "output_type": "stream",
     "text": [
      "-2218.5088465970616\n"
     ]
    },
    {
     "data": {
      "application/vnd.jupyter.widget-view+json": {
       "model_id": "",
       "version_major": 2,
       "version_minor": 0
      },
      "text/plain": [
       "HBox(children=(IntProgress(value=0, max=739), HTML(value='')))"
      ]
     },
     "metadata": {},
     "output_type": "display_data"
    },
    {
     "name": "stdout",
     "output_type": "stream",
     "text": [
      "-2218.64290922255\n"
     ]
    },
    {
     "data": {
      "application/vnd.jupyter.widget-view+json": {
       "model_id": "f3c2e033814d428a94acd60e59b20b4f",
       "version_major": 2,
       "version_minor": 0
      },
      "text/plain": [
       "HBox(children=(IntProgress(value=0, max=739), HTML(value='')))"
      ]
     },
     "metadata": {},
     "output_type": "display_data"
    },
    {
     "name": "stderr",
     "output_type": "stream",
     "text": [
      "IOPub message rate exceeded.\n",
      "The notebook server will temporarily stop sending output\n",
      "to the client in order to avoid crashing it.\n",
      "To change this limit, set the config variable\n",
      "`--NotebookApp.iopub_msg_rate_limit`.\n",
      "\n",
      "Current values:\n",
      "NotebookApp.iopub_msg_rate_limit=1000.0 (msgs/sec)\n",
      "NotebookApp.rate_limit_window=3.0 (secs)\n",
      "\n"
     ]
    },
    {
     "name": "stdout",
     "output_type": "stream",
     "text": [
      "-2219.1114490511195\n"
     ]
    },
    {
     "data": {
      "application/vnd.jupyter.widget-view+json": {
       "model_id": "",
       "version_major": 2,
       "version_minor": 0
      },
      "text/plain": [
       "HBox(children=(IntProgress(value=0, max=739), HTML(value='')))"
      ]
     },
     "metadata": {},
     "output_type": "display_data"
    },
    {
     "name": "stdout",
     "output_type": "stream",
     "text": [
      "-2219.303018916415\n"
     ]
    },
    {
     "data": {
      "application/vnd.jupyter.widget-view+json": {
       "model_id": "49f95e043f2d4bc4a7e511de19041688",
       "version_major": 2,
       "version_minor": 0
      },
      "text/plain": [
       "HBox(children=(IntProgress(value=0, max=739), HTML(value='')))"
      ]
     },
     "metadata": {},
     "output_type": "display_data"
    }
   ],
   "source": [
    "epochs = 200\n",
    "rounds = 12\n",
    "\n",
    "max_digit = 4\n",
    "model = FeedForwardRRN(max_digit, 64, [32, 32], F.relu)\n",
    "model = model.double().cuda()\n",
    "optimizer = optim.Adam(model.parameters())\n",
    "\n",
    "train, valid_deriv, test_deriv, valid_nonderiv, test_nonderiv = solvertools.generate_dataset(puzzles[4], solutions, [.7, .8])\n",
    "X, Y = solvertools.generate_XY(train)\n",
    "X = board_vec2mat(X).cuda()\n",
    "Y = Y.cuda()\n",
    "\n",
    "def closure():\n",
    "    losses = []\n",
    "    for i in tqdm_notebook(range(len(X)), leave=False):\n",
    "        total_loss = 0\n",
    "        x, y = X[i], Y[i]\n",
    "        optimizer.zero_grad()\n",
    "        for j in range(rounds):#tqdm_notebook(range(rounds), leave=False):\n",
    "            prediction = model(x)\n",
    "            x = prediction\n",
    "            loss = nn.functional.nll_loss(prediction, y)\n",
    "            loss.backward(retain_graph=True)\n",
    "            total_loss += float(loss)\n",
    "        losses.append(total_loss)\n",
    "    print(sum(losses))\n",
    "    return losses\n",
    "\n",
    "# train_losses = []\n",
    "\n",
    "\n",
    "for epoch in tqdm_notebook(range(epochs), leave=False):\n",
    "    train_losses = optimizer.step(closure)\n",
    "    \n",
    "plt.plot(range(epochs), train_losses, '-b', label='training')\n",
    "plt.title(\"Losses\")\n",
    "plt.legend(loc='upper right')\n",
    "plt.show()"
   ]
  },
  {
   "cell_type": "code",
   "execution_count": null,
   "metadata": {},
   "outputs": [],
   "source": []
  },
  {
   "cell_type": "code",
   "execution_count": null,
   "metadata": {},
   "outputs": [],
   "source": []
  },
  {
   "cell_type": "code",
   "execution_count": null,
   "metadata": {},
   "outputs": [],
   "source": [
    "print(hi)"
   ]
  },
  {
   "cell_type": "code",
   "execution_count": null,
   "metadata": {},
   "outputs": [],
   "source": []
  }
 ],
 "metadata": {
  "kernelspec": {
   "display_name": "Python 3",
   "language": "python",
   "name": "python3"
  },
  "language_info": {
   "codemirror_mode": {
    "name": "ipython",
    "version": 3
   },
   "file_extension": ".py",
   "mimetype": "text/x-python",
   "name": "python",
   "nbconvert_exporter": "python",
   "pygments_lexer": "ipython3",
   "version": "3.5.2"
  }
 },
 "nbformat": 4,
 "nbformat_minor": 2
}
