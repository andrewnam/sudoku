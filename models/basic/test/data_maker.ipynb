{
 "cells": [
  {
   "cell_type": "code",
   "execution_count": 1,
   "metadata": {},
   "outputs": [],
   "source": [
    "%matplotlib inline\n",
    "\n",
    "SUDOKU_PATH = '/home/ajhnam/sudoku'\n",
    "\n",
    "import numpy as np\n",
    "from scipy.special import factorial\n",
    "import re\n",
    "import itertools\n",
    "from enum import Enum\n",
    "import random\n",
    "import pickle\n",
    "import torch\n",
    "import random\n",
    "import matplotlib\n",
    "import matplotlib.pyplot as plt\n",
    "\n",
    "import sys\n",
    "sys.path.append(SUDOKU_PATH + '/src/sudoku')\n",
    "\n",
    "from board import Board\n",
    "from solutions import Solutions\n",
    "import utils\n",
    "from grid_string import GridString, read_solutions_file, write_solutions_file\n",
    "from dataset import Dataset, Datasets\n",
    "from utils import print"
   ]
  },
  {
   "cell_type": "code",
   "execution_count": 2,
   "metadata": {},
   "outputs": [],
   "source": [
    "# set random seed to 0\n",
    "random.seed(0)\n",
    "np.random.seed(0)\n",
    "torch.manual_seed(0)\n",
    "torch.set_default_tensor_type('torch.DoubleTensor')"
   ]
  },
  {
   "cell_type": "code",
   "execution_count": 3,
   "metadata": {},
   "outputs": [
    {
     "name": "stdout",
     "output_type": "stream",
     "text": [
      "(2018-12-23_19:25:50) Number of puzzles with 4 hints: 1536\n",
      "(2018-12-23_19:25:50) Number of puzzles with 5 hints: 8568\n",
      "(2018-12-23_19:25:50) Number of puzzles with 6 hints: 21192\n",
      "(2018-12-23_19:25:50) Number of puzzles with 7 hints: 38016\n",
      "(2018-12-23_19:25:50) Number of puzzles with 8 hints: 57216\n",
      "(2018-12-23_19:25:50) Number of puzzles with 9 hints: 79416\n",
      "(2018-12-23_19:25:50) Number of puzzles with 10 hints: 99576\n",
      "(2018-12-23_19:25:50) Number of puzzles with 11 hints: 114096\n",
      "(2018-12-23_19:25:50) Number of puzzles with 12 hints: 116184\n",
      "(2018-12-23_19:25:50) Number of puzzles with 13 hints: 89784\n",
      "(2018-12-23_19:25:50) Number of puzzles with 14 hints: 33384\n",
      "(2018-12-23_19:25:50) Number of puzzles with 15 hints: 4608\n",
      "(2018-12-23_19:25:50) Number of puzzles with 16 hints: 288\n"
     ]
    }
   ],
   "source": [
    "filename = SUDOKU_PATH + '/data/shuffled_puzzles.txt'\n",
    "with open(filename) as f:\n",
    "    lines = f.read().splitlines()\n",
    "all_puzzles = {}\n",
    "for line in lines:\n",
    "    puzzle, solution = line.split(',')\n",
    "    all_puzzles[GridString(puzzle)] = GridString(solution)\n",
    "    \n",
    "puzzles_by_hints = {i: {} for i in range(4, 17)}\n",
    "num_cells = 16\n",
    "for p in all_puzzles:\n",
    "    hints = num_cells - p.grid.count('.')\n",
    "    puzzles_by_hints[hints][p] = all_puzzles[p]\n",
    "    \n",
    "for k in sorted(puzzles_by_hints):\n",
    "    print(\"Number of puzzles with {} hints: {}\".format(k, len(puzzles_by_hints[k])))"
   ]
  },
  {
   "cell_type": "markdown",
   "metadata": {},
   "source": [
    "Create a training set of 250 puzzles for each number of hints from 4 to 15 for a total of 12\\*250 = 3000.\n",
    "\n",
    "Create a validation set of 50 puzzles for each number of hints from 4 to 15 for a total of 12\\*50 = 600.\n",
    "\n",
    "Create a test set of 100 puzzles for each number of hints from 4 to 15 for a total of 12\\*100 = 1200."
   ]
  },
  {
   "cell_type": "code",
   "execution_count": 4,
   "metadata": {},
   "outputs": [],
   "source": [
    "# datasets = Datasets({i: Dataset(puzzles_by_hints[i]) for i in range(4, 16)})\n",
    "# datasets.save('./data/datasets.pkl')\n",
    "datasets = datasets.load('./data/datasets.pkl')"
   ]
  },
  {
   "cell_type": "code",
   "execution_count": null,
   "metadata": {},
   "outputs": [],
   "source": [
    ""
   ]
  }
 ],
 "metadata": {
  "kernelspec": {
   "display_name": "Python 3",
   "language": "python",
   "name": "python3"
  },
  "language_info": {
   "codemirror_mode": {
    "name": "ipython",
    "version": 3.0
   },
   "file_extension": ".py",
   "mimetype": "text/x-python",
   "name": "python",
   "nbconvert_exporter": "python",
   "pygments_lexer": "ipython3",
   "version": "3.7.1"
  }
 },
 "nbformat": 4,
 "nbformat_minor": 0
}