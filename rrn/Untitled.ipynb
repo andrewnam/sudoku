{
 "cells": [
  {
   "cell_type": "code",
   "execution_count": 118,
   "metadata": {
    "collapsed": false
   },
   "outputs": [
    {
     "name": "stderr",
     "output_type": "stream",
     "text": [
      "/Users/andrew/anaconda/lib/python3.6/site-packages/h5py/__init__.py:34: FutureWarning: Conversion of the second argument of issubdtype from `float` to `np.floating` is deprecated. In future, it will be treated as `np.float64 == np.dtype(float).type`.\n",
      "  from ._conv import register_converters as _register_converters\n",
      "Using TensorFlow backend.\n",
      "/Users/andrew/anaconda/lib/python3.6/importlib/_bootstrap.py:219: RuntimeWarning: compiletime version 3.5 of module 'tensorflow.python.framework.fast_tensor_util' does not match runtime version 3.6\n",
      "  return f(*args, **kwds)\n"
     ]
    }
   ],
   "source": [
    "SUDOKU_PATH = \"/Users/andrew/Desktop/sudoku\"\n",
    "\n",
    "import torch\n",
    "import torch.nn.functional as F\n",
    "import numpy as np\n",
    "import keras.utils\n",
    "\n",
    "from enum import Enum\n",
    "\n",
    "import sys\n",
    "sys.path.append(SUDOKU_PATH + '/src/sudoku')\n",
    "\n",
    "from Dict import Dict\n",
    "from solutions import Solutions\n",
    "import utils"
   ]
  },
  {
   "cell_type": "code",
   "execution_count": 2,
   "metadata": {
    "collapsed": false
   },
   "outputs": [
    {
     "name": "stdout",
     "output_type": "stream",
     "text": [
      "Successfully loaded from /Users/andrew/Desktop/sudoku/data/solutions9.txt\n"
     ]
    }
   ],
   "source": [
    "solutions = Solutions(SUDOKU_PATH + '/data/solutions9.txt')"
   ]
  },
  {
   "cell_type": "code",
   "execution_count": 24,
   "metadata": {
    "collapsed": false
   },
   "outputs": [
    {
     "name": "stdout",
     "output_type": "stream",
     "text": [
      "2.2.1234341223414123 ['4: 11', '5: 37', '6: 81', '7: 138', '8: 199', '9: 269', '10: 333', '11: 373', '12: 364', '13: 290', '14: 116', '15: 16', '16: 1']\n",
      "2.2.1234341243212143 ['5: 11', '6: 38', '7: 92', '8: 159', '9: 249', '10: 339', '11: 399', '12: 421', '13: 339', '14: 116', '15: 16', '16: 1']\n",
      "2.2.1234432131422413 ['4: 8', '5: 40', '6: 91', '7: 141', '8: 197', '9: 256', '10: 322', '11: 366', '12: 370', '13: 304', '14: 117', '15: 16', '16: 1']\n",
      "2.2.1234342121434312 ['4: 5', '5: 35', '6: 87', '7: 146', '8: 219', '9: 307', '10: 373', '11: 414', '12: 415', '13: 312', '14: 117', '15: 16', '16: 1']\n",
      "2.2.1234342143122143 ['4: 6', '5: 42', '6: 90', '7: 159', '8: 226', '9: 295', '10: 348', '11: 392', '12: 393', '13: 303', '14: 116', '15: 16', '16: 1']\n",
      "2.2.1234341221434321 ['5: 3', '6: 32', '7: 91', '8: 169', '9: 252', '10: 338', '11: 407', '12: 425', '13: 317', '14: 115', '15: 16', '16: 1']\n",
      "2.2.1234432124133142 ['4: 8', '5: 38', '6: 87', '7: 138', '8: 193', '9: 269', '10: 326', '11: 374', '12: 385', '13: 300', '14: 117', '15: 16', '16: 1']\n",
      "2.2.1234341241232341 ['4: 7', '5: 40', '6: 87', '7: 150', '8: 213', '9: 275', '10: 337', '11: 372', '12: 363', '13: 291', '14: 112', '15: 16', '16: 1']\n",
      "2.2.1234432121433412 ['4: 2', '5: 16', '6: 55', '7: 110', '8: 185', '9: 274', '10: 364', '11: 437', '12: 451', '13: 336', '14: 116', '15: 16', '16: 1']\n",
      "2.2.1234431234212143 ['4: 5', '5: 39', '6: 102', '7: 181', '8: 256', '9: 339', '10: 404', '11: 449', '12: 445', '13: 332', '14: 116', '15: 16', '16: 1']\n",
      "2.2.1234431221433421 ['4: 11', '5: 46', '6: 96', '7: 151', '8: 219', '9: 305', '10: 368', '11: 407', '12: 409', '13: 302', '14: 115', '15: 16', '16: 1']\n",
      "2.2.1234432134122143 ['4: 1', '5: 10', '6: 37', '7: 88', '8: 152', '9: 224', '10: 303', '11: 372', '12: 408', '13: 321', '14: 118', '15: 16', '16: 1']\n"
     ]
    }
   ],
   "source": [
    "nums = solutions.get_num_puzzles_per_hint()\n",
    "for s in nums:\n",
    "    print(s.stringify(), [\"{}: {}\".format(k, nums[s][k]) for k in sorted(nums[s])])"
   ]
  },
  {
   "cell_type": "code",
   "execution_count": 25,
   "metadata": {
    "collapsed": false
   },
   "outputs": [
    {
     "name": "stdout",
     "output_type": "stream",
     "text": [
      "Successfully loaded from /Users/andrew/Desktop/sudoku/data/solutions10.txt\n",
      "2.2.1234341223414123 ['4: 11', '5: 37', '6: 81', '7: 138', '8: 199', '9: 269', '10: 333', '11: 373', '12: 364', '13: 290', '14: 116', '15: 16', '16: 1']\n",
      "2.2.1234341243212143 ['5: 11', '6: 38', '7: 93', '8: 161', '9: 252', '10: 343', '11: 402', '12: 424', '13: 340', '14: 116', '15: 16', '16: 1']\n",
      "2.2.1234432131422413 ['4: 8', '5: 40', '6: 91', '7: 141', '8: 197', '9: 256', '10: 322', '11: 366', '12: 370', '13: 304', '14: 117', '15: 16', '16: 1']\n",
      "2.2.1234342121434312 ['4: 5', '5: 35', '6: 87', '7: 146', '8: 219', '9: 307', '10: 373', '11: 414', '12: 415', '13: 312', '14: 117', '15: 16', '16: 1']\n",
      "2.2.1234342143122143 ['4: 6', '5: 42', '6: 90', '7: 159', '8: 226', '9: 295', '10: 348', '11: 392', '12: 393', '13: 303', '14: 116', '15: 16', '16: 1']\n",
      "2.2.1234341221434321 ['5: 3', '6: 32', '7: 91', '8: 169', '9: 252', '10: 338', '11: 407', '12: 425', '13: 317', '14: 115', '15: 16', '16: 1']\n",
      "2.2.1234432124133142 ['4: 8', '5: 38', '6: 87', '7: 138', '8: 193', '9: 269', '10: 326', '11: 374', '12: 385', '13: 300', '14: 117', '15: 16', '16: 1']\n",
      "2.2.1234341241232341 ['4: 7', '5: 40', '6: 87', '7: 150', '8: 213', '9: 275', '10: 337', '11: 372', '12: 363', '13: 291', '14: 112', '15: 16', '16: 1']\n",
      "2.2.1234432121433412 ['4: 2', '5: 16', '6: 55', '7: 110', '8: 185', '9: 274', '10: 364', '11: 437', '12: 451', '13: 336', '14: 116', '15: 16', '16: 1']\n",
      "2.2.1234431234212143 ['4: 5', '5: 39', '6: 102', '7: 181', '8: 256', '9: 339', '10: 404', '11: 449', '12: 445', '13: 332', '14: 116', '15: 16', '16: 1']\n",
      "2.2.1234431221433421 ['4: 11', '5: 46', '6: 96', '7: 151', '8: 219', '9: 305', '10: 368', '11: 407', '12: 409', '13: 302', '14: 115', '15: 16', '16: 1']\n",
      "2.2.1234432134122143 ['4: 1', '5: 10', '6: 37', '7: 88', '8: 152', '9: 224', '10: 303', '11: 372', '12: 408', '13: 321', '14: 118', '15: 16', '16: 1']\n"
     ]
    }
   ],
   "source": [
    "solutions = Solutions(SUDOKU_PATH + '/data/solutions10.txt')\n",
    "nums = solutions.get_num_puzzles_per_hint()\n",
    "for s in nums:\n",
    "    print(s.stringify(), [\"{}: {}\".format(k, nums[s][k]) for k in sorted(nums[s])])"
   ]
  },
  {
   "cell_type": "code",
   "execution_count": 11,
   "metadata": {
    "collapsed": false
   },
   "outputs": [
    {
     "data": {
      "text/plain": [
       "4"
      ]
     },
     "execution_count": 11,
     "metadata": {},
     "output_type": "execute_result"
    }
   ],
   "source": [
    "min(utils.flatten([v.keys() for v in nums.values()]))"
   ]
  },
  {
   "cell_type": "code",
   "execution_count": 15,
   "metadata": {
    "collapsed": false
   },
   "outputs": [],
   "source": [
    "counts = nums\n",
    "min_hints = min(utils.flatten([v.keys() for v in counts.values()]))\n",
    "min_hint_counts = {k: v[min_hints] for k, v in counts.items()}\n",
    "min_board = min(min_hint_counts, key=lambda k: min_hint_counts[k])\n",
    "return min_board"
   ]
  },
  {
   "cell_type": "code",
   "execution_count": 17,
   "metadata": {
    "collapsed": false
   },
   "outputs": [
    {
     "name": "stdout",
     "output_type": "stream",
     "text": [
      "2.2.1234341223414123 11\n",
      "2.2.1234341243212143 0\n",
      "2.2.1234432131422413 8\n",
      "2.2.1234342121434312 5\n",
      "2.2.1234342143122143 6\n",
      "2.2.1234341221434321 0\n",
      "2.2.1234432124133142 8\n",
      "2.2.1234341241232341 7\n",
      "2.2.1234432121433412 2\n",
      "2.2.1234431234212143 5\n",
      "2.2.1234431221433421 11\n",
      "2.2.1234432134122143 1\n"
     ]
    }
   ],
   "source": [
    "for k, v in min_hint_counts.items():\n",
    "    print(k.stringify(), v)"
   ]
  },
  {
   "cell_type": "code",
   "execution_count": 19,
   "metadata": {
    "collapsed": false
   },
   "outputs": [],
   "source": []
  },
  {
   "cell_type": "code",
   "execution_count": 20,
   "metadata": {
    "collapsed": false
   },
   "outputs": [
    {
     "data": {
      "text/plain": [
       "0"
      ]
     },
     "execution_count": 20,
     "metadata": {},
     "output_type": "execute_result"
    }
   ],
   "source": [
    "min_hint_counts[min_board]"
   ]
  },
  {
   "cell_type": "code",
   "execution_count": 21,
   "metadata": {
    "collapsed": false
   },
   "outputs": [
    {
     "data": {
      "text/plain": [
       "'2.2.1234341243212143'"
      ]
     },
     "execution_count": 21,
     "metadata": {},
     "output_type": "execute_result"
    }
   ],
   "source": [
    "min_board.stringify()"
   ]
  },
  {
   "cell_type": "code",
   "execution_count": 82,
   "metadata": {
    "collapsed": false
   },
   "outputs": [
    {
     "data": {
      "text/plain": [
       "[array([[0, 1, 2],\n",
       "        [3, 4, 5]]), array([[ 6,  7,  8],\n",
       "        [ 9, 10, 11],\n",
       "        [12, 13, 14]])]"
      ]
     },
     "execution_count": 82,
     "metadata": {},
     "output_type": "execute_result"
    }
   ],
   "source": [
    "a"
   ]
  },
  {
   "cell_type": "code",
   "execution_count": 76,
   "metadata": {
    "collapsed": false
   },
   "outputs": [
    {
     "data": {
      "text/plain": [
       "array([[ 6,  7,  8,  9],\n",
       "       [10, 11, 12, 13]])"
      ]
     },
     "execution_count": 76,
     "metadata": {},
     "output_type": "execute_result"
    }
   ],
   "source": [
    "a[1]"
   ]
  },
  {
   "cell_type": "code",
   "execution_count": 157,
   "metadata": {
    "collapsed": false
   },
   "outputs": [
    {
     "data": {
      "text/plain": [
       "array([[[[0.2, 0.2, 0.2, 0.2, 0.2],\n",
       "         [1. , 0. , 0. , 0. , 0. ],\n",
       "         [0. , 1. , 0. , 0. , 0. ],\n",
       "         [0. , 0. , 1. , 0. , 0. ]],\n",
       "\n",
       "        [[0. , 0. , 0. , 1. , 0. ],\n",
       "         [0. , 0. , 0. , 0. , 1. ],\n",
       "         [0.2, 0.2, 0.2, 0.2, 0.2],\n",
       "         [1. , 0. , 0. , 0. , 0. ]],\n",
       "\n",
       "        [[0. , 1. , 0. , 0. , 0. ],\n",
       "         [0. , 0. , 1. , 0. , 0. ],\n",
       "         [0. , 0. , 0. , 1. , 0. ],\n",
       "         [0. , 0. , 0. , 0. , 1. ]]],\n",
       "\n",
       "\n",
       "       [[[0.2, 0.2, 0.2, 0.2, 0.2],\n",
       "         [1. , 0. , 0. , 0. , 0. ],\n",
       "         [0. , 1. , 0. , 0. , 0. ],\n",
       "         [0. , 0. , 1. , 0. , 0. ]],\n",
       "\n",
       "        [[0. , 0. , 0. , 1. , 0. ],\n",
       "         [0. , 0. , 0. , 0. , 1. ],\n",
       "         [0.2, 0.2, 0.2, 0.2, 0.2],\n",
       "         [1. , 0. , 0. , 0. , 0. ]],\n",
       "\n",
       "        [[0. , 1. , 0. , 0. , 0. ],\n",
       "         [0. , 0. , 1. , 0. , 0. ],\n",
       "         [0. , 0. , 0. , 1. , 0. ],\n",
       "         [0. , 0. , 0. , 0. , 1. ]]]])"
      ]
     },
     "execution_count": 157,
     "metadata": {},
     "output_type": "execute_result"
    }
   ],
   "source": []
  },
  {
   "cell_type": "code",
   "execution_count": 150,
   "metadata": {
    "collapsed": false
   },
   "outputs": [
    {
     "data": {
      "text/plain": [
       "True"
      ]
     },
     "execution_count": 150,
     "metadata": {},
     "output_type": "execute_result"
    }
   ],
   "source": [
    "not a[:,:,:,1:][0][0][0].any()"
   ]
  },
  {
   "cell_type": "code",
   "execution_count": 142,
   "metadata": {
    "collapsed": false
   },
   "outputs": [
    {
     "ename": "SyntaxError",
     "evalue": "positional argument follows keyword argument (<ipython-input-142-82344dce924b>, line 1)",
     "output_type": "error",
     "traceback": [
      "\u001b[0;36m  File \u001b[0;32m\"<ipython-input-142-82344dce924b>\"\u001b[0;36m, line \u001b[0;32m1\u001b[0m\n\u001b[0;31m    np.apply_along_axis(lambda x: print(x), dim=len(a.shape)-1, a)\u001b[0m\n\u001b[0m                                                               ^\u001b[0m\n\u001b[0;31mSyntaxError\u001b[0m\u001b[0;31m:\u001b[0m positional argument follows keyword argument\n"
     ]
    }
   ],
   "source": []
  },
  {
   "cell_type": "code",
   "execution_count": 139,
   "metadata": {
    "collapsed": false
   },
   "outputs": [],
   "source": []
  },
  {
   "cell_type": "code",
   "execution_count": 16,
   "metadata": {
    "collapsed": false
   },
   "outputs": [
    {
     "name": "stdout",
     "output_type": "stream",
     "text": [
      "432 is 234\n"
     ]
    }
   ],
   "source": [
    "print(f\"{a} is 234\")"
   ]
  },
  {
   "cell_type": "code",
   "execution_count": 14,
   "metadata": {
    "collapsed": true
   },
   "outputs": [],
   "source": [
    "a = 432"
   ]
  },
  {
   "cell_type": "code",
   "execution_count": 19,
   "metadata": {
    "collapsed": false
   },
   "outputs": [],
   "source": [
    "a = torch.autograd.Variable(torch.Tensor(4))"
   ]
  },
  {
   "cell_type": "code",
   "execution_count": 21,
   "metadata": {
    "collapsed": false
   },
   "outputs": [
    {
     "data": {
      "text/plain": [
       "False"
      ]
     },
     "execution_count": 21,
     "metadata": {},
     "output_type": "execute_result"
    }
   ],
   "source": [
    "a.requires_grad"
   ]
  },
  {
   "cell_type": "code",
   "execution_count": 24,
   "metadata": {
    "collapsed": false
   },
   "outputs": [
    {
     "data": {
      "text/plain": [
       "False"
      ]
     },
     "execution_count": 24,
     "metadata": {},
     "output_type": "execute_result"
    }
   ],
   "source": [
    "torch.Tensor(4).requires_grad"
   ]
  },
  {
   "cell_type": "code",
   "execution_count": 27,
   "metadata": {
    "collapsed": false
   },
   "outputs": [],
   "source": [
    "torch.Tensor(4).requires_grad = True"
   ]
  },
  {
   "cell_type": "code",
   "execution_count": 28,
   "metadata": {
    "collapsed": false
   },
   "outputs": [
    {
     "data": {
      "text/plain": [
       "tensor([0, 1, 2, 3])"
      ]
     },
     "execution_count": 28,
     "metadata": {},
     "output_type": "execute_result"
    }
   ],
   "source": [
    "torch.arange(4)"
   ]
  },
  {
   "cell_type": "code",
   "execution_count": null,
   "metadata": {
    "collapsed": true
   },
   "outputs": [],
   "source": [
    "encoding = torch.zeros(x.shape + (torch.max(x)+1, ))\n",
    "dim = len(x.shape)\n",
    "x = x.view(x.shape + (1, ))\n",
    "return encoding.scatter_(dim, x, 1)"
   ]
  },
  {
   "cell_type": "code",
   "execution_count": 203,
   "metadata": {
    "collapsed": true
   },
   "outputs": [],
   "source": [
    "def one_hot_encode(x):\n",
    "    encoding = torch.zeros(x.shape + (torch.max(x)+1, ))\n",
    "    if x.is_cuda:\n",
    "        encoding = encoding.cuda(x.get_device())\n",
    "    dim = len(x.shape)\n",
    "    x = x.view(x.shape + (1, ))\n",
    "    return encoding.scatter_(dim, x, 1)\n",
    "\n",
    "def puzzle_as_dist(x):\n",
    "    tensor = type(x) == torch.Tensor\n",
    "    if tensor:\n",
    "        x = x.numpy()\n",
    "    p = np.ones(np.max(x))/np.max(x)\n",
    "    x = keras.utils.to_categorical(x, num_classes=np.max(x)+1, dtype='float64')\n",
    "    x = x[:,:,:,1:]\n",
    "    x = np.apply_along_axis(lambda a: a if a.any() else p, len(x.shape)-1, x)\n",
    "    return torch.tensor(x) if tensor else x\n",
    "    "
   ]
  },
  {
   "cell_type": "code",
   "execution_count": 244,
   "metadata": {
    "collapsed": true
   },
   "outputs": [],
   "source": [
    "def puzzle_as_dist(x):\n",
    "    x = one_hot_encode(x)\n",
    "    \n",
    "    # to account for arbitrary dimensionality\n",
    "    dims = len(x.shape)\n",
    "    order = [dims-1] + list(range(dims-1))\n",
    "    x = x.permute(order)[1:]\n",
    "    order = list(range(1, dims)) + [0]\n",
    "    x = x.permute(order)\n",
    "    \n",
    "    x = x.numpy()\n",
    "    p = np.ones(x.shape[-1])/x.shape[-1]\n",
    "    x = np.apply_along_axis(lambda a: a if a.any() else p, len(x.shape)-1, x)\n",
    "    return torch.tensor(x)"
   ]
  },
  {
   "cell_type": "code",
   "execution_count": 256,
   "metadata": {
    "collapsed": false
   },
   "outputs": [
    {
     "data": {
      "text/plain": [
       "tensor([[[ 0,  1,  2,  3,  0,  1,  2,  3],\n",
       "         [ 4,  5,  6,  7,  4,  5,  6,  7],\n",
       "         [ 8,  9, 10, 11,  8,  9, 10, 11]],\n",
       "\n",
       "        [[12, 13, 14, 15, 12, 13, 14, 15],\n",
       "         [16, 17, 18, 19, 16, 17, 18, 19],\n",
       "         [20, 21, 22, 23, 20, 21, 22, 23]]])"
      ]
     },
     "execution_count": 256,
     "metadata": {},
     "output_type": "execute_result"
    }
   ],
   "source": [
    "a = torch.arange(2*3*4).view(2,3,4)\n",
    "b = torch.arange(2*3*4).view(2,3,4)\n",
    "torch.cat([a, b], dim=len(a.shape)-1)"
   ]
  },
  {
   "cell_type": "code",
   "execution_count": 231,
   "metadata": {
    "collapsed": false
   },
   "outputs": [
    {
     "data": {
      "text/plain": [
       "tensor([[[[0., 0., 0., 0., 0.],\n",
       "          [1., 0., 0., 0., 0.],\n",
       "          [0., 1., 0., 0., 0.],\n",
       "          [0., 0., 1., 0., 0.]],\n",
       "\n",
       "         [[0., 0., 0., 1., 0.],\n",
       "          [0., 0., 0., 0., 1.],\n",
       "          [0., 0., 0., 0., 0.],\n",
       "          [1., 0., 0., 0., 0.]],\n",
       "\n",
       "         [[0., 1., 0., 0., 0.],\n",
       "          [0., 0., 1., 0., 0.],\n",
       "          [0., 0., 0., 1., 0.],\n",
       "          [0., 0., 0., 0., 1.]]],\n",
       "\n",
       "\n",
       "        [[[0., 0., 0., 0., 0.],\n",
       "          [1., 0., 0., 0., 0.],\n",
       "          [0., 1., 0., 0., 0.],\n",
       "          [0., 0., 1., 0., 0.]],\n",
       "\n",
       "         [[0., 0., 0., 1., 0.],\n",
       "          [0., 0., 0., 0., 1.],\n",
       "          [0., 0., 0., 0., 0.],\n",
       "          [1., 0., 0., 0., 0.]],\n",
       "\n",
       "         [[0., 1., 0., 0., 0.],\n",
       "          [0., 0., 1., 0., 0.],\n",
       "          [0., 0., 0., 1., 0.],\n",
       "          [0., 0., 0., 0., 1.]]]])"
      ]
     },
     "execution_count": 231,
     "metadata": {},
     "output_type": "execute_result"
    }
   ],
   "source": [
    "a = torch.stack([torch.arange(2*3)]*4).view(2,3,4)\n",
    "a = one_hot_encode(a)\n",
    "dims = len(a.shape)\n",
    "order = [dims-1] + list(range(dims-1))\n",
    "a = a.permute(order)[1:]\n",
    "order = list(range(1, dims)) + [0]\n",
    "a = a.permute(order)\n",
    "#.permute(range(len(a.shape)-1))"
   ]
  },
  {
   "cell_type": "code",
   "execution_count": 205,
   "metadata": {
    "collapsed": false
   },
   "outputs": [
    {
     "data": {
      "text/plain": [
       "tensor([[[[0.2000, 0.2000, 0.2000, 0.2000, 0.2000],\n",
       "          [1.0000, 0.0000, 0.0000, 0.0000, 0.0000],\n",
       "          [0.0000, 1.0000, 0.0000, 0.0000, 0.0000],\n",
       "          [0.0000, 0.0000, 1.0000, 0.0000, 0.0000]],\n",
       "\n",
       "         [[0.0000, 0.0000, 0.0000, 1.0000, 0.0000],\n",
       "          [0.0000, 0.0000, 0.0000, 0.0000, 1.0000],\n",
       "          [0.2000, 0.2000, 0.2000, 0.2000, 0.2000],\n",
       "          [1.0000, 0.0000, 0.0000, 0.0000, 0.0000]],\n",
       "\n",
       "         [[0.0000, 1.0000, 0.0000, 0.0000, 0.0000],\n",
       "          [0.0000, 0.0000, 1.0000, 0.0000, 0.0000],\n",
       "          [0.0000, 0.0000, 0.0000, 1.0000, 0.0000],\n",
       "          [0.0000, 0.0000, 0.0000, 0.0000, 1.0000]]],\n",
       "\n",
       "\n",
       "        [[[0.2000, 0.2000, 0.2000, 0.2000, 0.2000],\n",
       "          [1.0000, 0.0000, 0.0000, 0.0000, 0.0000],\n",
       "          [0.0000, 1.0000, 0.0000, 0.0000, 0.0000],\n",
       "          [0.0000, 0.0000, 1.0000, 0.0000, 0.0000]],\n",
       "\n",
       "         [[0.0000, 0.0000, 0.0000, 1.0000, 0.0000],\n",
       "          [0.0000, 0.0000, 0.0000, 0.0000, 1.0000],\n",
       "          [0.2000, 0.2000, 0.2000, 0.2000, 0.2000],\n",
       "          [1.0000, 0.0000, 0.0000, 0.0000, 0.0000]],\n",
       "\n",
       "         [[0.0000, 1.0000, 0.0000, 0.0000, 0.0000],\n",
       "          [0.0000, 0.0000, 1.0000, 0.0000, 0.0000],\n",
       "          [0.0000, 0.0000, 0.0000, 1.0000, 0.0000],\n",
       "          [0.0000, 0.0000, 0.0000, 0.0000, 1.0000]]]])"
      ]
     },
     "execution_count": 205,
     "metadata": {},
     "output_type": "execute_result"
    }
   ],
   "source": [
    "a = torch.stack([torch.arange(2*3)]*4).view(2,3,4)\n",
    "puzzle_as_dist(a)"
   ]
  },
  {
   "cell_type": "code",
   "execution_count": 185,
   "metadata": {
    "collapsed": false
   },
   "outputs": [
    {
     "data": {
      "text/plain": [
       "torch.Size([2, 3, 4, 5])"
      ]
     },
     "execution_count": 185,
     "metadata": {},
     "output_type": "execute_result"
    }
   ],
   "source": [
    "torch.tensor(puzzle_as_dist(a.numpy())).shape"
   ]
  },
  {
   "cell_type": "code",
   "execution_count": 187,
   "metadata": {
    "collapsed": false
   },
   "outputs": [
    {
     "data": {
      "text/plain": [
       "True"
      ]
     },
     "execution_count": 187,
     "metadata": {},
     "output_type": "execute_result"
    }
   ],
   "source": [
    "type(torch.tensor(puzzle_as_dist(a.numpy()))) == torch.Tensor"
   ]
  },
  {
   "cell_type": "code",
   "execution_count": 95,
   "metadata": {
    "collapsed": false
   },
   "outputs": [
    {
     "data": {
      "text/plain": [
       "tensor([0.2500, 0.0000, 0.0000, 0.0000])"
      ]
     },
     "execution_count": 95,
     "metadata": {},
     "output_type": "execute_result"
    }
   ],
   "source": [
    "a[0,:] * encoding[:,0]"
   ]
  },
  {
   "cell_type": "code",
   "execution_count": 93,
   "metadata": {
    "collapsed": false
   },
   "outputs": [
    {
     "data": {
      "text/plain": [
       "tensor([1., 0., 0., 0.])"
      ]
     },
     "execution_count": 93,
     "metadata": {},
     "output_type": "execute_result"
    }
   ],
   "source": [
    "encoding[:,0]"
   ]
  },
  {
   "cell_type": "code",
   "execution_count": 257,
   "metadata": {
    "collapsed": false
   },
   "outputs": [
    {
     "name": "stdout",
     "output_type": "stream",
     "text": [
      "Gradient of w1 w.r.t to L: -36.0\n",
      "Gradient of w2 w.r.t to L: -28.0\n",
      "Gradient of w3 w.r.t to L: -8.0\n",
      "Gradient of w4 w.r.t to L: -20.0\n"
     ]
    }
   ],
   "source": [
    "from torch import FloatTensor\n",
    "from torch.autograd import Variable\n",
    "\n",
    "\n",
    "# Define the leaf nodes\n",
    "a = Variable(FloatTensor([4]))\n",
    "\n",
    "weights = [Variable(FloatTensor([i]), requires_grad=True) for i in (2, 5, 9, 7)]\n",
    "\n",
    "# unpack the weights for nicer assignment\n",
    "w1, w2, w3, w4 = weights\n",
    "\n",
    "b = w1 * a\n",
    "c = w2 * a\n",
    "d = w3 * b + w4 * c\n",
    "L = (10 - d)\n",
    "\n",
    "L.backward()\n",
    "\n",
    "for index, weight in enumerate(weights, start=1):\n",
    "    gradient, *_ = weight.grad.data\n",
    "    print(f\"Gradient of w{index} w.r.t to L: {gradient}\")"
   ]
  },
  {
   "cell_type": "code",
   "execution_count": 305,
   "metadata": {
    "collapsed": false
   },
   "outputs": [
    {
     "data": {
      "text/plain": [
       "tensor([[1., 2.],\n",
       "        [3., 4.],\n",
       "        [5., 6.]], requires_grad=True)"
      ]
     },
     "execution_count": 305,
     "metadata": {},
     "output_type": "execute_result"
    }
   ],
   "source": [
    "v = torch.arange(3, dtype=torch.double)\n",
    "a = torch.arange(6, dtype=torch.double).view(3,2) + 1\n",
    "a.requires_grad = True\n",
    "t = torch.arange(2, dtype=torch.double) + 4\n",
    "a"
   ]
  },
  {
   "cell_type": "code",
   "execution_count": 306,
   "metadata": {
    "collapsed": false
   },
   "outputs": [
    {
     "name": "stdout",
     "output_type": "stream",
     "text": [
      "tensor([[-0., -0.],\n",
      "        [-1., -1.],\n",
      "        [-2., -2.]])\n"
     ]
    }
   ],
   "source": [
    "L = torch.sum(t - v.matmul(a))\n",
    "L.backward()\n",
    "print(a.grad.data)"
   ]
  },
  {
   "cell_type": "code",
   "execution_count": 308,
   "metadata": {
    "collapsed": false
   },
   "outputs": [
    {
     "name": "stdout",
     "output_type": "stream",
     "text": [
      "tensor([4., 5.])\n",
      "tensor([13., 16.], grad_fn=<SqueezeBackward3>)\n",
      "tensor([ -9., -11.], grad_fn=<ThSubBackward>)\n"
     ]
    }
   ],
   "source": [
    "print(t)\n",
    "print(v.matmul(a))\n",
    "print(t - v.matmul(a))"
   ]
  },
  {
   "cell_type": "code",
   "execution_count": 300,
   "metadata": {
    "collapsed": false
   },
   "outputs": [
    {
     "data": {
      "text/plain": [
       "tensor([ -9., -11.], grad_fn=<ThSubBackward>)"
      ]
     },
     "execution_count": 300,
     "metadata": {},
     "output_type": "execute_result"
    }
   ],
   "source": [
    "t - v.matmul(a)"
   ]
  },
  {
   "cell_type": "code",
   "execution_count": 301,
   "metadata": {
    "collapsed": false
   },
   "outputs": [
    {
     "data": {
      "text/plain": [
       "tensor([[-0., -0.],\n",
       "        [-1., -1.],\n",
       "        [-2., -2.]])"
      ]
     },
     "execution_count": 301,
     "metadata": {},
     "output_type": "execute_result"
    }
   ],
   "source": []
  },
  {
   "cell_type": "code",
   "execution_count": 302,
   "metadata": {
    "collapsed": false
   },
   "outputs": [
    {
     "data": {
      "text/plain": [
       "tensor([13., 16.], grad_fn=<SqueezeBackward3>)"
      ]
     },
     "execution_count": 302,
     "metadata": {},
     "output_type": "execute_result"
    }
   ],
   "source": [
    "v.matmul(a)"
   ]
  },
  {
   "cell_type": "code",
   "execution_count": 303,
   "metadata": {
    "collapsed": false
   },
   "outputs": [
    {
     "data": {
      "text/plain": [
       "tensor([0., 1., 2.])"
      ]
     },
     "execution_count": 303,
     "metadata": {},
     "output_type": "execute_result"
    }
   ],
   "source": [
    "v"
   ]
  },
  {
   "cell_type": "code",
   "execution_count": 304,
   "metadata": {
    "collapsed": false
   },
   "outputs": [
    {
     "data": {
      "text/plain": [
       "tensor([[1., 2.],\n",
       "        [3., 4.],\n",
       "        [5., 6.]], requires_grad=True)"
      ]
     },
     "execution_count": 304,
     "metadata": {},
     "output_type": "execute_result"
    }
   ],
   "source": [
    "a"
   ]
  },
  {
   "cell_type": "code",
   "execution_count": null,
   "metadata": {
    "collapsed": true
   },
   "outputs": [],
   "source": []
  }
 ],
 "metadata": {
  "kernelspec": {
   "display_name": "Python 3",
   "language": "python",
   "name": "python3"
  },
  "language_info": {
   "codemirror_mode": {
    "name": "ipython",
    "version": 3
   },
   "file_extension": ".py",
   "mimetype": "text/x-python",
   "name": "python",
   "nbconvert_exporter": "python",
   "pygments_lexer": "ipython3",
   "version": "3.6.6"
  }
 },
 "nbformat": 4,
 "nbformat_minor": 0
}
