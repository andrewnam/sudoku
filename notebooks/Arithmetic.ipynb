{
 "cells": [
  {
   "cell_type": "code",
   "execution_count": 1,
   "metadata": {
    "collapsed": true
   },
   "outputs": [],
   "source": [
    "%matplotlib inline\n",
    "\n",
    "import torch\n",
    "import torch.nn as nn\n",
    "import torch.optim as optim\n",
    "import numpy as np\n",
    "import itertools\n",
    "import random\n",
    "import matplotlib\n",
    "import matplotlib.pyplot as plt\n",
    "from tqdm import tqdm, tqdm_notebook"
   ]
  },
  {
   "cell_type": "code",
   "execution_count": 2,
   "metadata": {
    "collapsed": false
   },
   "outputs": [],
   "source": [
    "# set random seed to 0\n",
    "np.random.seed(0)\n",
    "torch.manual_seed(0)\n",
    "torch.set_default_tensor_type('torch.DoubleTensor')"
   ]
  },
  {
   "cell_type": "code",
   "execution_count": 3,
   "metadata": {
    "collapsed": false
   },
   "outputs": [],
   "source": [
    "class Expression:\n",
    "    \n",
    "    @staticmethod\n",
    "    def add(a, b):\n",
    "        return a + b\n",
    "    \n",
    "    @staticmethod\n",
    "    def subtract(a, b):\n",
    "        return a - b\n",
    "    \n",
    "    @staticmethod\n",
    "    def multiply(a, b):\n",
    "        return a * b\n",
    "    \n",
    "    @staticmethod\n",
    "    def divide(a, b):\n",
    "        return a / b\n",
    "    \n",
    "    def __init__(self, operation, operands):\n",
    "        assert operation in (Expression.add, Expression.subtract, Expression.multiply, Expression.divide)\n",
    "        self.operation = operation\n",
    "        self.operands = operands\n",
    "        self.vertical_view = self.get_vertical_view(with_solution=False)\n",
    "        self.vertical_view_sol = self.get_vertical_view(with_solution=True)\n",
    "    \n",
    "    def evaluate(self):\n",
    "        result = self.operands[0]\n",
    "        for n in self.operands[1:]:\n",
    "            result = self.operation(result, n)\n",
    "        return result\n",
    "    \n",
    "    def get_vertical_view(self, with_solution=True):\n",
    "        str_operands = [str(n) for n in self.operands]\n",
    "        sig_digit = max((len(n) for n in str_operands))\n",
    "        \n",
    "        grid = np.empty((len(self.operands) + 2, max(sig_digit, len(str(self.evaluate())))), dtype=np.str)\n",
    "        grid[:,:] = ' '\n",
    "        grid[-2,:] = '_'\n",
    "        for i in range(len(str_operands)):\n",
    "            operand = str_operands[i]\n",
    "            for j in range(len(operand)):\n",
    "                grid[i,-j-1] = operand[-j-1]\n",
    "                \n",
    "        if with_solution:\n",
    "            solution = str(self.evaluate())\n",
    "            for j in range(len(solution)):\n",
    "                grid[-1,-j-1] = solution[-j-1]\n",
    "        return grid\n",
    "        \n",
    "    def get_op_string(self):\n",
    "        if self.operation is Expression.add:\n",
    "            return '+'\n",
    "        if self.operation is Expression.subtract:\n",
    "            return '-'\n",
    "        if self.operation is Expression.multiply:\n",
    "            return '*'\n",
    "        if self.operation is Expression.divide:\n",
    "            return '/'\n",
    "    \n",
    "    def __repr__(self):\n",
    "        return self.get_op_string().join((str(n) for n in self.operands)) + '=' + str(self.evaluate())"
   ]
  },
  {
   "cell_type": "code",
   "execution_count": 4,
   "metadata": {
    "collapsed": false
   },
   "outputs": [],
   "source": [
    "class ViewDirection:\n",
    "    \n",
    "    UP_EDGE = \"UP_EDGE\"\n",
    "    DOWN_EDGE = \"DOWN_EDGE\"\n",
    "    LEFT_EDGE = \"LEFT_EDGE\"\n",
    "    RIGHT_EDGE = \"RIGHT_EDGE\"\n",
    "    UP_RELATIVE = \"UP_RELATIVE\"\n",
    "    DOWN_RELATIVE = \"DOWN_RELATIVE\"\n",
    "    LEFT_RELATIVE = \"LEFT_RELATIVE\"\n",
    "    RIGHT_RELATIVE = \"RIGHT_RELATIVE\"\n",
    "    DO_NOTHING = \"DO_NOTHING\"\n",
    "    \n",
    "    def __init__(self, vertical, horizontal):\n",
    "        assert vertical in (ViewDirection.UP_EDGE,\n",
    "                           ViewDirection.DOWN_EDGE,\n",
    "                           ViewDirection.UP_RELATIVE,\n",
    "                           ViewDirection.DOWN_RELATIVE,\n",
    "                           ViewDirection.DO_NOTHING)\n",
    "        assert horizontal in (ViewDirection.LEFT_EDGE,\n",
    "                           ViewDirection.RIGHT_EDGE,\n",
    "                           ViewDirection.LEFT_RELATIVE,\n",
    "                           ViewDirection.RIGHT_RELATIVE,\n",
    "                           ViewDirection.DO_NOTHING)\n",
    "        \n",
    "        self.vertical = vertical\n",
    "        self.horizontal = horizontal\n",
    "        \n",
    "    def get_coord(self, cur_coord, vertical_view_shape):\n",
    "        vert = None\n",
    "        horiz = None\n",
    "        \n",
    "        if self.vertical == ViewDirection.UP_EDGE:\n",
    "            vert = 0\n",
    "        elif self.vertical == ViewDirection.DOWN_EDGE:\n",
    "            vert = vertical_view_shape[0] - 1\n",
    "        elif self.vertical == ViewDirection.UP_RELATIVE:\n",
    "            vert = cur_coord[0] - 1\n",
    "        elif self.vertical == ViewDirection.DOWN_RELATIVE:\n",
    "            vert = cur_coord[0] + 1\n",
    "        elif self.vertical == ViewDirection.DO_NOTHING:\n",
    "            vert = cur_coord[0]\n",
    "        else:\n",
    "            assert False\n",
    "\n",
    "        if self.horizontal == ViewDirection.LEFT_EDGE:\n",
    "            horiz = 0\n",
    "        elif self.horizontal == ViewDirection.RIGHT_EDGE:\n",
    "            horiz = vertical_view_shape[1] - 1\n",
    "        elif self.horizontal == ViewDirection.LEFT_RELATIVE:\n",
    "            horiz = cur_coord[1] - 1\n",
    "        elif self.horizontal == ViewDirection.RIGHT_RELATIVE:\n",
    "            horiz = cur_coord[1] + 1\n",
    "        elif self.horizontal == ViewDirection.DO_NOTHING:\n",
    "            horiz = cur_coord[1]\n",
    "        else:\n",
    "            assert False\n",
    "            \n",
    "        return (vert, horiz)\n",
    "    \n",
    "    def __repr__(self):\n",
    "        return str((self.vertical, self.horizontal))\n",
    "    \n",
    "    \n",
    "class AdditionSolver:\n",
    "    \n",
    "    def __init__(self, expression):\n",
    "        assert expression.operation == Expression.add\n",
    "        self.expression = expression\n",
    "        self.view_dir_history = []\n",
    "        self.coord_history = []\n",
    "        self.write_history = []\n",
    "        self.current_value = 0\n",
    "        \n",
    "    \"\"\"\n",
    "    Returns a ViewDirection, next_coord, and a digit to write\n",
    "    \"\"\"\n",
    "    def action(self, view_direction):\n",
    "        vertical_view = self.expression.vertical_view_sol\n",
    "        last_coord = self.coord_history[-1] if self.coord_history else None\n",
    "        write = None\n",
    "        \n",
    "        # If beginning of problem, i.e. nothing has been done yet\n",
    "        # Move to top-right corner\n",
    "        if view_direction is None:\n",
    "            next_view_direction = ViewDirection(ViewDirection.UP_EDGE, ViewDirection.RIGHT_EDGE)\n",
    "            \n",
    "        # If at bottom of problem, i.e. the solution area,\n",
    "        # write and move to next column if there is one\n",
    "        elif last_coord[0] == vertical_view.shape[0] - 1:\n",
    "            if last_coord[1] > 0:\n",
    "                next_view_direction = ViewDirection(ViewDirection.UP_EDGE, ViewDirection.LEFT_RELATIVE)\n",
    "            else:\n",
    "                next_view_direction = None\n",
    "            write = str(self.current_value % 10)\n",
    "            self.current_value = self.current_value // 10\n",
    "            \n",
    "        # If at second to last row of problem, i.e. the bar, \n",
    "        # do nothing and shift view down\n",
    "        elif last_coord[0] == vertical_view.shape[0] - 2:\n",
    "            next_view_direction = ViewDirection(ViewDirection.DOWN_RELATIVE, ViewDirection.DO_NOTHING)\n",
    "            \n",
    "        # If at an operand, \n",
    "        # add to the current_value, shift view down\n",
    "        else:\n",
    "            view_value = vertical_view[last_coord]\n",
    "            if view_value != ' ':\n",
    "                self.current_value += int(view_value)\n",
    "            \n",
    "            next_view_direction = ViewDirection(ViewDirection.DOWN_RELATIVE, ViewDirection.DO_NOTHING)\n",
    "            \n",
    "        self.view_dir_history.append(next_view_direction)\n",
    "        next_coord = next_view_direction.get_coord(last_coord, vertical_view.shape) if next_view_direction else None\n",
    "        self.coord_history.append(next_coord)\n",
    "        self.write_history.append(write)\n",
    "        return next_view_direction, next_coord, write"
   ]
  },
  {
   "cell_type": "code",
   "execution_count": 5,
   "metadata": {
    "collapsed": false,
    "scrolled": true
   },
   "outputs": [
    {
     "name": "stdout",
     "output_type": "stream",
     "text": [
      "[[' ' ' ' '9' '9' '9']\n",
      " [' ' ' ' '9' '9' '9']\n",
      " [' ' ' ' '9' '9' '9']\n",
      " [' ' ' ' '9' '9' '9']\n",
      " [' ' ' ' '9' '9' '9']\n",
      " [' ' ' ' '9' '9' '9']\n",
      " [' ' ' ' '9' '9' '9']\n",
      " [' ' ' ' '9' '9' '9']\n",
      " [' ' ' ' '9' '9' '9']\n",
      " [' ' ' ' '9' '9' '9']\n",
      " [' ' ' ' '9' '9' '9']\n",
      " ['_' '_' '_' '_' '_']\n",
      " ['1' '0' '9' '8' '9']]\n",
      "('UP_EDGE', 'RIGHT_EDGE') (0, 4) None\n",
      "('DOWN_RELATIVE', 'DO_NOTHING') (1, 4) None\n",
      "('DOWN_RELATIVE', 'DO_NOTHING') (2, 4) None\n",
      "('DOWN_RELATIVE', 'DO_NOTHING') (3, 4) None\n",
      "('DOWN_RELATIVE', 'DO_NOTHING') (4, 4) None\n",
      "('DOWN_RELATIVE', 'DO_NOTHING') (5, 4) None\n",
      "('DOWN_RELATIVE', 'DO_NOTHING') (6, 4) None\n",
      "('DOWN_RELATIVE', 'DO_NOTHING') (7, 4) None\n",
      "('DOWN_RELATIVE', 'DO_NOTHING') (8, 4) None\n",
      "('DOWN_RELATIVE', 'DO_NOTHING') (9, 4) None\n",
      "('DOWN_RELATIVE', 'DO_NOTHING') (10, 4) None\n",
      "('DOWN_RELATIVE', 'DO_NOTHING') (11, 4) None\n",
      "('DOWN_RELATIVE', 'DO_NOTHING') (12, 4) None\n",
      "('UP_EDGE', 'LEFT_RELATIVE') (0, 3) 9\n",
      "('DOWN_RELATIVE', 'DO_NOTHING') (1, 3) None\n",
      "('DOWN_RELATIVE', 'DO_NOTHING') (2, 3) None\n",
      "('DOWN_RELATIVE', 'DO_NOTHING') (3, 3) None\n",
      "('DOWN_RELATIVE', 'DO_NOTHING') (4, 3) None\n",
      "('DOWN_RELATIVE', 'DO_NOTHING') (5, 3) None\n",
      "('DOWN_RELATIVE', 'DO_NOTHING') (6, 3) None\n",
      "('DOWN_RELATIVE', 'DO_NOTHING') (7, 3) None\n",
      "('DOWN_RELATIVE', 'DO_NOTHING') (8, 3) None\n",
      "('DOWN_RELATIVE', 'DO_NOTHING') (9, 3) None\n",
      "('DOWN_RELATIVE', 'DO_NOTHING') (10, 3) None\n",
      "('DOWN_RELATIVE', 'DO_NOTHING') (11, 3) None\n",
      "('DOWN_RELATIVE', 'DO_NOTHING') (12, 3) None\n",
      "('UP_EDGE', 'LEFT_RELATIVE') (0, 2) 8\n",
      "('DOWN_RELATIVE', 'DO_NOTHING') (1, 2) None\n",
      "('DOWN_RELATIVE', 'DO_NOTHING') (2, 2) None\n",
      "('DOWN_RELATIVE', 'DO_NOTHING') (3, 2) None\n",
      "('DOWN_RELATIVE', 'DO_NOTHING') (4, 2) None\n",
      "('DOWN_RELATIVE', 'DO_NOTHING') (5, 2) None\n",
      "('DOWN_RELATIVE', 'DO_NOTHING') (6, 2) None\n",
      "('DOWN_RELATIVE', 'DO_NOTHING') (7, 2) None\n",
      "('DOWN_RELATIVE', 'DO_NOTHING') (8, 2) None\n",
      "('DOWN_RELATIVE', 'DO_NOTHING') (9, 2) None\n",
      "('DOWN_RELATIVE', 'DO_NOTHING') (10, 2) None\n",
      "('DOWN_RELATIVE', 'DO_NOTHING') (11, 2) None\n",
      "('DOWN_RELATIVE', 'DO_NOTHING') (12, 2) None\n",
      "('UP_EDGE', 'LEFT_RELATIVE') (0, 1) 9\n",
      "('DOWN_RELATIVE', 'DO_NOTHING') (1, 1) None\n",
      "('DOWN_RELATIVE', 'DO_NOTHING') (2, 1) None\n",
      "('DOWN_RELATIVE', 'DO_NOTHING') (3, 1) None\n",
      "('DOWN_RELATIVE', 'DO_NOTHING') (4, 1) None\n",
      "('DOWN_RELATIVE', 'DO_NOTHING') (5, 1) None\n",
      "('DOWN_RELATIVE', 'DO_NOTHING') (6, 1) None\n",
      "('DOWN_RELATIVE', 'DO_NOTHING') (7, 1) None\n",
      "('DOWN_RELATIVE', 'DO_NOTHING') (8, 1) None\n",
      "('DOWN_RELATIVE', 'DO_NOTHING') (9, 1) None\n",
      "('DOWN_RELATIVE', 'DO_NOTHING') (10, 1) None\n",
      "('DOWN_RELATIVE', 'DO_NOTHING') (11, 1) None\n",
      "('DOWN_RELATIVE', 'DO_NOTHING') (12, 1) None\n",
      "('UP_EDGE', 'LEFT_RELATIVE') (0, 0) 0\n",
      "('DOWN_RELATIVE', 'DO_NOTHING') (1, 0) None\n",
      "('DOWN_RELATIVE', 'DO_NOTHING') (2, 0) None\n",
      "('DOWN_RELATIVE', 'DO_NOTHING') (3, 0) None\n",
      "('DOWN_RELATIVE', 'DO_NOTHING') (4, 0) None\n",
      "('DOWN_RELATIVE', 'DO_NOTHING') (5, 0) None\n",
      "('DOWN_RELATIVE', 'DO_NOTHING') (6, 0) None\n",
      "('DOWN_RELATIVE', 'DO_NOTHING') (7, 0) None\n",
      "('DOWN_RELATIVE', 'DO_NOTHING') (8, 0) None\n",
      "('DOWN_RELATIVE', 'DO_NOTHING') (9, 0) None\n",
      "('DOWN_RELATIVE', 'DO_NOTHING') (10, 0) None\n",
      "('DOWN_RELATIVE', 'DO_NOTHING') (11, 0) None\n",
      "('DOWN_RELATIVE', 'DO_NOTHING') (12, 0) None\n",
      "None None 1\n"
     ]
    }
   ],
   "source": [
    "e = Expression(Expression.add, [999]*11)\n",
    "solver = AdditionSolver(e)\n",
    "print(e.vertical_view_sol)\n",
    "next_view_direction, next_coord, write = solver.action(None)\n",
    "print(next_view_direction, next_coord, write)\n",
    "while (next_view_direction is not None):\n",
    "    next_view_direction, next_coord, write = solver.action(next_view_direction)\n",
    "    print(next_view_direction, next_coord, write)"
   ]
  },
  {
   "cell_type": "code",
   "execution_count": 24,
   "metadata": {
    "collapsed": false
   },
   "outputs": [],
   "source": [
    "class Solver:\n",
    "    \n",
    "    INPUT_DIM             = 12  # Blank, line, any of 10 numerals\n",
    "    OUTPUT_DONE_DIM       = 1   # Marks whether problem is done or not\n",
    "    OUTPUT_WRITE_DIM      = 11  # Any of 10 numerals, do nothing -> d=11\n",
    "    OUTPUT_VIEW_VERT_DIM  = 5   # Any of 5 moves -> d=5\n",
    "    OUTPUT_VIEW_HORIZ_DIM = 5   # Any of 5 moves -> d=5\n",
    "    \n",
    "    INPUT_IND2CHAR        = ['0', '1', '2', '3', '4', '5', '6', '7', '8', '9', ' ', '_']\n",
    "    OUTPUT_IND2CHAR       = ['0', '1', '2', '3', '4', '5', '6', '7', '8', '9', None]\n",
    "    OUTPUT_IND2VVERT      = [ViewDirection.DO_NOTHING,\n",
    "                             ViewDirection.UP_EDGE,\n",
    "                             ViewDirection.DOWN_EDGE,\n",
    "                             ViewDirection.UP_RELATIVE,\n",
    "                             ViewDirection.DOWN_RELATIVE]\n",
    "    OUTPUT_IND2VHORIZ     = [ViewDirection.DO_NOTHING,\n",
    "                             ViewDirection.LEFT_EDGE,\n",
    "                             ViewDirection.RIGHT_EDGE,\n",
    "                             ViewDirection.LEFT_RELATIVE,\n",
    "                             ViewDirection.RIGHT_RELATIVE]\n",
    "    INPUT_CHAR2IND        = {Solver.INPUT_IND2CHAR[i]:    i for i in range(len(Solver.INPUT_IND2CHAR))   }\n",
    "    OUTPUT_CHAR2IND       = {Solver.OUTPUT_IND2CHAR[i]:   i for i in range(len(Solver.OUTPUT_IND2CHAR))  }\n",
    "    OUTPUT_VVERT2IND      = {Solver.OUTPUT_IND2VVERT[i]:  i for i in range(len(Solver.OUTPUT_IND2VVERT)) }\n",
    "    OUTPUT_VHORIZ2IND     = {Solver.OUTPUT_IND2VHORIZ[i]: i for i in range(len(Solver.OUTPUT_IND2VHORIZ))}\n",
    "    \n",
    "    def __init__(self, model):\n",
    "        self.model = model\n",
    "        \n",
    "    @staticmethod\n",
    "    def vectorize_input(char):\n",
    "        vector = torch.zeros(Solver.INPUT_DIM)\n",
    "        if char is None:\n",
    "            return vector\n",
    "        vector[self.INPUT_CHAR2IND[char]] = 1\n",
    "        return vector\n",
    "            \n",
    "    @staticmethod\n",
    "    def vectorize_output(view_direction, write):\n",
    "        view_done_vector = torch.zeros(Solver.OUTPUT_DONE_DIM)\n",
    "        view_vert_vector = torch.zeros(Solver.OUTPUT_VIEW_VERT_DIM)\n",
    "        view_horiz_vector = torch.zeros(Solver.OUTPUT_VIEW_HORIZ_DIM)\n",
    "        write_vector = torch.zeros(Solver.OUTPUT_WRITE_DIM)\n",
    "        \n",
    "        if view_direction is None: # done condition\n",
    "            view_done_vector[0] = 1\n",
    "            view_vert_vector[Solver.OUTPUT_VVERT2IND[ViewDirection.DO_NOTHING]] = 1\n",
    "            view_horiz_vector[Solver.OUTPUT_VHORIZ2IND[ViewDirection.DO_NOTHING]] = 1\n",
    "        else:\n",
    "            view_vert_vector[Solver.OUTPUT_VVERT2IND[view_direction.vertical]] = 1\n",
    "            view_horiz_vector[Solver.OUTPUT_VVERT2IND[view_direction.horizontal]] = 1\n",
    "        \n",
    "        if write:\n",
    "            write_vector[Solver.OUTPUT_CHAR2IND[write]] = 1\n",
    "        else:\n",
    "            write_vector[None] = 1\n",
    "        \n",
    "        return view_done_vector, view_vert_vector, view_horiz_vector, write_vector\n",
    "    \n",
    "    @staticmethod\n",
    "    def devectorize_output(view_done_vector,\n",
    "                           view_vert_vector,\n",
    "                           view_horiz_vector,\n",
    "                           write_vector):\n",
    "        done       = bool(view_done_vector[0] > .5)\n",
    "        view_vert  = Solver.OUTPUT_IND2VVERT[view_vert_vector.argmax()]\n",
    "        view_horiz = Solver.OUTPUT_IND2VHORIZ[view_horiz_vector.argmax()]\n",
    "        write      = Solver.OUTPUT_IND2CHAR[write_vector.argmax()]\n",
    "        view_direction = ViewDirection(view_vert, view_horiz)\n",
    "        \n",
    "        return done, view_direction, write\n",
    "        \n",
    "        \n",
    "    def view_coord(self, expression, coord):\n",
    "        value = expression.vertical_view[coord]\n",
    "        vector = Solver.vectorize_input(value)\n",
    "        return vector\n",
    "    \n",
    "# Solver.INPUT_CHAR2IND    = {INPUT_IND2CHAR[i]:    i for i in range(len(Solver.INPUT_IND2CHAR))   }\n",
    "# Solver.OUTPUT_CHAR2IND   = {OUTPUT_IND2CHAR[i]:   i for i in range(len(Solver.OUTPUT_IND2CHAR))  }\n",
    "# Solver.OUTPUT_VVERT2IND  = {OUTPUT_IND2VVERT[i]:  i for i in range(len(Solver.OUTPUT_IND2VVERT)) }\n",
    "# Solver.OUTPUT_VHORIZ2IND = {OUTPUT_IND2VHORIZ[i]: i for i in range(len(Solver.OUTPUT_IND2VHORIZ))}"
   ]
  },
  {
   "cell_type": "code",
   "execution_count": 25,
   "metadata": {
    "collapsed": true
   },
   "outputs": [],
   "source": [
    "\"\"\"\n",
    "LSTM model with a single hidden layer and multiple output layers\n",
    "\"\"\"\n",
    "class LSTM(nn.Module):\n",
    "    def __init__(self, input_size,\n",
    "                       hidden_layer_size,\n",
    "                       output_sizes,\n",
    "                       output_nonlinears):\n",
    "        super(LSTM, self).__init__()\n",
    "        assert len(output_sizes) == len(output_nonlinears)\n",
    "        \n",
    "        self.input_size = input_size\n",
    "        self.hidden_layer_size = hidden_layer_size\n",
    "        self.output_sizes = output_sizes\n",
    "        self.output_nonlinears = output_nonlinears\n",
    "        \n",
    "        self.lstm = nn.LSTMCell(input_size, hidden_layer_size)\n",
    "        self.lstm_h = torch.zeros(1, self.hidden_layer_size, dtype=torch.double)\n",
    "        self.lstm_c = torch.zeros(1, self.hidden_layer_size, dtype=torch.double)\n",
    "        \n",
    "        self.output_layers = nn.ModuleList() \n",
    "        for output_size in output_sizes:\n",
    "            self.output_layers.append(nn.Linear(hidden_layer_size, output_size))\n",
    "        \n",
    "    def reset(self):\n",
    "        self.lstm_h = torch.zeros(1, self.hidden_layer_size, dtype=torch.double)\n",
    "        self.lstm_c = torch.zeros(1, self.hidden_layer_size, dtype=torch.double)\n",
    "        \n",
    "    def forward(self, x):\n",
    "        input_layer = x.reshape(1, self.input_size)\n",
    "        self.lstm_h, self.lstm_c = self.lstm(input_layer, (self.lstm_h, self.lstm_c))\n",
    "        return (f(layer(self.lstm_h).squeeze()) for f, layer in zip(self.output_nonlinears, self.output_layers))"
   ]
  },
  {
   "cell_type": "code",
   "execution_count": 26,
   "metadata": {
    "collapsed": false
   },
   "outputs": [
    {
     "name": "stderr",
     "output_type": "stream",
     "text": [
      "/Users/andrew/anaconda/lib/python3.6/site-packages/ipykernel/__main__.py:32: UserWarning: Implicit dimension choice for softmax has been deprecated. Change the call to include dim=X as an argument.\n",
      "/Users/andrew/anaconda/lib/python3.6/site-packages/ipykernel/__main__.py:64: UserWarning: invalid index of a 0-dim tensor. This will be an error in PyTorch 0.5. Use tensor.item() to convert a 0-dim tensor to a Python number\n"
     ]
    },
    {
     "data": {
      "text/plain": [
       "(True, ('UP_EDGE', 'LEFT_RELATIVE'), '4')"
      ]
     },
     "execution_count": 26,
     "metadata": {},
     "output_type": "execute_result"
    }
   ],
   "source": [
    "lstm = LSTM(Solver.INPUT_DIM,\n",
    "            64,\n",
    "            [Solver.OUTPUT_DONE_DIM,\n",
    "             Solver.OUTPUT_VIEW_VERT_DIM,\n",
    "             Solver.OUTPUT_VIEW_HORIZ_DIM,\n",
    "             Solver.OUTPUT_WRITE_DIM],\n",
    "            [nn.Sigmoid(),\n",
    "             nn.Softmax(),\n",
    "             nn.Softmax(),\n",
    "             nn.Softmax()])\n",
    "\n",
    "expression = Expression(Expression.add, [999]*11)\n",
    "x = Solver.vectorize_input(None)\n",
    "done_vec, view_vert_vec, view_horiz_vec, write_vec = lstm.forward(x)\n",
    "Solver.devectorize_output(done_vec, view_vert_vec, view_horiz_vec, write_vec)"
   ]
  },
  {
   "cell_type": "code",
   "execution_count": 8,
   "metadata": {
    "collapsed": false
   },
   "outputs": [
    {
     "data": {
      "text/plain": [
       "False"
      ]
     },
     "execution_count": 8,
     "metadata": {},
     "output_type": "execute_result"
    }
   ],
   "source": [
    "class Model:\n",
    "    def __init__(self):\n",
    "        pass\n",
    "    \n",
    "class NNModel(Model):\n",
    "    \n",
    "    def __init__(self, model):\n",
    "        self.model = model\n",
    "        \n",
    "    def forward(self, x):\n",
    "        "
   ]
  },
  {
   "cell_type": "code",
   "execution_count": 30,
   "metadata": {
    "collapsed": false
   },
   "outputs": [],
   "source": [
    "a = {0:1, False: 2, None: 3}"
   ]
  },
  {
   "cell_type": "code",
   "execution_count": 31,
   "metadata": {
    "collapsed": false
   },
   "outputs": [
    {
     "data": {
      "text/plain": [
       "2"
      ]
     },
     "execution_count": 31,
     "metadata": {},
     "output_type": "execute_result"
    }
   ],
   "source": [
    "a[0]"
   ]
  },
  {
   "cell_type": "code",
   "execution_count": 32,
   "metadata": {
    "collapsed": false
   },
   "outputs": [
    {
     "data": {
      "text/plain": [
       "3"
      ]
     },
     "execution_count": 32,
     "metadata": {},
     "output_type": "execute_result"
    }
   ],
   "source": [
    "a[None]"
   ]
  },
  {
   "cell_type": "code",
   "execution_count": 33,
   "metadata": {
    "collapsed": false
   },
   "outputs": [
    {
     "data": {
      "text/plain": [
       "2"
      ]
     },
     "execution_count": 33,
     "metadata": {},
     "output_type": "execute_result"
    }
   ],
   "source": [
    "a[False]"
   ]
  },
  {
   "cell_type": "code",
   "execution_count": 36,
   "metadata": {
    "collapsed": false
   },
   "outputs": [
    {
     "data": {
      "text/plain": [
       "tensor(2)"
      ]
     },
     "execution_count": 36,
     "metadata": {},
     "output_type": "execute_result"
    }
   ],
   "source": [
    "torch.tensor((1,2,8,4,3)).argmax()"
   ]
  },
  {
   "cell_type": "code",
   "execution_count": null,
   "metadata": {
    "collapsed": true
   },
   "outputs": [],
   "source": []
  }
 ],
 "metadata": {
  "kernelspec": {
   "display_name": "Python 3",
   "language": "python",
   "name": "python3"
  },
  "language_info": {
   "codemirror_mode": {
    "name": "ipython",
    "version": 3
   },
   "file_extension": ".py",
   "mimetype": "text/x-python",
   "name": "python",
   "nbconvert_exporter": "python",
   "pygments_lexer": "ipython3",
   "version": "3.6.6"
  }
 },
 "nbformat": 4,
 "nbformat_minor": 2
}
