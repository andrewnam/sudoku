{
 "cells": [
  {
   "cell_type": "code",
   "execution_count": 1,
   "metadata": {
    "collapsed": true
   },
   "outputs": [],
   "source": [
    "from board import Board\n",
    "import numpy as np\n",
    "import random\n",
    "import utils\n",
    "import collections"
   ]
  },
  {
   "cell_type": "code",
   "execution_count": 6,
   "metadata": {
    "collapsed": false
   },
   "outputs": [],
   "source": [
    "def get_missing_digits(board, x):\n",
    "    \"\"\"\n",
    "    Given a board and row x, return the set of digits not present in that row\n",
    "    \"\"\"\n",
    "    return set(np.arange(board.max_digit) + 1) - set(board[x][board[x] > 0])\n",
    "\n",
    "def get_box(board, x, y):\n",
    "    \"\"\"\n",
    "    Returns a copy of the sub-array of the box that (x, y) belongs in and box-index\n",
    "    \"\"\"\n",
    "    box_x_min = board.dim_x * (x // board.dim_x)\n",
    "    box_x_max = box_x_min + board.dim_x\n",
    "    box_y_min = board.dim_y * (y // board.dim_y)\n",
    "    box_y_max = box_y_min + board.dim_y\n",
    "    box = np.array(board[box_x_min:box_x_max, box_y_min:box_y_max])\n",
    "    return box,  \n",
    "\n",
    "def write_random_digits_to_row(board, x, fill):\n",
    "    unused_digits = get_missing_digits(board, x)\n",
    "    empty_ys = np.nonzero(board[x] == 0)[0]\n",
    "    np.random.shuffle(empty_ys)\n",
    "    \n",
    "    for empty_y in empty_ys:\n",
    "        if fill == 0:\n",
    "            break\n",
    "        fill_digit = random.sample(unused_digits, 1)[0]\n",
    "        board.write(x, empty_y, fill_digit)\n",
    "        unused_digits.remove(fill_digit)\n",
    "        fill -= 1\n",
    "    return board\n",
    "\n",
    "def generate_hidden_single_row(board, x, y, digit, filled=5):\n",
    "    board = board.copy()\n",
    "    filled -= np.sum(board[x] > 0)\n",
    "    \n",
    "    board.write(x, y, digit)\n",
    "    board = write_random_digits_to_row(board, x, filled)\n",
    "    board = board.remove(x, y)\n",
    "    all_xs = np.arange(board.max_digit) \n",
    "    box_y_min, box_y_max = board.get_box_boundaries_y(y)\n",
    "    empty_ys = np.nonzero(board[x] == 0)[0]\n",
    "    np.random.shuffle(empty_ys)\n",
    "    for empty_y in empty_ys:\n",
    "        if empty_y != y and board.is_candidate(x, empty_y, digit):\n",
    "            possible_xs = {x_i for x_i in all_xs if board.is_candidate(x_i, empty_y, digit) and x_i != x}\n",
    "            if box_y_min <= empty_y < box_y_max:\n",
    "                box_x_min, box_x_max = board.get_box_boundaries_x(x)\n",
    "                possible_xs -= set(range(box_x_min, box_x_max))\n",
    "            x2 = random.sample(possible_xs, 1)[0]\n",
    "            board.write(x2, empty_y, digit)\n",
    "    return board\n",
    "\n",
    "def generate_hidden_single_column(board, x, y, digit, filled=5):\n",
    "    return generate_hidden_single_row(board, y, x, digit, filled).T"
   ]
  },
  {
   "cell_type": "code",
   "execution_count": 9,
   "metadata": {
    "collapsed": false,
    "scrolled": false
   },
   "outputs": [
    {
     "data": {
      "text/plain": [
       "array([[0, 0, 0, 0, 0, 0, 0, 0, 0],\n",
       "       [0, 0, 0, 0, 0, 0, 1, 0, 0],\n",
       "       [0, 0, 0, 0, 0, 3, 0, 0, 0],\n",
       "       [0, 0, 0, 0, 0, 0, 0, 0, 0],\n",
       "       [3, 0, 0, 0, 0, 0, 0, 0, 0],\n",
       "       [0, 0, 0, 0, 0, 0, 0, 3, 0],\n",
       "       [0, 3, 0, 0, 0, 0, 0, 0, 0],\n",
       "       [0, 0, 0, 0, 0, 0, 0, 0, 3],\n",
       "       [0, 0, 0, 0, 0, 0, 0, 0, 0]], dtype=int8)"
      ]
     },
     "execution_count": 9,
     "metadata": {},
     "output_type": "execute_result"
    }
   ],
   "source": [
    "board = Board(3, 3)\n",
    "board = generate_hidden_single_row(board, 1, 2, 3, 1)\n",
    "board"
   ]
  },
  {
   "cell_type": "code",
   "execution_count": 13,
   "metadata": {
    "collapsed": false
   },
   "outputs": [
    {
     "data": {
      "text/plain": [
       "array([[0, 0, 1, 0, 0, 0, 0, 0, 0],\n",
       "       [0, 0, 0, 0, 0, 0, 0, 0, 0],\n",
       "       [0, 0, 2, 0, 0, 0, 0, 0, 0],\n",
       "       [0, 0, 8, 0, 0, 0, 0, 0, 0],\n",
       "       [0, 0, 0, 0, 3, 0, 0, 0, 0],\n",
       "       [0, 0, 5, 0, 0, 0, 0, 0, 0],\n",
       "       [0, 0, 0, 0, 0, 0, 0, 0, 3],\n",
       "       [0, 0, 4, 0, 0, 0, 0, 0, 0],\n",
       "       [0, 0, 6, 0, 0, 0, 0, 0, 0]], dtype=int8)"
      ]
     },
     "execution_count": 13,
     "metadata": {},
     "output_type": "execute_result"
    }
   ],
   "source": [
    "board = Board(3, 3)\n",
    "board = generate_hidden_single_column(board, 1, 2, 3, 6)\n",
    "board"
   ]
  },
  {
   "cell_type": "code",
   "execution_count": 48,
   "metadata": {
    "collapsed": false
   },
   "outputs": [
    {
     "data": {
      "text/plain": [
       "array([[[ 0,  1,  2],\n",
       "        [ 9, 10, 11],\n",
       "        [18, 19, 20]],\n",
       "\n",
       "       [[ 3,  4,  5],\n",
       "        [12, 13, 14],\n",
       "        [21, 22, 23]],\n",
       "\n",
       "       [[ 6,  7,  8],\n",
       "        [15, 16, 17],\n",
       "        [24, 25, 26]]])"
      ]
     },
     "execution_count": 48,
     "metadata": {},
     "output_type": "execute_result"
    }
   ],
   "source": [
    "b = np.transpose(a, (1, 0, 2))\n",
    "b"
   ]
  },
  {
   "cell_type": "code",
   "execution_count": 50,
   "metadata": {
    "collapsed": false
   },
   "outputs": [
    {
     "name": "stdout",
     "output_type": "stream",
     "text": [
      "[0 1 2]\n",
      "[0 1 2]\n",
      "[3 4 5]\n",
      "[3 4 5]\n",
      "[ 9 10 11]\n",
      "[ 9 10 11]\n",
      "[12 13 14]\n",
      "[12 13 14]\n"
     ]
    }
   ],
   "source": [
    "print(a[0][0])\n",
    "print(b[0][0])\n",
    "print(a[0][1])\n",
    "print(b[1][0])\n",
    "print(a[1][0])\n",
    "print(b[0][1])\n",
    "print(a[1][1])\n",
    "print(b[1][1])"
   ]
  },
  {
   "cell_type": "code",
   "execution_count": 51,
   "metadata": {
    "collapsed": false
   },
   "outputs": [
    {
     "name": "stdout",
     "output_type": "stream",
     "text": [
      "[3 4 5]\n",
      "[ 9 10 -1]\n"
     ]
    }
   ],
   "source": [
    "b[0][1][2] = -1\n",
    "print(a[0][1])\n",
    "print(b[0][1])"
   ]
  },
  {
   "cell_type": "code",
   "execution_count": 52,
   "metadata": {
    "collapsed": false
   },
   "outputs": [
    {
     "data": {
      "text/plain": [
       "array([[ 0,  4,  8, 12],\n",
       "       [ 1,  5,  9, 13],\n",
       "       [ 2,  6, 10, 14],\n",
       "       [ 3,  7, 11, 15]])"
      ]
     },
     "execution_count": 52,
     "metadata": {},
     "output_type": "execute_result"
    }
   ],
   "source": [
    "np.transpose(np.arange(16).reshape((4,4)))"
   ]
  },
  {
   "cell_type": "code",
   "execution_count": null,
   "metadata": {
    "collapsed": true
   },
   "outputs": [],
   "source": []
  }
 ],
 "metadata": {
  "kernelspec": {
   "display_name": "Python 3",
   "language": "python",
   "name": "python3"
  },
  "language_info": {
   "codemirror_mode": {
    "name": "ipython",
    "version": 3
   },
   "file_extension": ".py",
   "mimetype": "text/x-python",
   "name": "python",
   "nbconvert_exporter": "python",
   "pygments_lexer": "ipython3",
   "version": "3.6.6"
  }
 },
 "nbformat": 4,
 "nbformat_minor": 2
}
