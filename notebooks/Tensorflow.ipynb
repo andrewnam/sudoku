{
 "cells": [
  {
   "cell_type": "code",
   "execution_count": 2,
   "metadata": {
    "collapsed": false
   },
   "outputs": [
    {
     "name": "stderr",
     "output_type": "stream",
     "text": [
      "/Users/andrew/anaconda/lib/python3.6/importlib/_bootstrap.py:219: RuntimeWarning: compiletime version 3.5 of module 'tensorflow.python.framework.fast_tensor_util' does not match runtime version 3.6\n",
      "  return f(*args, **kwds)\n"
     ]
    }
   ],
   "source": [
    "import tensorflow as tf\n",
    "import sonnet as snt\n",
    "import numpy as np\n",
    "import pandas as pd\n",
    "\n",
    "import sys\n",
    "sys.path.append('/Users/andrew/Desktop/sudoku/src/sudoku')\n",
    "\n",
    "from board import Board\n",
    "from solutions import Solutions\n",
    "import utils"
   ]
  },
  {
   "cell_type": "code",
   "execution_count": 3,
   "metadata": {
    "collapsed": false
   },
   "outputs": [],
   "source": [
    "# set random seed to 0\n",
    "np.random.seed(0)\n",
    "tf.set_random_seed(0)"
   ]
  },
  {
   "cell_type": "code",
   "execution_count": 4,
   "metadata": {
    "collapsed": true
   },
   "outputs": [],
   "source": [
    "datapath = '/Users/andrew/Desktop/sudoku/data/'"
   ]
  },
  {
   "cell_type": "code",
   "execution_count": 5,
   "metadata": {
    "collapsed": false
   },
   "outputs": [],
   "source": [
    "solutions = Solutions(datapath + 'solutions5.txt')"
   ]
  },
  {
   "cell_type": "code",
   "execution_count": 6,
   "metadata": {
    "collapsed": false
   },
   "outputs": [],
   "source": [
    "puzzles = solutions.get_puzzles_by_hints()"
   ]
  },
  {
   "cell_type": "code",
   "execution_count": 7,
   "metadata": {
    "collapsed": false
   },
   "outputs": [],
   "source": [
    "inputs = []\n",
    "outputs = []\n",
    "for i in range(4, 9):\n",
    "    for board in puzzles[i]:\n",
    "        inputs.append(board)\n",
    "        outputs.append(solutions[board])"
   ]
  },
  {
   "cell_type": "code",
   "execution_count": 21,
   "metadata": {
    "collapsed": true
   },
   "outputs": [],
   "source": [
    "def vector_encode(board_string):\n",
    "    dim_x, dim_y, board = board_string.split('.')\n",
    "    max_digit = int(dim_x) * int(dim_y)\n",
    "    vector = np.zeros((max_digit*len(board),), dtype=np.float64)\n",
    "    for i in range(len(board)):\n",
    "        if board[i] != '0':\n",
    "            vector[i*max_digit + int(board[i]) - 1] = 1\n",
    "        else:\n",
    "            vector[i*max_digit:(i+1)*max_digit] = 1/max_digit\n",
    "    return vector"
   ]
  },
  {
   "cell_type": "code",
   "execution_count": 68,
   "metadata": {
    "collapsed": false
   },
   "outputs": [],
   "source": [
    "class Solver(snt.AbstractModule):\n",
    "    \"\"\"Docstring for Solver.\"\"\"\n",
    "    def __init__(self, max_digit, hidden_sizes, name=\"solver\"):\n",
    "        \"\"\"Docstring explaining __init__ args, including types and defaults.\"\"\"\n",
    "        super(Solver, self).__init__(name=name)\n",
    "        self.max_digit = max_digit\n",
    "        self.hidden_sizes = hidden_sizes\n",
    "        self.nonlinearity = tf.sigmoid\n",
    "        \n",
    "    # Following on from code snippet above..\n",
    "    def _build(self, inputs):\n",
    "        \"\"\"Compute output Tensor from input Tensor.\"\"\"\n",
    "        last_layer = inputs\n",
    "        for i in range(len(self.hidden_sizes)):\n",
    "            last_layer = snt.Linear(output_size=self.hidden_sizes[i], name=\"h{0}\".format(i))(last_layer)\n",
    "            last_layer = self.nonlinearity(last_layer)\n",
    "        penultimate_layer = last_layer\n",
    "        cell_values = []\n",
    "        for i in range(self.max_digit**2):\n",
    "            last_layer = snt.Linear(output_size=self.max_digit, name=\"h_to_o{0}\".format(i))(penultimate_layer)\n",
    "            last_layer = tf.nn.softmax(last_layer)\n",
    "            cell_values.append(last_layer)\n",
    "        output = tf.convert_to_tensor(cell_values, dtype=tf.float32)\n",
    "        output = tf.reshape(output, (1, self.max_digit**3))\n",
    "        return output"
   ]
  },
  {
   "cell_type": "code",
   "execution_count": 69,
   "metadata": {
    "collapsed": false
   },
   "outputs": [],
   "source": []
  },
  {
   "cell_type": "code",
   "execution_count": 70,
   "metadata": {
    "collapsed": false,
    "scrolled": false
   },
   "outputs": [
    {
     "data": {
      "text/plain": [
       "<tf.Tensor 'solver_12/Reshape:0' shape=(1, 64) dtype=float32>"
      ]
     },
     "execution_count": 70,
     "metadata": {},
     "output_type": "execute_result"
    }
   ],
   "source": [
    "solver = Solver(4, [128])\n",
    "x = np.array([vector_encode(inputs[0].stringify())])\n",
    "x = tf.convert_to_tensor(x, np.float32)\n",
    "solver(x)\n",
    "loss = dataset_valid.cost(valid_output_sequence_logits,\n",
    "                                  valid_target_sequence)"
   ]
  },
  {
   "cell_type": "code",
   "execution_count": 71,
   "metadata": {
    "collapsed": false
   },
   "outputs": [
    {
     "name": "stdout",
     "output_type": "stream",
     "text": [
      "Object `solver.train` not found.\n"
     ]
    }
   ],
   "source": [
    "solver.train?\n",
    "#.train(input_fn=lambda: my_input_fn(FILE_TRAIN, True, 500))"
   ]
  },
  {
   "cell_type": "code",
   "execution_count": null,
   "metadata": {
    "collapsed": true
   },
   "outputs": [],
   "source": []
  }
 ],
 "metadata": {
  "kernelspec": {
   "display_name": "Python 3",
   "language": "python",
   "name": "python3"
  },
  "language_info": {
   "codemirror_mode": {
    "name": "ipython",
    "version": 3
   },
   "file_extension": ".py",
   "mimetype": "text/x-python",
   "name": "python",
   "nbconvert_exporter": "python",
   "pygments_lexer": "ipython3",
   "version": "3.6.6"
  }
 },
 "nbformat": 4,
 "nbformat_minor": 2
}
