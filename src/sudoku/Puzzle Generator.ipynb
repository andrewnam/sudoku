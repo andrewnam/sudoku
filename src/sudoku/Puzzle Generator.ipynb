{
 "cells": [
  {
   "cell_type": "code",
   "execution_count": 1,
   "metadata": {},
   "outputs": [],
   "source": [
    "from board import Board\n",
    "import numpy as np\n",
    "import random"
   ]
  },
  {
   "cell_type": "code",
   "execution_count": 2,
   "metadata": {},
   "outputs": [],
   "source": [
    "board = Board(2, 2)"
   ]
  },
  {
   "cell_type": "code",
   "execution_count": 51,
   "metadata": {},
   "outputs": [],
   "source": [
    "def get_missing_digits(board):\n",
    "    return set(np.arange(board.max_digit) + 1) - set(board[x][board[x] > 0])\n",
    "\n",
    "# def get_missing_indices(board, house):\n",
    "\n",
    "def write_random_digits_to_row(board, x, fill):\n",
    "    unused_digits = get_missing_digits(board)\n",
    "    empty_ys = np.nonzero(board[x] == 0)[0]\n",
    "    np.random.shuffle(empty_ys)\n",
    "    \n",
    "    for empty_y in empty_ys:\n",
    "        if fill == 0:\n",
    "            break\n",
    "        fill_digit = random.sample(unused_digits, 1)[0]\n",
    "        board.write(x, empty_y, fill_digit)\n",
    "        unused_digits.remove(fill_digit)\n",
    "        fill -= 1\n",
    "    return board\n",
    "\n",
    "def generate_hidden_single_row(board, x, y, digit, filled=5):\n",
    "    \"\"\"\n",
    "    If want to generate column, just take the transpose\n",
    "    \"\"\"\n",
    "    board = board.copy()\n",
    "    filled -= np.sum(board[x] > 0)\n",
    "    \n",
    "    board.write(x, y, digit)\n",
    "    board = write_random_digits_to_row(board, x, filled)\n",
    "    \n",
    "    for empty_y in np.nonzero(board[x] == 0)[0]:\n",
    "        \n",
    "    \n",
    "    board = board.remove(x, y)\n",
    "    return board\n",
    "    \n",
    "\n",
    "def generate_hidden_single(board, x, y, digit, house='row', filled=5, ):\n",
    "    assert house in ['row', 'column', 'box']\n",
    "    "
   ]
  },
  {
   "cell_type": "code",
   "execution_count": 54,
   "metadata": {},
   "outputs": [
    {
     "data": {
      "text/plain": [
       "array([[0, 0, 0, 0, 0, 0, 0, 0, 0],\n",
       "       [0, 7, 0, 2, 0, 6, 1, 0, 8],\n",
       "       [0, 0, 0, 0, 0, 0, 0, 0, 0],\n",
       "       [0, 0, 0, 0, 0, 0, 0, 0, 0],\n",
       "       [0, 0, 0, 0, 0, 0, 0, 0, 0],\n",
       "       [0, 0, 0, 0, 0, 0, 0, 0, 0],\n",
       "       [0, 0, 0, 0, 0, 0, 0, 0, 0],\n",
       "       [0, 0, 0, 0, 0, 0, 0, 0, 0],\n",
       "       [0, 0, 0, 0, 0, 0, 0, 0, 0]], dtype=int8)"
      ]
     },
     "execution_count": 54,
     "metadata": {},
     "output_type": "execute_result"
    }
   ],
   "source": [
    "board = Board(3, 3)\n",
    "generate_hidden_single_row(board, 1, 2, 3, 5)"
   ]
  },
  {
   "cell_type": "code",
   "execution_count": 11,
   "metadata": {},
   "outputs": [
    {
     "data": {
      "text/plain": [
       "4"
      ]
     },
     "execution_count": 11,
     "metadata": {},
     "output_type": "execute_result"
    }
   ],
   "source": [
    "random.sample({4,3,2}, 1)[0]"
   ]
  },
  {
   "cell_type": "code",
   "execution_count": null,
   "metadata": {},
   "outputs": [],
   "source": []
  }
 ],
 "metadata": {
  "kernelspec": {
   "display_name": "Python 3",
   "language": "python",
   "name": "python3"
  },
  "language_info": {
   "codemirror_mode": {
    "name": "ipython",
    "version": 3
   },
   "file_extension": ".py",
   "mimetype": "text/x-python",
   "name": "python",
   "nbconvert_exporter": "python",
   "pygments_lexer": "ipython3",
   "version": "3.6.4"
  }
 },
 "nbformat": 4,
 "nbformat_minor": 2
}
