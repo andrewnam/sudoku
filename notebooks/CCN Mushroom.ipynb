{
 "cells": [
  {
   "cell_type": "code",
   "execution_count": 67,
   "metadata": {},
   "outputs": [],
   "source": [
    "%matplotlib inline\n",
    "\n",
    "import numpy as np\n",
    "import itertools\n",
    "\n",
    "import torch\n",
    "import torch.nn as nn\n",
    "import torch.optim as optim\n",
    "\n",
    "import random\n",
    "import matplotlib\n",
    "import matplotlib.pyplot as plt\n",
    "from tqdm import tqdm, tqdm_notebook"
   ]
  },
  {
   "cell_type": "code",
   "execution_count": 68,
   "metadata": {},
   "outputs": [],
   "source": [
    "# set random seed to 0\n",
    "np.random.seed(0)\n",
    "torch.manual_seed(0)\n",
    "torch.set_default_tensor_type('torch.DoubleTensor')"
   ]
  },
  {
   "cell_type": "code",
   "execution_count": 69,
   "metadata": {},
   "outputs": [],
   "source": [
    "def create_data(prefix_chars, suffix_chars, prefix_length, suffix_length):\n",
    "    \"\"\"\n",
    "    prefix_chars: iterable\n",
    "    suffix_chars: iterable\n",
    "    prefix_length: int\n",
    "    suffix_length: int\n",
    "    return: take every possible combination of prefixes of length prefix_length\n",
    "        and take every possible combination of suffixies of length suffix_length,\n",
    "        then create every possible combination of those.\n",
    "        Generates len(prefix_chars)^prefix_length * len(suffix_chars)^suffix_length\n",
    "    \"\"\"\n",
    "    prefixes = list(itertools.product(prefix_chars, repeat=prefix_length))\n",
    "    suffixes = list(itertools.product(suffix_chars, repeat=suffix_length))\n",
    "    return [p + s for p, s in itertools.product(prefixes, suffixes)]\n",
    "    \n",
    "def vectorize_2d(seq, vocab_size):\n",
    "    vectors = np.zeros((len(seq), vocab_size))\n",
    "    for i in range(len(seq)):\n",
    "        vectors[i][seq[i]] = 1\n",
    "    return torch.tensor(vectors, dtype=torch.float64, device='cuda:0')"
   ]
  },
  {
   "cell_type": "code",
   "execution_count": 70,
   "metadata": {},
   "outputs": [],
   "source": [
    "def create_output(seq):\n",
    "    \"\"\"\n",
    "    pointer: index to inspect next (attention direction)\n",
    "    task1: cur^2 mod n (rule-learning)\n",
    "    task2: value of right-neighbor (attention direction, holding memory, write vs. no write)\n",
    "    task3: sum of self and left and right neighbors, mod n (combination of tasks 1 and 2)\n",
    "    \"\"\"\n",
    "    pointer_outputs = []\n",
    "    task1_outputs = []\n",
    "    task2_outputs = []\n",
    "    task3_outputs = []\n",
    "    \n",
    "    cur = 0\n",
    "    for i in range(len(seq)):\n",
    "        \n",
    "        task1_out = (seq[cur]**2)%len(seq)\n",
    "        task2_out = seq[(cur+1)%len(seq)]\n",
    "        \n",
    "        task3_prev = seq[(cur-1)%len(seq)]\n",
    "        task3_next = seq[(cur+1)%len(seq)]\n",
    "        task3_out = (task3_prev + seq[cur] + task3_next)%len(seq)\n",
    "        \n",
    "        cur = seq[cur]\n",
    "        pointer_outputs.append(cur)\n",
    "        task1_outputs.append(task1_out)\n",
    "        task2_outputs.append(task2_out)\n",
    "        task3_outputs.append(task3_out)\n",
    "        \n",
    "    return pointer_outputs, task1_outputs, task2_outputs, task3_outputs"
   ]
  },
  {
   "cell_type": "code",
   "execution_count": 71,
   "metadata": {},
   "outputs": [],
   "source": [
    "def training_sequence_1(seq):\n",
    "    \"\"\"\n",
    "    Trains goto, task1, and task2. e.g.\n",
    "    Iter 1: Compute task 1, move to i=1 to perform task 2\n",
    "        Input: seq[0]\n",
    "        Goto: 1\n",
    "        Task 1: seq[0]^2\n",
    "        Task 2: No-op\n",
    "    Iter 2: Compute task 2, move to i=seq[0] to perform task 1\n",
    "        Input: seq[1]\n",
    "        Goto: seq[0]\n",
    "        Task 1: No-op\n",
    "        Task 2: seq[1]\n",
    "    etc...\n",
    "    \"\"\"\n",
    "    n = len(seq)\n",
    "    no_op = len(seq)\n",
    "    pointer_outputs, task1_outputs, task2_outputs, task3_outputs = create_output(seq)\n",
    "    X, Y1, Y2, Y3 = [], [], [], []\n",
    "    index = 0\n",
    "    for i in range(n):\n",
    "        X.append(seq[index])\n",
    "        X.append(seq[(index+1)%n])\n",
    "        Y1.append((index+1)%n)\n",
    "        Y1.append(pointer_outputs[i])\n",
    "        Y2.append(task1_outputs[i])\n",
    "        Y2.append(no_op)\n",
    "        Y3.append(no_op)\n",
    "        Y3.append(task2_outputs[i])\n",
    "        index = pointer_outputs[i]\n",
    "    return torch.tensor(X, dtype=torch.int64, device='cuda:0'), \\\n",
    "            torch.tensor(Y1, dtype=torch.int64, device='cuda:0'), \\\n",
    "            torch.tensor(Y2, dtype=torch.int64, device='cuda:0'), \\\n",
    "            torch.tensor(Y3, dtype=torch.int64, device='cuda:0')"
   ]
  },
  {
   "cell_type": "code",
   "execution_count": 90,
   "metadata": {},
   "outputs": [],
   "source": [
    "class Model1(nn.Module):\n",
    "    def __init__(self, input_dim, pointer_dim, task1_dim, task2_dim, hidden_layer_size):\n",
    "        super(Model1, self).__init__()\n",
    "        self.input_dim = input_dim\n",
    "        self.pointer_dim = pointer_dim\n",
    "        self.task1_dim = task1_dim\n",
    "        self.task2_dim = task2_dim\n",
    "        self.hidden_layer_size = hidden_layer_size\n",
    "        \n",
    "        self.lstm = nn.LSTMCell(input_dim, hidden_layer_size).cuda()\n",
    "        self.lin_pointer = nn.Linear(hidden_layer_size, pointer_dim)\n",
    "        self.lin_task1 = nn.Linear(hidden_layer_size, task1_dim)\n",
    "        self.lin_task2 = nn.Linear(hidden_layer_size, task2_dim)\n",
    "        self.softmax = nn.Softmax(dim=1)\n",
    "\n",
    "    def forward(self, x):\n",
    "        pointer_outputs, task1_outputs, task2_outputs = [], [], []\n",
    "        h_t = torch.zeros(1, self.hidden_layer_size, dtype=torch.float64, device='cuda:0')\n",
    "        c_t = torch.zeros(1, self.hidden_layer_size, dtype=torch.float64, device='cuda:0')\n",
    "        \n",
    "        for x_t in x.reshape(len(x), 1, self.input_dim):\n",
    "            h_t, c_t = self.lstm(x_t, (h_t, c_t))\n",
    "            pointer_outputs.append(self.softmax(self.lin_pointer(h_t)))\n",
    "            task1_outputs.append(self.softmax(self.lin_task1(h_t)))\n",
    "            task2_outputs.append(self.softmax(self.lin_task2(h_t)))\n",
    "        \n",
    "        return torch.stack(pointer_outputs).reshape(len(x), self.pointer_dim), \\\n",
    "                torch.stack(task1_outputs).reshape(len(x), self.task1_dim), \\\n",
    "                torch.stack(task2_outputs).reshape(len(x), self.task2_dim)"
   ]
  },
  {
   "cell_type": "code",
   "execution_count": 91,
   "metadata": {},
   "outputs": [],
   "source": [
    "max_digit = 7\n",
    "split = 4\n",
    "train_data = create_data(range(split), range(split, max_digit), split, max_digit-split)\n",
    "X, Y1, Y2, Y3 = [], [], [], []\n",
    "for datum in train_data:\n",
    "    inputs, pointer_outputs, task1_outputs, task2_outputs = training_sequence_1(datum)\n",
    "    X.append(vectorize_2d(inputs, max_digit))\n",
    "    Y1.append(pointer_outputs)\n",
    "    Y2.append(task1_outputs)\n",
    "    Y3.append(task2_outputs)"
   ]
  },
  {
   "cell_type": "code",
   "execution_count": 94,
   "metadata": {},
   "outputs": [
    {
     "data": {
      "application/vnd.jupyter.widget-view+json": {
       "model_id": "5d4b862b2e7144a0bdbd678cd0bb420b",
       "version_major": 2,
       "version_minor": 0
      },
      "text/plain": [
       "HBox(children=(IntProgress(value=0, max=6912), HTML(value='')))"
      ]
     },
     "metadata": {},
     "output_type": "display_data"
    }
   ],
   "source": [
    "model = Model1(max_digit, max_digit, max_digit+1, max_digit+1, 30).cuda()\n",
    "# model = model.double().cuda()\n",
    "optimizer = optim.Adam(model.parameters())\n",
    "\n",
    "closures = []\n",
    "\n",
    "for i in range(len(X)):\n",
    "    x, y1, y2, y3 = X[i], Y1[i], Y2[i], Y3[i]\n",
    "    def closure():\n",
    "        optimizer.zero_grad()\n",
    "        pred1, pred2, pred3 = model(x)\n",
    "        pointer_loss = nn.functional.nll_loss(pred1, pointer_outputs)\n",
    "        task1_loss = nn.functional.nll_loss(pred2, task1_outputs)\n",
    "        task2_loss = nn.functional.nll_loss(pred3, task2_outputs)\n",
    "        loss = pointer_loss + task1_loss + task2_loss\n",
    "\n",
    "        loss.backward()\n",
    "        return loss\n",
    "    closures.append(closure)"
   ]
  },
  {
   "cell_type": "code",
   "execution_count": 96,
   "metadata": {},
   "outputs": [
    {
     "data": {
      "application/vnd.jupyter.widget-view+json": {
       "model_id": "fff3efa6046d44a7ac6789a8d54f2311",
       "version_major": 2,
       "version_minor": 0
      },
      "text/plain": [
       "HBox(children=(IntProgress(value=0, max=10), HTML(value='')))"
      ]
     },
     "metadata": {},
     "output_type": "display_data"
    },
    {
     "data": {
      "application/vnd.jupyter.widget-view+json": {
       "model_id": "59378f87da204245ad874100954870c4",
       "version_major": 2,
       "version_minor": 0
      },
      "text/plain": [
       "HBox(children=(IntProgress(value=0, max=6912), HTML(value='')))"
      ]
     },
     "metadata": {},
     "output_type": "display_data"
    },
    {
     "name": "stdout",
     "output_type": "stream",
     "text": [
      "-20385.731109705794\n"
     ]
    },
    {
     "data": {
      "application/vnd.jupyter.widget-view+json": {
       "model_id": "76ebb6b077cb4e03bb8c8955ce078e18",
       "version_major": 2,
       "version_minor": 0
      },
      "text/plain": [
       "HBox(children=(IntProgress(value=0, max=6912), HTML(value='')))"
      ]
     },
     "metadata": {},
     "output_type": "display_data"
    },
    {
     "name": "stdout",
     "output_type": "stream",
     "text": [
      "-20735.861148377706\n"
     ]
    },
    {
     "data": {
      "application/vnd.jupyter.widget-view+json": {
       "model_id": "b97099be14474163a8400ac7190963f4",
       "version_major": 2,
       "version_minor": 0
      },
      "text/plain": [
       "HBox(children=(IntProgress(value=0, max=6912), HTML(value='')))"
      ]
     },
     "metadata": {},
     "output_type": "display_data"
    },
    {
     "name": "stdout",
     "output_type": "stream",
     "text": [
      "-20735.996003700664\n"
     ]
    },
    {
     "data": {
      "application/vnd.jupyter.widget-view+json": {
       "model_id": "439dc18197ca45e89661a9656ac810b1",
       "version_major": 2,
       "version_minor": 0
      },
      "text/plain": [
       "HBox(children=(IntProgress(value=0, max=6912), HTML(value='')))"
      ]
     },
     "metadata": {},
     "output_type": "display_data"
    },
    {
     "name": "stdout",
     "output_type": "stream",
     "text": [
      "-20735.999861477227\n"
     ]
    },
    {
     "data": {
      "application/vnd.jupyter.widget-view+json": {
       "model_id": "085bbafbd4374250a28d8ff219b45bbd",
       "version_major": 2,
       "version_minor": 0
      },
      "text/plain": [
       "HBox(children=(IntProgress(value=0, max=6912), HTML(value='')))"
      ]
     },
     "metadata": {},
     "output_type": "display_data"
    },
    {
     "ename": "KeyboardInterrupt",
     "evalue": "",
     "output_type": "error",
     "traceback": [
      "\u001b[0;31m---------------------------------------------------------------------------\u001b[0m",
      "\u001b[0;31mKeyboardInterrupt\u001b[0m                         Traceback (most recent call last)",
      "\u001b[0;32m<ipython-input-96-9933066cddd4>\u001b[0m in \u001b[0;36m<module>\u001b[0;34m()\u001b[0m\n\u001b[1;32m      3\u001b[0m     \u001b[0mrandom\u001b[0m\u001b[0;34m.\u001b[0m\u001b[0mshuffle\u001b[0m\u001b[0;34m(\u001b[0m\u001b[0mclosures\u001b[0m\u001b[0;34m)\u001b[0m\u001b[0;34m\u001b[0m\u001b[0m\n\u001b[1;32m      4\u001b[0m     \u001b[0;32mfor\u001b[0m \u001b[0mclosure\u001b[0m \u001b[0;32min\u001b[0m \u001b[0mtqdm_notebook\u001b[0m\u001b[0;34m(\u001b[0m\u001b[0mclosures\u001b[0m\u001b[0;34m)\u001b[0m\u001b[0;34m:\u001b[0m\u001b[0;34m\u001b[0m\u001b[0m\n\u001b[0;32m----> 5\u001b[0;31m         \u001b[0mtotal_loss\u001b[0m \u001b[0;34m+=\u001b[0m \u001b[0mfloat\u001b[0m\u001b[0;34m(\u001b[0m\u001b[0moptimizer\u001b[0m\u001b[0;34m.\u001b[0m\u001b[0mstep\u001b[0m\u001b[0;34m(\u001b[0m\u001b[0mclosure\u001b[0m\u001b[0;34m)\u001b[0m\u001b[0;34m)\u001b[0m\u001b[0;34m\u001b[0m\u001b[0m\n\u001b[0m\u001b[1;32m      6\u001b[0m     \u001b[0mprint\u001b[0m\u001b[0;34m(\u001b[0m\u001b[0mtotal_loss\u001b[0m\u001b[0;34m)\u001b[0m\u001b[0;34m\u001b[0m\u001b[0m\n",
      "\u001b[0;32m~/.local/lib/python3.5/site-packages/torch/optim/adam.py\u001b[0m in \u001b[0;36mstep\u001b[0;34m(self, closure)\u001b[0m\n\u001b[1;32m     55\u001b[0m         \u001b[0mloss\u001b[0m \u001b[0;34m=\u001b[0m \u001b[0;32mNone\u001b[0m\u001b[0;34m\u001b[0m\u001b[0m\n\u001b[1;32m     56\u001b[0m         \u001b[0;32mif\u001b[0m \u001b[0mclosure\u001b[0m \u001b[0;32mis\u001b[0m \u001b[0;32mnot\u001b[0m \u001b[0;32mNone\u001b[0m\u001b[0;34m:\u001b[0m\u001b[0;34m\u001b[0m\u001b[0m\n\u001b[0;32m---> 57\u001b[0;31m             \u001b[0mloss\u001b[0m \u001b[0;34m=\u001b[0m \u001b[0mclosure\u001b[0m\u001b[0;34m(\u001b[0m\u001b[0;34m)\u001b[0m\u001b[0;34m\u001b[0m\u001b[0m\n\u001b[0m\u001b[1;32m     58\u001b[0m \u001b[0;34m\u001b[0m\u001b[0m\n\u001b[1;32m     59\u001b[0m         \u001b[0;32mfor\u001b[0m \u001b[0mgroup\u001b[0m \u001b[0;32min\u001b[0m \u001b[0mself\u001b[0m\u001b[0;34m.\u001b[0m\u001b[0mparam_groups\u001b[0m\u001b[0;34m:\u001b[0m\u001b[0;34m\u001b[0m\u001b[0m\n",
      "\u001b[0;32m<ipython-input-94-cf26978b06ef>\u001b[0m in \u001b[0;36mclosure\u001b[0;34m()\u001b[0m\n\u001b[1;32m     15\u001b[0m         \u001b[0mloss\u001b[0m \u001b[0;34m=\u001b[0m \u001b[0mpointer_loss\u001b[0m \u001b[0;34m+\u001b[0m \u001b[0mtask1_loss\u001b[0m \u001b[0;34m+\u001b[0m \u001b[0mtask2_loss\u001b[0m\u001b[0;34m\u001b[0m\u001b[0m\n\u001b[1;32m     16\u001b[0m \u001b[0;34m\u001b[0m\u001b[0m\n\u001b[0;32m---> 17\u001b[0;31m         \u001b[0mloss\u001b[0m\u001b[0;34m.\u001b[0m\u001b[0mbackward\u001b[0m\u001b[0;34m(\u001b[0m\u001b[0;34m)\u001b[0m\u001b[0;34m\u001b[0m\u001b[0m\n\u001b[0m\u001b[1;32m     18\u001b[0m         \u001b[0;32mreturn\u001b[0m \u001b[0mloss\u001b[0m\u001b[0;34m\u001b[0m\u001b[0m\n\u001b[1;32m     19\u001b[0m     \u001b[0mclosures\u001b[0m\u001b[0;34m.\u001b[0m\u001b[0mappend\u001b[0m\u001b[0;34m(\u001b[0m\u001b[0mclosure\u001b[0m\u001b[0;34m)\u001b[0m\u001b[0;34m\u001b[0m\u001b[0m\n",
      "\u001b[0;32m~/.local/lib/python3.5/site-packages/torch/tensor.py\u001b[0m in \u001b[0;36mbackward\u001b[0;34m(self, gradient, retain_graph, create_graph)\u001b[0m\n\u001b[1;32m     91\u001b[0m                 \u001b[0mproducts\u001b[0m\u001b[0;34m.\u001b[0m \u001b[0mDefaults\u001b[0m \u001b[0mto\u001b[0m\u001b[0;31m \u001b[0m\u001b[0;31m`\u001b[0m\u001b[0;31m`\u001b[0m\u001b[0;32mFalse\u001b[0m\u001b[0;31m`\u001b[0m\u001b[0;31m`\u001b[0m\u001b[0;34m.\u001b[0m\u001b[0;34m\u001b[0m\u001b[0m\n\u001b[1;32m     92\u001b[0m         \"\"\"\n\u001b[0;32m---> 93\u001b[0;31m         \u001b[0mtorch\u001b[0m\u001b[0;34m.\u001b[0m\u001b[0mautograd\u001b[0m\u001b[0;34m.\u001b[0m\u001b[0mbackward\u001b[0m\u001b[0;34m(\u001b[0m\u001b[0mself\u001b[0m\u001b[0;34m,\u001b[0m \u001b[0mgradient\u001b[0m\u001b[0;34m,\u001b[0m \u001b[0mretain_graph\u001b[0m\u001b[0;34m,\u001b[0m \u001b[0mcreate_graph\u001b[0m\u001b[0;34m)\u001b[0m\u001b[0;34m\u001b[0m\u001b[0m\n\u001b[0m\u001b[1;32m     94\u001b[0m \u001b[0;34m\u001b[0m\u001b[0m\n\u001b[1;32m     95\u001b[0m     \u001b[0;32mdef\u001b[0m \u001b[0mregister_hook\u001b[0m\u001b[0;34m(\u001b[0m\u001b[0mself\u001b[0m\u001b[0;34m,\u001b[0m \u001b[0mhook\u001b[0m\u001b[0;34m)\u001b[0m\u001b[0;34m:\u001b[0m\u001b[0;34m\u001b[0m\u001b[0m\n",
      "\u001b[0;32m~/.local/lib/python3.5/site-packages/torch/autograd/__init__.py\u001b[0m in \u001b[0;36mbackward\u001b[0;34m(tensors, grad_tensors, retain_graph, create_graph, grad_variables)\u001b[0m\n\u001b[1;32m     88\u001b[0m     Variable._execution_engine.run_backward(\n\u001b[1;32m     89\u001b[0m         \u001b[0mtensors\u001b[0m\u001b[0;34m,\u001b[0m \u001b[0mgrad_tensors\u001b[0m\u001b[0;34m,\u001b[0m \u001b[0mretain_graph\u001b[0m\u001b[0;34m,\u001b[0m \u001b[0mcreate_graph\u001b[0m\u001b[0;34m,\u001b[0m\u001b[0;34m\u001b[0m\u001b[0m\n\u001b[0;32m---> 90\u001b[0;31m         allow_unreachable=True)  # allow_unreachable flag\n\u001b[0m\u001b[1;32m     91\u001b[0m \u001b[0;34m\u001b[0m\u001b[0m\n\u001b[1;32m     92\u001b[0m \u001b[0;34m\u001b[0m\u001b[0m\n",
      "\u001b[0;31mKeyboardInterrupt\u001b[0m: "
     ]
    }
   ],
   "source": [
    "for i in tqdm_notebook(range(10)):\n",
    "    total_loss = 0\n",
    "    random.shuffle(closures)\n",
    "    for closure in tqdm_notebook(closures):\n",
    "        total_loss += float(optimizer.step(closure))\n",
    "    print(total_loss)"
   ]
  },
  {
   "cell_type": "code",
   "execution_count": null,
   "metadata": {},
   "outputs": [],
   "source": []
  },
  {
   "cell_type": "code",
   "execution_count": 81,
   "metadata": {},
   "outputs": [],
   "source": [
    "a =  nn.LSTMCell(4,4).cuda()"
   ]
  },
  {
   "cell_type": "code",
   "execution_count": 146,
   "metadata": {},
   "outputs": [],
   "source": [
    "def roll(seq, n):\n",
    "    return torch.cat((seq[-n:], seq[:-n]))"
   ]
  },
  {
   "cell_type": "code",
   "execution_count": 148,
   "metadata": {},
   "outputs": [
    {
     "data": {
      "text/plain": [
       "tensor([[7., 7., 7., 7.],\n",
       "        [8., 8., 8., 8.],\n",
       "        [9., 9., 9., 9.],\n",
       "        [0., 0., 0., 0.],\n",
       "        [1., 1., 1., 1.],\n",
       "        [2., 2., 2., 2.],\n",
       "        [3., 3., 3., 3.],\n",
       "        [4., 4., 4., 4.],\n",
       "        [5., 5., 5., 5.],\n",
       "        [6., 6., 6., 6.]])"
      ]
     },
     "execution_count": 148,
     "metadata": {},
     "output_type": "execute_result"
    }
   ],
   "source": [
    "roll(a, 3)"
   ]
  },
  {
   "cell_type": "code",
   "execution_count": 138,
   "metadata": {},
   "outputs": [],
   "source": [
    "a = torch.stack([torch.ones(4)*i for i in range(10)])\n",
    "b = torch.stack([torch.ones(4)*-i for i in range(10)])"
   ]
  },
  {
   "cell_type": "code",
   "execution_count": 154,
   "metadata": {},
   "outputs": [
    {
     "data": {
      "text/plain": [
       "tensor([[0., 0., 0., 0., 9., 9., 9., 9.],\n",
       "        [1., 1., 1., 1., 0., 0., 0., 0.],\n",
       "        [2., 2., 2., 2., 1., 1., 1., 1.],\n",
       "        [3., 3., 3., 3., 2., 2., 2., 2.],\n",
       "        [4., 4., 4., 4., 3., 3., 3., 3.],\n",
       "        [5., 5., 5., 5., 4., 4., 4., 4.],\n",
       "        [6., 6., 6., 6., 5., 5., 5., 5.],\n",
       "        [7., 7., 7., 7., 6., 6., 6., 6.],\n",
       "        [8., 8., 8., 8., 7., 7., 7., 7.],\n",
       "        [9., 9., 9., 9., 8., 8., 8., 8.]])"
      ]
     },
     "execution_count": 154,
     "metadata": {},
     "output_type": "execute_result"
    }
   ],
   "source": [
    "torch.stack((a, roll(a, 1)), dim=1).reshape(10, 8)"
   ]
  },
  {
   "cell_type": "code",
   "execution_count": 135,
   "metadata": {},
   "outputs": [
    {
     "data": {
      "text/plain": [
       "[tensor([0., 0., 0., 0.]),\n",
       " tensor([1., 1., 1., 1.]),\n",
       " tensor([2., 2., 2., 2.]),\n",
       " tensor([3., 3., 3., 3.]),\n",
       " tensor([4., 4., 4., 4.]),\n",
       " tensor([5., 5., 5., 5.]),\n",
       " tensor([6., 6., 6., 6.]),\n",
       " tensor([7., 7., 7., 7.]),\n",
       " tensor([8., 8., 8., 8.]),\n",
       " tensor([9., 9., 9., 9.]),\n",
       " tensor([0., 0., 0., 0.]),\n",
       " tensor([-1., -1., -1., -1.]),\n",
       " tensor([-2., -2., -2., -2.]),\n",
       " tensor([-3., -3., -3., -3.]),\n",
       " tensor([-4., -4., -4., -4.]),\n",
       " tensor([-5., -5., -5., -5.]),\n",
       " tensor([-6., -6., -6., -6.]),\n",
       " tensor([-7., -7., -7., -7.]),\n",
       " tensor([-8., -8., -8., -8.]),\n",
       " tensor([-9., -9., -9., -9.])]"
      ]
     },
     "execution_count": 135,
     "metadata": {},
     "output_type": "execute_result"
    }
   ],
   "source": [
    "c"
   ]
  },
  {
   "cell_type": "code",
   "execution_count": 143,
   "metadata": {},
   "outputs": [
    {
     "data": {
      "text/plain": [
       "torch.Size([10, 2, 4])"
      ]
     },
     "execution_count": 143,
     "metadata": {},
     "output_type": "execute_result"
    }
   ],
   "source": [
    "torch.stack((a, b), dim=1).shape"
   ]
  },
  {
   "cell_type": "code",
   "execution_count": 145,
   "metadata": {},
   "outputs": [
    {
     "data": {
      "text/plain": [
       "tensor([[ 0.,  0.,  0.,  0.,  0.,  0.,  0.,  0.],\n",
       "        [ 1.,  1.,  1.,  1., -1., -1., -1., -1.],\n",
       "        [ 2.,  2.,  2.,  2., -2., -2., -2., -2.],\n",
       "        [ 3.,  3.,  3.,  3., -3., -3., -3., -3.],\n",
       "        [ 4.,  4.,  4.,  4., -4., -4., -4., -4.],\n",
       "        [ 5.,  5.,  5.,  5., -5., -5., -5., -5.],\n",
       "        [ 6.,  6.,  6.,  6., -6., -6., -6., -6.],\n",
       "        [ 7.,  7.,  7.,  7., -7., -7., -7., -7.],\n",
       "        [ 8.,  8.,  8.,  8., -8., -8., -8., -8.],\n",
       "        [ 9.,  9.,  9.,  9., -9., -9., -9., -9.]])"
      ]
     },
     "execution_count": 145,
     "metadata": {},
     "output_type": "execute_result"
    }
   ],
   "source": [
    "torch.stack((a, b), dim=1).reshape(10, 8)"
   ]
  },
  {
   "cell_type": "code",
   "execution_count": 204,
   "metadata": {},
   "outputs": [],
   "source": []
  },
  {
   "cell_type": "code",
   "execution_count": 221,
   "metadata": {},
   "outputs": [],
   "source": [
    "mat, indices = round_robin_concat(torch.stack([torch.ones(4)*i for i in range(4)]))"
   ]
  },
  {
   "cell_type": "code",
   "execution_count": 222,
   "metadata": {},
   "outputs": [
    {
     "data": {
      "text/plain": [
       "torch.Size([8, 8])"
      ]
     },
     "execution_count": 222,
     "metadata": {},
     "output_type": "execute_result"
    }
   ],
   "source": [
    "mat.shape"
   ]
  },
  {
   "cell_type": "code",
   "execution_count": 223,
   "metadata": {},
   "outputs": [
    {
     "data": {
      "text/plain": [
       "tensor([[0., 0., 0., 0., 3., 3., 3., 3.],\n",
       "        [1., 1., 1., 1., 0., 0., 0., 0.],\n",
       "        [2., 2., 2., 2., 1., 1., 1., 1.],\n",
       "        [3., 3., 3., 3., 2., 2., 2., 2.],\n",
       "        [0., 0., 0., 0., 2., 2., 2., 2.],\n",
       "        [1., 1., 1., 1., 3., 3., 3., 3.],\n",
       "        [2., 2., 2., 2., 0., 0., 0., 0.],\n",
       "        [3., 3., 3., 3., 1., 1., 1., 1.]])"
      ]
     },
     "execution_count": 223,
     "metadata": {},
     "output_type": "execute_result"
    }
   ],
   "source": [
    "mat"
   ]
  },
  {
   "cell_type": "code",
   "execution_count": 208,
   "metadata": {},
   "outputs": [
    {
     "data": {
      "text/plain": [
       "{(0, 1): 1,\n",
       " (0, 2): 12,\n",
       " (0, 3): 23,\n",
       " (0, 4): 34,\n",
       " (0, 5): 45,\n",
       " (0, 6): 30,\n",
       " (0, 7): 20,\n",
       " (0, 8): 10,\n",
       " (0, 9): 0,\n",
       " (1, 0): 1,\n",
       " (1, 2): 2,\n",
       " (1, 3): 13,\n",
       " (1, 4): 24,\n",
       " (1, 5): 35,\n",
       " (1, 6): 46,\n",
       " (1, 7): 31,\n",
       " (1, 8): 21,\n",
       " (1, 9): 11,\n",
       " (2, 0): 12,\n",
       " (2, 1): 2,\n",
       " (2, 3): 3,\n",
       " (2, 4): 14,\n",
       " (2, 5): 25,\n",
       " (2, 6): 36,\n",
       " (2, 7): 47,\n",
       " (2, 8): 32,\n",
       " (2, 9): 22,\n",
       " (3, 0): 23,\n",
       " (3, 1): 13,\n",
       " (3, 2): 3,\n",
       " (3, 4): 4,\n",
       " (3, 5): 15,\n",
       " (3, 6): 26,\n",
       " (3, 7): 37,\n",
       " (3, 8): 48,\n",
       " (3, 9): 33,\n",
       " (4, 0): 34,\n",
       " (4, 1): 24,\n",
       " (4, 2): 14,\n",
       " (4, 3): 4,\n",
       " (4, 5): 5,\n",
       " (4, 6): 16,\n",
       " (4, 7): 27,\n",
       " (4, 8): 38,\n",
       " (4, 9): 49,\n",
       " (5, 0): 45,\n",
       " (5, 1): 35,\n",
       " (5, 2): 25,\n",
       " (5, 3): 15,\n",
       " (5, 4): 5,\n",
       " (5, 6): 6,\n",
       " (5, 7): 17,\n",
       " (5, 8): 28,\n",
       " (5, 9): 39,\n",
       " (6, 0): 30,\n",
       " (6, 1): 46,\n",
       " (6, 2): 36,\n",
       " (6, 3): 26,\n",
       " (6, 4): 16,\n",
       " (6, 5): 6,\n",
       " (6, 7): 7,\n",
       " (6, 8): 18,\n",
       " (6, 9): 29,\n",
       " (7, 0): 20,\n",
       " (7, 1): 31,\n",
       " (7, 2): 47,\n",
       " (7, 3): 37,\n",
       " (7, 4): 27,\n",
       " (7, 5): 17,\n",
       " (7, 6): 7,\n",
       " (7, 8): 8,\n",
       " (7, 9): 19,\n",
       " (8, 0): 10,\n",
       " (8, 1): 21,\n",
       " (8, 2): 32,\n",
       " (8, 3): 48,\n",
       " (8, 4): 38,\n",
       " (8, 5): 28,\n",
       " (8, 6): 18,\n",
       " (8, 7): 8,\n",
       " (8, 9): 9,\n",
       " (9, 0): 0,\n",
       " (9, 1): 11,\n",
       " (9, 2): 22,\n",
       " (9, 3): 33,\n",
       " (9, 4): 49,\n",
       " (9, 5): 39,\n",
       " (9, 6): 29,\n",
       " (9, 7): 19,\n",
       " (9, 8): 9}"
      ]
     },
     "execution_count": 208,
     "metadata": {},
     "output_type": "execute_result"
    }
   ],
   "source": [
    "indices"
   ]
  },
  {
   "cell_type": "code",
   "execution_count": 209,
   "metadata": {},
   "outputs": [
    {
     "data": {
      "text/plain": [
       "tensor([3., 3., 3., 3., 2., 2., 2., 2.])"
      ]
     },
     "execution_count": 209,
     "metadata": {},
     "output_type": "execute_result"
    }
   ],
   "source": [
    "mat[indices[(3, 2)]]"
   ]
  },
  {
   "cell_type": "code",
   "execution_count": 210,
   "metadata": {},
   "outputs": [
    {
     "data": {
      "text/plain": [
       "tensor([3., 3., 3., 3., 2., 2., 2., 2.])"
      ]
     },
     "execution_count": 210,
     "metadata": {},
     "output_type": "execute_result"
    }
   ],
   "source": [
    "mat[indices[(2, 3)]]"
   ]
  },
  {
   "cell_type": "code",
   "execution_count": 211,
   "metadata": {},
   "outputs": [
    {
     "data": {
      "text/plain": [
       "tensor([1., 1., 1., 1., 0., 0., 0., 0.])"
      ]
     },
     "execution_count": 211,
     "metadata": {},
     "output_type": "execute_result"
    }
   ],
   "source": [
    "mat[indices[(0, 1)]]"
   ]
  },
  {
   "cell_type": "code",
   "execution_count": null,
   "metadata": {},
   "outputs": [],
   "source": []
  }
 ],
 "metadata": {
  "kernelspec": {
   "display_name": "Python 3",
   "language": "python",
   "name": "python3"
  },
  "language_info": {
   "codemirror_mode": {
    "name": "ipython",
    "version": 3
   },
   "file_extension": ".py",
   "mimetype": "text/x-python",
   "name": "python",
   "nbconvert_exporter": "python",
   "pygments_lexer": "ipython3",
   "version": "3.5.2"
  }
 },
 "nbformat": 4,
 "nbformat_minor": 2
}
