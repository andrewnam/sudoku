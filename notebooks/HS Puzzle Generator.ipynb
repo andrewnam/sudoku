{
 "cells": [
  {
   "cell_type": "code",
   "execution_count": 57,
   "metadata": {
    "collapsed": true
   },
   "outputs": [],
   "source": [
    "from board import Board\n",
    "import numpy as np\n",
    "import random\n",
    "import utils\n",
    "import collections\n",
    "import pandas as pd\n",
    "from tqdm import tqdm, tqdm_notebook"
   ]
  },
  {
   "cell_type": "code",
   "execution_count": 22,
   "metadata": {
    "collapsed": false
   },
   "outputs": [],
   "source": [
    "def get_missing_digits(board, x):\n",
    "    \"\"\"\n",
    "    Given a board and row x, return the set of digits not present in that row\n",
    "    \"\"\"\n",
    "    return set(np.arange(board.max_digit) + 1) - set(board[x][board[x] > 0])\n",
    "\n",
    "def get_box(board, x, y):\n",
    "    \"\"\"\n",
    "    Returns a copy of the sub-array of the box that (x, y) belongs in and box-index\n",
    "    \"\"\"\n",
    "    box_x_min = board.dim_x * (x // board.dim_x)\n",
    "    box_x_max = box_x_min + board.dim_x\n",
    "    box_y_min = board.dim_y * (y // board.dim_y)\n",
    "    box_y_max = box_y_min + board.dim_y\n",
    "    box = np.array(board[box_x_min:box_x_max, box_y_min:box_y_max])\n",
    "    return box,  \n",
    "\n",
    "def write_random_digits_to_row(board, x, fill):\n",
    "    unused_digits = get_missing_digits(board, x)\n",
    "    empty_ys = np.nonzero(board[x] == 0)[0]\n",
    "    np.random.shuffle(empty_ys)\n",
    "    \n",
    "    for empty_y in empty_ys:\n",
    "        if fill == 0:\n",
    "            break\n",
    "        fill_digit = random.sample(unused_digits, 1)[0]\n",
    "        board.write(x, empty_y, fill_digit)\n",
    "        unused_digits.remove(fill_digit)\n",
    "        fill -= 1\n",
    "    return board\n",
    "\n",
    "def generate_hidden_single_row(dim_x, dim_y, x, y, digit, filled=5):\n",
    "    board = Board(dim_x, dim_y)\n",
    "    filled -= np.sum(board[x] > 0)\n",
    "    \n",
    "    board.write(x, y, digit)\n",
    "    board = write_random_digits_to_row(board, x, filled)\n",
    "    board = board.remove(x, y)\n",
    "    all_xs = np.arange(board.max_digit) \n",
    "    box_y_min, box_y_max = board.get_box_boundaries_y(y)\n",
    "    empty_ys = np.nonzero(board[x] == 0)[0]\n",
    "    np.random.shuffle(empty_ys)\n",
    "    for empty_y in empty_ys:\n",
    "        if empty_y != y and board.is_candidate(x, empty_y, digit):\n",
    "            possible_xs = {x_i for x_i in all_xs if board.is_candidate(x_i, empty_y, digit) and x_i != x}\n",
    "            if box_y_min <= empty_y < box_y_max:\n",
    "                box_x_min, box_x_max = board.get_box_boundaries_x(x)\n",
    "                possible_xs -= set(range(box_x_min, box_x_max))\n",
    "            x2 = random.sample(possible_xs, 1)[0]\n",
    "            board.write(x2, empty_y, digit)\n",
    "    return board\n",
    "\n",
    "def generate_hidden_single_column(dim_x, dim_y, x, y, digit, filled=5):\n",
    "    return generate_hidden_single_row(dim_x, dim_y, y, x, digit, filled).T"
   ]
  },
  {
   "cell_type": "code",
   "execution_count": 28,
   "metadata": {
    "collapsed": false,
    "scrolled": false
   },
   "outputs": [
    {
     "data": {
      "text/plain": [
       "array([[3, 0, 0, 0],\n",
       "       [0, 0, 0, 4],\n",
       "       [0, 0, 0, 0],\n",
       "       [0, 3, 0, 0]], dtype=int8)"
      ]
     },
     "execution_count": 28,
     "metadata": {},
     "output_type": "execute_result"
    }
   ],
   "source": [
    "board = generate_hidden_single_row(dim_x=2, dim_y=2, x=1, y=2, digit=3, filled=1)\n",
    "board"
   ]
  },
  {
   "cell_type": "code",
   "execution_count": null,
   "metadata": {
    "collapsed": true
   },
   "outputs": [],
   "source": [
    "generate_hidden_single_row(dim_x=2, dim_y=2, x=x, y=y, digit=1, filled=f)"
   ]
  },
  {
   "cell_type": "code",
   "execution_count": 48,
   "metadata": {
    "collapsed": false
   },
   "outputs": [
    {
     "name": "stdout",
     "output_type": "stream",
     "text": [
      "\n"
     ]
    }
   ],
   "source": [
    "with tqdm_notebook(total=10, desc='1st loop', leave=True) as bar1:\n",
    "    for i in range(10):\n",
    "        with tqdm_notebook(total=1000, desc='2nd loop') as bar2:\n",
    "#             bar2.set_description('2nd loop(%i)' % i)\n",
    "            for j in range(100):\n",
    "                bar2.update(10)\n",
    "        bar1.update()"
   ]
  },
  {
   "cell_type": "code",
   "execution_count": 70,
   "metadata": {
    "collapsed": false,
    "scrolled": true
   },
   "outputs": [],
   "source": [
    "rows = []\n",
    "for x in tqdm_notebook(range(4), leave=True):\n",
    "    for y in tqdm_notebook(range(4), leave=True):\n",
    "        for f in range(1, 4):\n",
    "            for d in range(1, 4):\n",
    "                for i in range(250):\n",
    "                    rows.append({'x': x,\n",
    "                                 'y': y,\n",
    "                                 'digit': 1,\n",
    "                                 'type': 'row',\n",
    "                                 'filled': f,\n",
    "                                 'board': generate_hidden_single_row(dim_x=2, dim_y=2, x=x, y=y, digit=d, filled=f).stringify()})\n",
    "                    rows.append({'x': x,\n",
    "                                 'y': y,\n",
    "                                 'digit': 1,\n",
    "                                 'type': 'column',\n",
    "                                 'filled': f,\n",
    "                                 'board': generate_hidden_single_column(dim_x=2, dim_y=2, x=x, y=y, digit=d, filled=f).stringify()})"
   ]
  },
  {
   "cell_type": "code",
   "execution_count": 75,
   "metadata": {
    "collapsed": false
   },
   "outputs": [],
   "source": [
    "df = pd.DataFrame.from_dict(rows).drop_duplicates().reset_index(drop=True)"
   ]
  },
  {
   "cell_type": "code",
   "execution_count": 77,
   "metadata": {
    "collapsed": false
   },
   "outputs": [],
   "source": [
    "df.to_csv('hidden_singles.tsv', sep='\\t')"
   ]
  },
  {
   "cell_type": "code",
   "execution_count": null,
   "metadata": {
    "collapsed": true
   },
   "outputs": [],
   "source": []
  }
 ],
 "metadata": {
  "kernelspec": {
   "display_name": "Python 3",
   "language": "python",
   "name": "python3"
  },
  "language_info": {
   "codemirror_mode": {
    "name": "ipython",
    "version": 3
   },
   "file_extension": ".py",
   "mimetype": "text/x-python",
   "name": "python",
   "nbconvert_exporter": "python",
   "pygments_lexer": "ipython3",
   "version": "3.6.6"
  },
  "widgets": {
   "state": {
    "00bbdbd0463e4566ace52374c042f5e9": {
     "views": [
      {
       "cell_index": 4
      }
     ]
    },
    "043e29b02b474ee083fdb219fcf6c60f": {
     "views": [
      {
       "cell_index": 4
      }
     ]
    },
    "1212e5c1e9494ea6a75f3053cfd67931": {
     "views": [
      {
       "cell_index": 4
      }
     ]
    },
    "132dfe8552be476c9ed490888831bedd": {
     "views": [
      {
       "cell_index": 4
      }
     ]
    },
    "167459d5c14d421780c099e9adab158a": {
     "views": [
      {
       "cell_index": 5
      }
     ]
    },
    "263c16274c0e4c649eb387b0332c7efd": {
     "views": [
      {
       "cell_index": 5
      }
     ]
    },
    "2e6abc5f3e3d41ebaa86e5d496b5c22b": {
     "views": [
      {
       "cell_index": 4
      }
     ]
    },
    "2e731d78fce24227bf27ac4d7376323c": {
     "views": [
      {
       "cell_index": 4
      }
     ]
    },
    "2e84792dd13d4dca968f452f024963ee": {
     "views": [
      {
       "cell_index": 4
      }
     ]
    },
    "2f1915f2fe5b48bca6b022b57792e6ab": {
     "views": [
      {
       "cell_index": 4
      }
     ]
    },
    "320d0f562b2948ce92a9f045a9e2aa97": {
     "views": [
      {
       "cell_index": 4
      }
     ]
    },
    "375b8603d86b4d1386c337bd610e211c": {
     "views": [
      {
       "cell_index": 4
      }
     ]
    },
    "3a23876e967c4db492fd923db8d8473f": {
     "views": [
      {
       "cell_index": 4
      }
     ]
    },
    "3f618527483548a7bb22a08259f28b30": {
     "views": [
      {
       "cell_index": 5
      }
     ]
    },
    "3f7ea47f870042e9b99dd4d560a2b614": {
     "views": [
      {
       "cell_index": 4
      }
     ]
    },
    "46592f270db44c61812142783adbe956": {
     "views": [
      {
       "cell_index": 4
      }
     ]
    },
    "47d557b44fac4769a58046083f678e9f": {
     "views": [
      {
       "cell_index": 4
      }
     ]
    },
    "47de1d3d4f4b4db6b93d8dfb4579000f": {
     "views": [
      {
       "cell_index": 4
      }
     ]
    },
    "509afafa793f45e48ca592072a961272": {
     "views": [
      {
       "cell_index": 4
      }
     ]
    },
    "51443fd5b227429c8b6e882c00a9adb5": {
     "views": [
      {
       "cell_index": 4
      }
     ]
    },
    "576532075c624686a1db8aa2df687f8f": {
     "views": [
      {
       "cell_index": 4
      }
     ]
    },
    "589ed511c2164778af7db7650f784f3f": {
     "views": [
      {
       "cell_index": 4
      }
     ]
    },
    "5a06bc9758ac4652b36ba5d9088af20d": {
     "views": [
      {
       "cell_index": 5
      }
     ]
    },
    "64bf1d913c6a47aa9995c97ce0a63d29": {
     "views": [
      {
       "cell_index": 4
      }
     ]
    },
    "664acc1f6e624c9eb7c0477626593906": {
     "views": [
      {
       "cell_index": 4
      }
     ]
    },
    "66c42fda03954f3191ea54adfb58f65a": {
     "views": [
      {
       "cell_index": 5
      }
     ]
    },
    "69aa260fde424f04a867c5caf1f97d3b": {
     "views": [
      {
       "cell_index": 4
      }
     ]
    },
    "6a82ae9e478344f7b8c89aec776260f4": {
     "views": [
      {
       "cell_index": 4
      }
     ]
    },
    "700682b225af4db08dd17c126890e3a2": {
     "views": [
      {
       "cell_index": 4
      }
     ]
    },
    "72cdebd68aab4d879790dc9053a644f5": {
     "views": [
      {
       "cell_index": 4
      }
     ]
    },
    "797b4bcc6db54008b1c4b21a04c159c5": {
     "views": [
      {
       "cell_index": 4
      }
     ]
    },
    "7ad91abdb2424751a7aad8492fa76b91": {
     "views": [
      {
       "cell_index": 4
      }
     ]
    },
    "7ce40614b5d14a2b84ffe7fb589bf6fe": {
     "views": [
      {
       "cell_index": 5
      }
     ]
    },
    "8be73ec451c04d248ac20f7b1e4b7323": {
     "views": [
      {
       "cell_index": 4
      }
     ]
    },
    "91b65c33b86744e2a2f48e83ef92f1f2": {
     "views": [
      {
       "cell_index": 4
      }
     ]
    },
    "9231e46d01614c9792f31e7fabc757b8": {
     "views": [
      {
       "cell_index": 5
      }
     ]
    },
    "97caa4ad6c0444adaf613de7cf4009b6": {
     "views": [
      {
       "cell_index": 5
      }
     ]
    },
    "9ab439b3bcd34b48b99bbed23309962f": {
     "views": [
      {
       "cell_index": 5
      }
     ]
    },
    "9e83d85a255a494a8791c756c2b66fa2": {
     "views": [
      {
       "cell_index": 4
      }
     ]
    },
    "a21088a8055c4f6390b4f61e242ffe13": {
     "views": [
      {
       "cell_index": 4
      }
     ]
    },
    "a33968c9b0904efaa0f2921a8a4f608d": {
     "views": [
      {
       "cell_index": 4
      }
     ]
    },
    "a4d15734b0cc4c9eb5778706fce4b865": {
     "views": [
      {
       "cell_index": 4
      }
     ]
    },
    "a55aa0b445c4469abcc37c01c9524952": {
     "views": [
      {
       "cell_index": 4
      }
     ]
    },
    "a79409e1aefc4e4aac6073cacf08b7ea": {
     "views": [
      {
       "cell_index": 4
      }
     ]
    },
    "aa392850305e44e3b9e90bb6c12eeaa7": {
     "views": [
      {
       "cell_index": 5
      }
     ]
    },
    "b20bd74d4bec451eaff46fcd8e1f26b5": {
     "views": [
      {
       "cell_index": 4
      }
     ]
    },
    "b2fc3d92419247e4a12a503e0cf539ab": {
     "views": [
      {
       "cell_index": 4
      }
     ]
    },
    "b6ebad8931164d63892b6066a441c67e": {
     "views": [
      {
       "cell_index": 4
      }
     ]
    },
    "b7a028220dcf4a3b899b2daba129f99d": {
     "views": [
      {
       "cell_index": 4
      }
     ]
    },
    "bf4fa06c8d8a4efe9d8fa54ca46a6471": {
     "views": [
      {
       "cell_index": 4
      }
     ]
    },
    "bfd38c4580b04318b56b54b390e32984": {
     "views": [
      {
       "cell_index": 4
      }
     ]
    },
    "c35ba1f1f6014c55b441c84808ee63a1": {
     "views": [
      {
       "cell_index": 4
      }
     ]
    },
    "c3734f733a074ebea646da8d1ea1266b": {
     "views": [
      {
       "cell_index": 4
      }
     ]
    },
    "c65ad40e9fc84417876a007b840fff51": {
     "views": [
      {
       "cell_index": 4
      }
     ]
    },
    "c9f197a3de9a419783333635a2483fdf": {
     "views": [
      {
       "cell_index": 4
      }
     ]
    },
    "ca4284e3ff60473fa09c704826073dcb": {
     "views": [
      {
       "cell_index": 4
      }
     ]
    },
    "cc347688eae6413e9554cb8f8b0bb11a": {
     "views": [
      {
       "cell_index": 5
      }
     ]
    },
    "d0f0fe04074847a390cca692c7b16bda": {
     "views": [
      {
       "cell_index": 4
      }
     ]
    },
    "da2d592efbaf4ffa8f00aed8942780bf": {
     "views": [
      {
       "cell_index": 4
      }
     ]
    },
    "db1b68dbcd0a4d1199bd2df0ae34654e": {
     "views": [
      {
       "cell_index": 4
      }
     ]
    },
    "dc025b60859e4097aeccdf55c59f57bb": {
     "views": [
      {
       "cell_index": 5
      }
     ]
    },
    "e35c839d90d743ab96b7f4384f9bd636": {
     "views": [
      {
       "cell_index": 4
      }
     ]
    },
    "e435f0dde636479394db4576ef7b02c0": {
     "views": [
      {
       "cell_index": 4
      }
     ]
    },
    "ebb880ae6fb042468066bef21a7d3765": {
     "views": [
      {
       "cell_index": 4
      }
     ]
    },
    "f12a8db102d943209f373e0732582010": {
     "views": [
      {
       "cell_index": 4
      }
     ]
    },
    "f761b6ef881e49069e84854e60733dff": {
     "views": [
      {
       "cell_index": 4
      }
     ]
    },
    "f7a4efd32eee430f920d34efe2277a8b": {
     "views": [
      {
       "cell_index": 4
      }
     ]
    },
    "f92e1c941a8d40d0b77f0d03b66b47d8": {
     "views": [
      {
       "cell_index": 4
      }
     ]
    },
    "fa8fb37c4e6840bfb2687a1e9c8817bd": {
     "views": [
      {
       "cell_index": 4
      }
     ]
    }
   },
   "version": "1.2.0"
  }
 },
 "nbformat": 4,
 "nbformat_minor": 2
}
