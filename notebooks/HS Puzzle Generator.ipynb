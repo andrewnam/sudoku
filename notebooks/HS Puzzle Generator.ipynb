{
 "cells": [
  {
   "cell_type": "code",
   "execution_count": 57,
   "metadata": {
    "collapsed": true
   },
   "outputs": [],
   "source": [
    "from board import Board\n",
    "import numpy as np\n",
    "import random\n",
    "import utils\n",
    "import collections\n",
    "import pandas as pd\n",
    "from tqdm import tqdm, tqdm_notebook"
   ]
  },
  {
   "cell_type": "code",
   "execution_count": 22,
   "metadata": {
    "collapsed": false
   },
   "outputs": [],
   "source": [
    "def get_missing_digits(board, x):\n",
    "    \"\"\"\n",
    "    Given a board and row x, return the set of digits not present in that row\n",
    "    \"\"\"\n",
    "    return set(np.arange(board.max_digit) + 1) - set(board[x][board[x] > 0])\n",
    "\n",
    "def get_box(board, x, y):\n",
    "    \"\"\"\n",
    "    Returns a copy of the sub-array of the box that (x, y) belongs in and box-index\n",
    "    \"\"\"\n",
    "    box_x_min = board.dim_x * (x // board.dim_x)\n",
    "    box_x_max = box_x_min + board.dim_x\n",
    "    box_y_min = board.dim_y * (y // board.dim_y)\n",
    "    box_y_max = box_y_min + board.dim_y\n",
    "    box = np.array(board[box_x_min:box_x_max, box_y_min:box_y_max])\n",
    "    return box,  \n",
    "\n",
    "def write_random_digits_to_row(board, x, fill):\n",
    "    unused_digits = get_missing_digits(board, x)\n",
    "    empty_ys = np.nonzero(board[x] == 0)[0]\n",
    "    np.random.shuffle(empty_ys)\n",
    "    \n",
    "    for empty_y in empty_ys:\n",
    "        if fill == 0:\n",
    "            break\n",
    "        fill_digit = random.sample(unused_digits, 1)[0]\n",
    "        board.write(x, empty_y, fill_digit)\n",
    "        unused_digits.remove(fill_digit)\n",
    "        fill -= 1\n",
    "    return board\n",
    "\n",
    "def generate_hidden_single_row(dim_x, dim_y, x, y, digit, filled=5):\n",
    "    board = Board(dim_x, dim_y)\n",
    "    filled -= np.sum(board[x] > 0)\n",
    "    \n",
    "    board.write(x, y, digit)\n",
    "    board = write_random_digits_to_row(board, x, filled)\n",
    "    board = board.remove(x, y)\n",
    "    all_xs = np.arange(board.max_digit) \n",
    "    box_y_min, box_y_max = board.get_box_boundaries_y(y)\n",
    "    empty_ys = np.nonzero(board[x] == 0)[0]\n",
    "    np.random.shuffle(empty_ys)\n",
    "    for empty_y in empty_ys:\n",
    "        if empty_y != y and board.is_candidate(x, empty_y, digit):\n",
    "            possible_xs = {x_i for x_i in all_xs if board.is_candidate(x_i, empty_y, digit) and x_i != x}\n",
    "            if box_y_min <= empty_y < box_y_max:\n",
    "                box_x_min, box_x_max = board.get_box_boundaries_x(x)\n",
    "                possible_xs -= set(range(box_x_min, box_x_max))\n",
    "            x2 = random.sample(possible_xs, 1)[0]\n",
    "            board.write(x2, empty_y, digit)\n",
    "    return board\n",
    "\n",
    "def generate_hidden_single_column(dim_x, dim_y, x, y, digit, filled=5):\n",
    "    return generate_hidden_single_row(dim_x, dim_y, y, x, digit, filled).T"
   ]
  },
  {
   "cell_type": "code",
   "execution_count": 28,
   "metadata": {
    "collapsed": false,
    "scrolled": false
   },
   "outputs": [
    {
     "data": {
      "text/plain": [
       "array([[3, 0, 0, 0],\n",
       "       [0, 0, 0, 4],\n",
       "       [0, 0, 0, 0],\n",
       "       [0, 3, 0, 0]], dtype=int8)"
      ]
     },
     "execution_count": 28,
     "metadata": {},
     "output_type": "execute_result"
    }
   ],
   "source": [
    "board = generate_hidden_single_row(dim_x=2, dim_y=2, x=1, y=2, digit=3, filled=1)\n",
    "board"
   ]
  },
  {
   "cell_type": "code",
   "execution_count": null,
   "metadata": {
    "collapsed": true
   },
   "outputs": [],
   "source": [
    "generate_hidden_single_row(dim_x=2, dim_y=2, x=x, y=y, digit=1, filled=f)"
   ]
  },
  {
   "cell_type": "code",
   "execution_count": 48,
   "metadata": {
    "collapsed": false
   },
   "outputs": [
    {
     "name": "stdout",
     "output_type": "stream",
     "text": [
      "\n"
     ]
    }
   ],
   "source": [
    "with tqdm_notebook(total=10, desc='1st loop', leave=True) as bar1:\n",
    "    for i in range(10):\n",
    "        with tqdm_notebook(total=1000, desc='2nd loop') as bar2:\n",
    "#             bar2.set_description('2nd loop(%i)' % i)\n",
    "            for j in range(100):\n",
    "                bar2.update(10)\n",
    "        bar1.update()"
   ]
  },
  {
   "cell_type": "code",
   "execution_count": 70,
   "metadata": {
    "collapsed": false,
    "scrolled": true
   },
   "outputs": [],
   "source": [
    "rows = []\n",
    "for x in tqdm_notebook(range(4), leave=True):\n",
    "    for y in tqdm_notebook(range(4), leave=True):\n",
    "        for f in range(1, 4):\n",
    "            for d in range(1, 4):\n",
    "                for i in range(250):\n",
    "                    rows.append({'x': x,\n",
    "                                 'y': y,\n",
    "                                 'digit': 1,\n",
    "                                 'type': 'row',\n",
    "                                 'filled': f,\n",
    "                                 'board': generate_hidden_single_row(dim_x=2, dim_y=2, x=x, y=y, digit=d, filled=f).stringify()})\n",
    "                    rows.append({'x': x,\n",
    "                                 'y': y,\n",
    "                                 'digit': 1,\n",
    "                                 'type': 'column',\n",
    "                                 'filled': f,\n",
    "                                 'board': generate_hidden_single_column(dim_x=2, dim_y=2, x=x, y=y, digit=d, filled=f).stringify()})"
   ]
  },
  {
   "cell_type": "code",
   "execution_count": 75,
   "metadata": {
    "collapsed": false
   },
   "outputs": [],
   "source": [
    "df = pd.DataFrame.from_dict(rows).drop_duplicates().reset_index(drop=True)"
   ]
  },
  {
   "cell_type": "code",
   "execution_count": 77,
   "metadata": {
    "collapsed": false
   },
   "outputs": [],
   "source": [
    "df.to_csv('hidden_singles.tsv', sep='\\t')"
   ]
  },
  {
   "cell_type": "code",
   "execution_count": null,
   "metadata": {
    "collapsed": true
   },
   "outputs": [],
   "source": []
  }
 ],
 "metadata": {
  "kernelspec": {
   "display_name": "Python 3",
   "language": "python",
   "name": "python3"
  },
  "language_info": {
   "codemirror_mode": {
    "name": "ipython",
    "version": 3
   },
   "file_extension": ".py",
   "mimetype": "text/x-python",
   "name": "python",
   "nbconvert_exporter": "python",
   "pygments_lexer": "ipython3",
   "version": "3.6.6"
  }
 },
 "nbformat": 4,
 "nbformat_minor": 2
}
