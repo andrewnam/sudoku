{
 "cells": [
  {
   "cell_type": "code",
   "execution_count": 1,
   "metadata": {},
   "outputs": [],
   "source": [
    "import numpy as np\n",
    "import pandas as pd\n",
    "import random\n",
    "\n",
    "import sys\n",
    "sys.path.append('/Users/a.nam/Desktop/misc/sudoku/src/sudoku')\n",
    "\n",
    "from board import Board\n",
    "from solutions import Solutions"
   ]
  },
  {
   "cell_type": "code",
   "execution_count": 2,
   "metadata": {},
   "outputs": [],
   "source": [
    "def find_all_solutions(board: Board, solutions: dict) -> set:\n",
    "    \"\"\"\n",
    "    Returns a set of Boards that contain all possible solutions to the input board\n",
    "    :param board:\n",
    "    :param solutions: dictionary of board K -> board V where V is the solution to K. V may be None\n",
    "    :return: set of Boards\n",
    "    \"\"\"\n",
    "    puzzles = {board: solutions[board] for board in solutions if solutions[board]}\n",
    "    # if puzzles:\n",
    "    #     print(len(set(list(puzzles.values()))))\n",
    "    if board in solutions:\n",
    "        return {solutions[board]}\n",
    "\n",
    "    found_solutions = set()\n",
    "    possibilities = board.get_cell_possibilities_count()\n",
    "    min_possibilities = [coord for coord in possibilities if possibilities[coord] == min(possibilities.values())]\n",
    "    x, y = random.choice(min_possibilities)\n",
    "    for digit in board.get_possible_digits(x, y):\n",
    "        next_board = board.copy()\n",
    "        next_board.write(x, y, digit)\n",
    "        if next_board in solutions:\n",
    "            found_solutions.add(solutions[next_board])\n",
    "        elif next_board.all_filled():\n",
    "            solutions[next_board] = next_board\n",
    "            found_solutions.add(solutions[next_board])\n",
    "        if next_board.is_solvable():\n",
    "            found_solutions |= find_all_solutions(next_board, solutions)\n",
    "    if len(found_solutions) == 1:\n",
    "        solutions[board] = list(found_solutions)[0]\n",
    "    else:\n",
    "        solutions[board] = None\n",
    "    return found_solutions\n",
    "\n",
    "def generate_new_puzzle(board: Board, solutions: Solutions):\n",
    "    new_puzzles = remove_cell(board, solutions, cells_to_remove=1)\n",
    "    while new_puzzles:\n",
    "        new_board = random.sample(new_puzzles, 1)[0]\n",
    "        new_puzzles = remove_cell(new_board, solutions, cells_to_remove=1)\n",
    "    return new_board if new_board != board else None\n",
    "\n",
    "def remove_cell(board: Board, solutions: Solutions, cells_to_remove: int=0) -> list:\n",
    "    \"\"\"\n",
    "    Given a board with a unique solution and a dictionary of board-hash -> solution-board-hash, remove a random cell\n",
    "     from the board and test if the resulting board also has a unique solution (every legal move also results boards\n",
    "     that have unique solutions). Also adds the new board to unique_solutions\n",
    "    If no board with a unique solution can be created, returns None\n",
    "    :param board:\n",
    "    :param solutions:\n",
    "    :param cells_to_remove:\n",
    "    :return:\n",
    "    \"\"\"\n",
    "    assert board in solutions\n",
    "    assert cells_to_remove >= 0\n",
    "    new_puzzles = []\n",
    "    xs, ys = np.nonzero(board.board)\n",
    "    indices = np.arange(len(xs))\n",
    "    np.random.shuffle(indices)\n",
    "    for i in indices:\n",
    "        x, y = xs[i], ys[i]\n",
    "        new_board = board.remove(x, y)\n",
    "        if new_board in solutions: # if this puzzle already exists, skip\n",
    "            pass\n",
    "        if len(find_all_solutions(new_board, solutions)) == 1:\n",
    "            new_puzzles.append(new_board)\n",
    "            if cells_to_remove and len(new_puzzles) >= cells_to_remove:\n",
    "                return new_puzzles\n",
    "    return new_puzzles if new_puzzles else None"
   ]
  },
  {
   "cell_type": "code",
   "execution_count": 3,
   "metadata": {
    "scrolled": true
   },
   "outputs": [
    {
     "data": {
      "text/plain": [
       "{array([[1, 2, 3, 4],\n",
       "        [3, 4, 1, 2],\n",
       "        [2, 1, 4, 3],\n",
       "        [4, 3, 2, 1]], dtype=int8), array([[1, 2, 3, 4],\n",
       "        [3, 4, 1, 2],\n",
       "        [2, 3, 4, 1],\n",
       "        [4, 1, 2, 3]], dtype=int8), array([[1, 2, 3, 4],\n",
       "        [3, 4, 1, 2],\n",
       "        [4, 1, 2, 3],\n",
       "        [2, 3, 4, 1]], dtype=int8), array([[1, 2, 3, 4],\n",
       "        [3, 4, 1, 2],\n",
       "        [4, 3, 2, 1],\n",
       "        [2, 1, 4, 3]], dtype=int8), array([[1, 2, 3, 4],\n",
       "        [3, 4, 2, 1],\n",
       "        [2, 1, 4, 3],\n",
       "        [4, 3, 1, 2]], dtype=int8), array([[1, 2, 3, 4],\n",
       "        [3, 4, 2, 1],\n",
       "        [4, 3, 1, 2],\n",
       "        [2, 1, 4, 3]], dtype=int8), array([[1, 2, 3, 4],\n",
       "        [4, 3, 1, 2],\n",
       "        [2, 1, 4, 3],\n",
       "        [3, 4, 2, 1]], dtype=int8), array([[1, 2, 3, 4],\n",
       "        [4, 3, 1, 2],\n",
       "        [3, 4, 2, 1],\n",
       "        [2, 1, 4, 3]], dtype=int8), array([[1, 2, 3, 4],\n",
       "        [4, 3, 2, 1],\n",
       "        [2, 1, 4, 3],\n",
       "        [3, 4, 1, 2]], dtype=int8), array([[1, 2, 3, 4],\n",
       "        [4, 3, 2, 1],\n",
       "        [2, 4, 1, 3],\n",
       "        [3, 1, 4, 2]], dtype=int8), array([[1, 2, 3, 4],\n",
       "        [4, 3, 2, 1],\n",
       "        [3, 1, 4, 2],\n",
       "        [2, 4, 1, 3]], dtype=int8), array([[1, 2, 3, 4],\n",
       "        [4, 3, 2, 1],\n",
       "        [3, 4, 1, 2],\n",
       "        [2, 1, 4, 3]], dtype=int8)}"
      ]
     },
     "execution_count": 3,
     "metadata": {},
     "output_type": "execute_result"
    }
   ],
   "source": [
    "solutions = Solutions()\n",
    "board = Board(2, 2)\n",
    "for i in range(4):\n",
    "    board.write(0, i, i+1)\n",
    "find_all_solutions(board, solutions)"
   ]
  },
  {
   "cell_type": "code",
   "execution_count": 4,
   "metadata": {},
   "outputs": [],
   "source": [
    "solutions.save('solutions.txt')"
   ]
  },
  {
   "cell_type": "code",
   "execution_count": 5,
   "metadata": {},
   "outputs": [],
   "source": [
    "a = solutions.get_random_seed_solution()\n",
    "for i in range(8):\n",
    "    a = remove_cell(a, solutions, cells_to_remove=1)[0]"
   ]
  },
  {
   "cell_type": "code",
   "execution_count": 6,
   "metadata": {},
   "outputs": [
    {
     "data": {
      "text/plain": [
       "[array([[1, 2, 3, 4],\n",
       "        [3, 4, 1, 2],\n",
       "        [2, 1, 4, 3],\n",
       "        [4, 3, 2, 1]], dtype=int8), array([[1, 2, 3, 4],\n",
       "        [3, 4, 1, 2],\n",
       "        [2, 3, 4, 1],\n",
       "        [4, 1, 2, 3]], dtype=int8), array([[1, 2, 3, 4],\n",
       "        [3, 4, 1, 2],\n",
       "        [4, 1, 2, 3],\n",
       "        [2, 3, 4, 1]], dtype=int8), array([[1, 2, 3, 4],\n",
       "        [3, 4, 1, 2],\n",
       "        [4, 3, 2, 1],\n",
       "        [2, 1, 4, 3]], dtype=int8), array([[1, 2, 3, 4],\n",
       "        [3, 4, 2, 1],\n",
       "        [2, 1, 4, 3],\n",
       "        [4, 3, 1, 2]], dtype=int8), array([[1, 2, 3, 4],\n",
       "        [3, 4, 2, 1],\n",
       "        [4, 3, 1, 2],\n",
       "        [2, 1, 4, 3]], dtype=int8), array([[1, 2, 3, 4],\n",
       "        [4, 3, 1, 2],\n",
       "        [2, 1, 4, 3],\n",
       "        [3, 4, 2, 1]], dtype=int8), array([[1, 2, 3, 4],\n",
       "        [4, 3, 1, 2],\n",
       "        [3, 4, 2, 1],\n",
       "        [2, 1, 4, 3]], dtype=int8), array([[1, 2, 3, 4],\n",
       "        [4, 3, 2, 1],\n",
       "        [2, 1, 4, 3],\n",
       "        [3, 4, 1, 2]], dtype=int8), array([[1, 2, 3, 4],\n",
       "        [4, 3, 2, 1],\n",
       "        [2, 4, 1, 3],\n",
       "        [3, 1, 4, 2]], dtype=int8), array([[1, 2, 3, 4],\n",
       "        [4, 3, 2, 1],\n",
       "        [3, 1, 4, 2],\n",
       "        [2, 4, 1, 3]], dtype=int8), array([[1, 2, 3, 4],\n",
       "        [4, 3, 2, 1],\n",
       "        [3, 4, 1, 2],\n",
       "        [2, 1, 4, 3]], dtype=int8)]"
      ]
     },
     "execution_count": 6,
     "metadata": {},
     "output_type": "execute_result"
    }
   ],
   "source": [
    "sorted(solutions.seed_solutions)"
   ]
  },
  {
   "cell_type": "code",
   "execution_count": 13,
   "metadata": {},
   "outputs": [
    {
     "data": {
      "text/plain": [
       "False"
      ]
     },
     "execution_count": 13,
     "metadata": {},
     "output_type": "execute_result"
    }
   ],
   "source": [
    "'asdfsd' < 'asdfsb'"
   ]
  },
  {
   "cell_type": "code",
   "execution_count": null,
   "metadata": {},
   "outputs": [],
   "source": []
  }
 ],
 "metadata": {
  "kernelspec": {
   "display_name": "Python 3",
   "language": "python",
   "name": "python3"
  },
  "language_info": {
   "codemirror_mode": {
    "name": "ipython",
    "version": 3
   },
   "file_extension": ".py",
   "mimetype": "text/x-python",
   "name": "python",
   "nbconvert_exporter": "python",
   "pygments_lexer": "ipython3",
   "version": "3.6.4"
  }
 },
 "nbformat": 4,
 "nbformat_minor": 2
}
