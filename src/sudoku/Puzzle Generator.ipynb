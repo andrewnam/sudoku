{
 "cells": [
  {
   "cell_type": "code",
   "execution_count": 1,
   "metadata": {
    "collapsed": true
   },
   "outputs": [],
   "source": [
    "from board import Board\n",
    "import numpy as np\n",
    "import random\n",
    "import utils\n",
    "import collections"
   ]
  },
  {
   "cell_type": "code",
   "execution_count": 2,
   "metadata": {
    "collapsed": false
   },
   "outputs": [],
   "source": [
    "def get_missing_digits(board, x):\n",
    "    \"\"\"\n",
    "    Given a board and row x, return the set of digits not present in that row\n",
    "    \"\"\"\n",
    "    return set(np.arange(board.max_digit) + 1) - set(board[x][board[x] > 0])\n",
    "\n",
    "def get_box(board, x, y):\n",
    "    \"\"\"\n",
    "    Returns a copy of the sub-array of the box that (x, y) belongs in and box-index\n",
    "    \"\"\"\n",
    "    box_x_min = board.dim_x * (x // board.dim_x)\n",
    "    box_x_max = box_x_min + board.dim_x\n",
    "    box_y_min = board.dim_y * (y // board.dim_y)\n",
    "    box_y_max = box_y_min + board.dim_y\n",
    "    box = np.array(board[box_x_min:box_x_max, box_y_min:box_y_max])\n",
    "    return box,  \n",
    "\n",
    "def write_random_digits_to_row(board, x, fill):\n",
    "    unused_digits = get_missing_digits(board, x)\n",
    "    empty_ys = np.nonzero(board[x] == 0)[0]\n",
    "    np.random.shuffle(empty_ys)\n",
    "    \n",
    "    for empty_y in empty_ys:\n",
    "        if fill == 0:\n",
    "            break\n",
    "        fill_digit = random.sample(unused_digits, 1)[0]\n",
    "        board.write(x, empty_y, fill_digit)\n",
    "        unused_digits.remove(fill_digit)\n",
    "        fill -= 1\n",
    "    return board\n",
    "\n",
    "def generate_hidden_single_row(board, x, y, digit, filled=5):\n",
    "    \"\"\"\n",
    "    If want to generate column, just take the transpose\n",
    "    \"\"\"\n",
    "    board = board.copy()\n",
    "    filled -= np.sum(board[x] > 0)\n",
    "    \n",
    "    board.write(x, y, digit)\n",
    "    board = write_random_digits_to_row(board, x, filled)\n",
    "    board = board.remove(x, y)\n",
    "    all_xs = np.arange(board.max_digit) \n",
    "    box_y_min, box_y_max = board.get_box_boundaries_y(y)\n",
    "    empty_ys = np.nonzero(board[x] == 0)[0]\n",
    "    np.random.shuffle(empty_ys)\n",
    "    for empty_y in empty_ys:\n",
    "        if empty_y != y and board.is_candidate(x, empty_y, digit):\n",
    "            possible_xs = {x_i for x_i in all_xs if board.is_candidate(x_i, empty_y, digit) and x_i != x}\n",
    "            if box_y_min <= empty_y < box_y_max:\n",
    "                box_x_min, box_x_max = board.get_box_boundaries_x(x)\n",
    "                possible_xs -= set(range(box_x_min, box_x_max))\n",
    "            x2 = random.sample(possible_xs, 1)[0]\n",
    "            board.write(x2, empty_y, digit)\n",
    "    return board\n",
    "    \n",
    "\n",
    "def generate_hidden_single(board, x, y, digit, house='row', filled=5, ):\n",
    "    assert house in ['row', 'column', 'box']\n",
    "    "
   ]
  },
  {
   "cell_type": "code",
   "execution_count": 4,
   "metadata": {
    "collapsed": false,
    "scrolled": false
   },
   "outputs": [
    {
     "data": {
      "text/plain": [
       "array([[0, 0, 0, 0, 0, 0, 3, 0, 0],\n",
       "       [0, 0, 0, 0, 0, 0, 0, 0, 0],\n",
       "       [0, 0, 0, 3, 0, 0, 0, 0, 0],\n",
       "       [0, 0, 0, 0, 0, 0, 0, 0, 0],\n",
       "       [0, 0, 0, 0, 0, 0, 0, 0, 0],\n",
       "       [0, 3, 0, 0, 0, 0, 0, 0, 0],\n",
       "       [3, 0, 0, 0, 0, 0, 0, 0, 0],\n",
       "       [0, 0, 0, 0, 0, 0, 0, 0, 0],\n",
       "       [0, 0, 0, 0, 0, 3, 0, 0, 0]], dtype=int8)"
      ]
     },
     "execution_count": 4,
     "metadata": {},
     "output_type": "execute_result"
    }
   ],
   "source": [
    "board = Board(3, 3)\n",
    "generate_hidden_single_row(board, 1, 2, 3, 0)"
   ]
  },
  {
   "cell_type": "code",
   "execution_count": null,
   "metadata": {
    "collapsed": true
   },
   "outputs": [],
   "source": []
  }
 ],
 "metadata": {
  "kernelspec": {
   "display_name": "Python 3",
   "language": "python",
   "name": "python3"
  },
  "language_info": {
   "codemirror_mode": {
    "name": "ipython",
    "version": 3
   },
   "file_extension": ".py",
   "mimetype": "text/x-python",
   "name": "python",
   "nbconvert_exporter": "python",
   "pygments_lexer": "ipython3",
   "version": "3.6.6"
  }
 },
 "nbformat": 4,
 "nbformat_minor": 2
}
