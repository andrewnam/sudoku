{
 "cells": [
  {
   "cell_type": "code",
   "execution_count": 1,
   "metadata": {
    "collapsed": true
   },
   "outputs": [],
   "source": [
    "%matplotlib inline\n",
    "\n",
    "import numpy as np\n",
    "import itertools\n",
    "import random\n",
    "import matplotlib\n",
    "import matplotlib.pyplot as plt\n",
    "from tqdm import tqdm, tqdm_notebook\n",
    "\n",
    "import torch\n",
    "import torch.nn as nn\n",
    "import torch.optim as optim\n",
    "\n",
    "import sys\n",
    "sys.path.append('/Users/andrew/Desktop/sudoku/src/sudoku')\n",
    "\n",
    "from board import Board\n",
    "from solutions import Solutions\n",
    "import utils"
   ]
  },
  {
   "cell_type": "code",
   "execution_count": 2,
   "metadata": {
    "collapsed": false
   },
   "outputs": [],
   "source": [
    "# set random seed to 0\n",
    "np.random.seed(0)\n",
    "torch.manual_seed(0)\n",
    "torch.set_default_tensor_type('torch.DoubleTensor')"
   ]
  },
  {
   "cell_type": "code",
   "execution_count": 3,
   "metadata": {
    "collapsed": false
   },
   "outputs": [
    {
     "name": "stdout",
     "output_type": "stream",
     "text": [
      "4 64\n",
      "5 357\n",
      "6 883\n",
      "7 1584\n",
      "8 2384\n",
      "9 3309\n",
      "10 4149\n",
      "11 4754\n",
      "12 4841\n",
      "13 3741\n",
      "14 1391\n",
      "15 192\n",
      "16 12\n"
     ]
    }
   ],
   "source": [
    "solutions = Solutions('/Users/andrew/Desktop/sudoku/data/solutions5.txt')\n",
    "puzzles = solutions.get_puzzles_by_hints()\n",
    "for hints in sorted(puzzles):\n",
    "    print(hints, len(puzzles[hints]))"
   ]
  },
  {
   "cell_type": "code",
   "execution_count": 4,
   "metadata": {
    "collapsed": false
   },
   "outputs": [
    {
     "data": {
      "text/plain": [
       "array([[1, 0, 0, 0],\n",
       "       [0, 4, 0, 0],\n",
       "       [0, 0, 0, 0],\n",
       "       [2, 0, 0, 1]], dtype=int8)"
      ]
     },
     "execution_count": 4,
     "metadata": {},
     "output_type": "execute_result"
    }
   ],
   "source": [
    "puzzles[4][0]"
   ]
  },
  {
   "cell_type": "code",
   "execution_count": 15,
   "metadata": {
    "collapsed": false
   },
   "outputs": [],
   "source": [
    "def is_in_row(board, row, digit):\n",
    "    return digit in board[row]\n",
    "\n",
    "def is_in_col(board, col, digit):\n",
    "    return digit in board[:,col]\n",
    "\n",
    "def is_in_box(board, box, digit):\n",
    "    return digit in board.get_box_by_index(box).box\n",
    "\n",
    "def vectorize_cell(board, x, y):\n",
    "    vector = torch.zeros(board.max_digit)\n",
    "    if board[x][y] != 0:\n",
    "        vector[board[x][y]-1] = 1\n",
    "    return vector"
   ]
  },
  {
   "cell_type": "code",
   "execution_count": 17,
   "metadata": {
    "collapsed": false
   },
   "outputs": [
    {
     "data": {
      "text/plain": [
       "tensor([0., 0., 0., 1.])"
      ]
     },
     "execution_count": 17,
     "metadata": {},
     "output_type": "execute_result"
    }
   ],
   "source": [
    "max_digit = 4\n",
    "model = Linear(max_digit)\n",
    "model.double()\n",
    "\n",
    "def closure():\n",
    "    optimizer.zero_grad()\n",
    "    prediction = model(X)\n",
    "    total_cells = Y.shape[0]*Y.shape[1]\n",
    "    flattened_prediction = prediction.reshape(total_cells, max_digit)\n",
    "    flattened_Y = Y.reshape(total_cells)\n",
    "    loss = nn.functional.nll_loss(flattened_prediction, flattened_Y)\n",
    "    loss.backward()\n",
    "    return loss"
   ]
  },
  {
   "cell_type": "code",
   "execution_count": 44,
   "metadata": {
    "collapsed": true
   },
   "outputs": [],
   "source": [
    "class Query():\n",
    "    ROW = \"ROW\"\n",
    "    COLUMN = \"COLUMN\"\n",
    "    BOX = \"BOX\"\n",
    "    \n",
    "    def __init__(self, board: Board, digit: int, exists: bool, house_type: int, house_index: int):\n",
    "        assert house_type == Query.ROW or house_type == Query.COLUMN or house_type == Query.BOX\n",
    "        assert 0 < digit <= board.max_digit\n",
    "        assert 0 <= house_index < board.max_digit\n",
    "        \n",
    "        self.board = board\n",
    "        self.digit = digit\n",
    "        self.exists = exists\n",
    "        self.house_type = house_type\n",
    "        self.house_index = house_index\n",
    "        \n",
    "    def vectorize(self):\n",
    "        exists = torch.zeros(2)\n",
    "        digit = torch.zeros(self.board.max_digit)\n",
    "        house_type = torch.zeros(3)\n",
    "        house_index = torch.zeros(self.board.max_digit)\n",
    "        \n",
    "        exists[int(self.exists)] = 1\n",
    "        digit[self.digit] = 1\n",
    "        if self.house_type == Query.ROW:\n",
    "            house_type[0] = 1\n",
    "        elif self.house_type == Query.COLUMN:\n",
    "            house_type[1] = 1\n",
    "        else:\n",
    "            house_type[2] = 1\n",
    "        house_index[self.house_index] = 1\n",
    "        \n",
    "        return torch.cat([exists, digit, house_type, house_index])\n",
    "    \n",
    "    def answer(self):\n",
    "        if self.house_type is Query.ROW:\n",
    "            return is_in_row(self.board, self.house_index, self.digit)\n",
    "        if self.house_type is Query.COLUMN:\n",
    "            return is_in_col(self.board, self.house_index, self.digit)\n",
    "        else:\n",
    "            return is_in_box(self.board, self.house_index, self.digit)\n",
    "    \n",
    "    def relevant_cells(self):\n",
    "        if self.house_type == Query.ROW:\n",
    "            return [(self.house_index, i) for i in range(self.board.max_digit)]\n",
    "        if self.house_type == Query.COLUMN:\n",
    "            return [(i, self.house_index) for i in range(self.board.max_digit)]\n",
    "        return self.board.get_box_by_index(self.house_index).get_coordinates()"
   ]
  },
  {
   "cell_type": "code",
   "execution_count": 45,
   "metadata": {
    "collapsed": false
   },
   "outputs": [
    {
     "data": {
      "text/plain": [
       "array([[1, 0, 0, 0],\n",
       "       [0, 4, 0, 0],\n",
       "       [0, 0, 0, 0],\n",
       "       [2, 0, 0, 1]], dtype=int8)"
      ]
     },
     "execution_count": 45,
     "metadata": {},
     "output_type": "execute_result"
    }
   ],
   "source": [
    "puzzles[4][0]"
   ]
  },
  {
   "cell_type": "code",
   "execution_count": 49,
   "metadata": {
    "collapsed": false
   },
   "outputs": [
    {
     "data": {
      "text/plain": [
       "[(0, 0), (1, 0), (2, 0), (3, 0)]"
      ]
     },
     "execution_count": 49,
     "metadata": {},
     "output_type": "execute_result"
    }
   ],
   "source": [
    "q = Query(puzzles[4][0], 1, True, Query.COLUMN, 0)\n",
    "q.relevant_cells()"
   ]
  },
  {
   "cell_type": "code",
   "execution_count": 24,
   "metadata": {
    "collapsed": false
   },
   "outputs": [],
   "source": [
    "class Response():\n",
    "    MAYBE = \"MAYBE\"\n",
    "    TRUE = \"TRUE\"\n",
    "    FALSE = \"FALSE\"\n",
    "    \n",
    "    def __init__(self, x_dist, y_dist, answer_dist):\n",
    "        self.x = torch.argmax(x_dist)\n",
    "        self.y = torch.argmax(y_dist)\n",
    "        \n",
    "        answer_index = torch.argmax(answer_dist)\n",
    "        if answer_index == 0:\n",
    "            self.answer = Response.TRUE\n",
    "        elif answer_index == 1:\n",
    "            self.answer = Response.FALSE\n",
    "        elif answer_index == 2:\n",
    "            self.answer = Response.MAYBE\n",
    "        assert len(answer_dist) == 2\n",
    "            \n",
    "    @staticmethod\n",
    "    def answer_vector(answer):\n",
    "        if answer == Response.TRUE:\n",
    "            return torch.tensor([1, 0, 0])\n",
    "        if answer == Response.FALSE:\n",
    "            return torch.tensor([0, 1, 0])\n",
    "        if answer == Response.MAYBE:\n",
    "            return torch.tensor([0, 0, 1])\n",
    "        assert answer in (Response.TRUE, Response.FALSE, Response.MAYBE)"
   ]
  },
  {
   "cell_type": "code",
   "execution_count": null,
   "metadata": {
    "collapsed": true
   },
   "outputs": [],
   "source": [
    "class Model1(nn.Module):\n",
    "    def __init__(self, input_size, hidden_layer_size, output_sizes):\n",
    "        super(Model1, self).__init__()\n",
    "        self.input_size = input_size\n",
    "        self.hidden_layer_size = hidden_layer_size\n",
    "        self.output_sizes = output_sizes\n",
    "        \n",
    "        self.lstm = nn.LSTMCell(input_size, hidden_layer_size)\n",
    "        self.outputs = nn.ModuleList() \n",
    "        for output_size in output_sizes:\n",
    "            self.outputs.append(nn.Linear(hidden_layer_size, output_size))\n",
    "        self.softmax = nn.Softmax()\n",
    "        \n",
    "    def forward(self, query_vector, board):\n",
    "        h_t = torch.zeros(1, self.hidden_layer_size, dtype=torch.double)\n",
    "        c_t = torch.zeros(1, self.hidden_layer_size, dtype=torch.double)\n",
    "        \n",
    "        relevant_seen = {}\n",
    "        last_answer = answer_vector(Response.MAYBE)\n",
    "        cell_vector = torch.zeros(board.max_digit)\n",
    "        input = torch.cat([query_vector, cell_vector])\n",
    "        \n",
    "        while last_answer != Response.MAYBE and relevant_seen < "
   ]
  },
  {
   "cell_type": "code",
   "execution_count": 6,
   "metadata": {
    "collapsed": false
   },
   "outputs": [
    {
     "data": {
      "text/plain": [
       "True"
      ]
     },
     "execution_count": 6,
     "metadata": {},
     "output_type": "execute_result"
    }
   ],
   "source": [
    "class Model1(nn.Module):\n",
    "    def __init__(self, query_dim, task1_dim, task2_dim, hidden_layer_size):\n",
    "        super(Model1, self).__init__()\n",
    "        self.input_dim = input_dim\n",
    "        self.pointer_dim = pointer_dim\n",
    "        self.task1_dim = task1_dim\n",
    "        self.task2_dim = task2_dim\n",
    "        self.hidden_layer_size = hidden_layer_size\n",
    "        \n",
    "        self.lstm = nn.LSTMCell(input_dim, hidden_layer_size)\n",
    "        self.lin_pointer = nn.Linear(hidden_layer_size, pointer_dim)\n",
    "        self.lin_task1 = nn.Linear(hidden_layer_size, task1_dim)\n",
    "        self.lin_task2 = nn.Linear(hidden_layer_size, task2_dim)\n",
    "        self.softmax = nn.Softmax(dim=1)\n",
    "\n",
    "    def forward(self, x):\n",
    "        pointer_outputs, task1_outputs, task2_outputs = [], [], []\n",
    "        h_t = torch.zeros(1, self.hidden_layer_size, dtype=torch.double)\n",
    "        c_t = torch.zeros(1, self.hidden_layer_size, dtype=torch.double)\n",
    "        \n",
    "        for x_t in x.reshape(len(x), 1, self.input_dim):\n",
    "            h_t, c_t = self.lstm(x_t, (h_t, c_t))\n",
    "            pointer_outputs.append(self.softmax(self.lin_pointer(h_t)))\n",
    "            task1_outputs.append(self.softmax(self.lin_task1(h_t)))\n",
    "            task2_outputs.append(self.softmax(self.lin_task2(h_t)))\n",
    "        \n",
    "        return torch.stack(pointer_outputs).reshape(len(x), self.pointer_dim), \\\n",
    "                torch.stack(task1_outputs).reshape(len(x), self.task1_dim), \\\n",
    "                torch.stack(task2_outputs).reshape(len(x), self.task2_dim)"
   ]
  },
  {
   "cell_type": "code",
   "execution_count": 7,
   "metadata": {
    "collapsed": false
   },
   "outputs": [
    {
     "data": {
      "text/plain": [
       "False"
      ]
     },
     "execution_count": 7,
     "metadata": {},
     "output_type": "execute_result"
    }
   ],
   "source": [
    "is_in_col(puzzles[4][0], 0, 4)"
   ]
  },
  {
   "cell_type": "code",
   "execution_count": 8,
   "metadata": {
    "collapsed": false
   },
   "outputs": [
    {
     "data": {
      "text/plain": [
       "True"
      ]
     },
     "execution_count": 8,
     "metadata": {},
     "output_type": "execute_result"
    }
   ],
   "source": [
    "4 in puzzles[4][0].get_box(0, 0).box"
   ]
  },
  {
   "cell_type": "code",
   "execution_count": 14,
   "metadata": {
    "collapsed": false
   },
   "outputs": [
    {
     "data": {
      "text/plain": [
       "True"
      ]
     },
     "execution_count": 14,
     "metadata": {},
     "output_type": "execute_result"
    }
   ],
   "source": [
    "is_in_box(puzzles[4][0], 3, 1)"
   ]
  },
  {
   "cell_type": "code",
   "execution_count": 25,
   "metadata": {
    "collapsed": false
   },
   "outputs": [
    {
     "data": {
      "text/plain": [
       "tensor([1, 2, 3, 4])"
      ]
     },
     "execution_count": 25,
     "metadata": {},
     "output_type": "execute_result"
    }
   ],
   "source": [
    "torch.cat([torch.tensor([1,2]), torch.tensor([3, 4])])"
   ]
  },
  {
   "cell_type": "code",
   "execution_count": null,
   "metadata": {
    "collapsed": true
   },
   "outputs": [],
   "source": []
  }
 ],
 "metadata": {
  "kernelspec": {
   "display_name": "Python 3",
   "language": "python",
   "name": "python3"
  },
  "language_info": {
   "codemirror_mode": {
    "name": "ipython",
    "version": 3
   },
   "file_extension": ".py",
   "mimetype": "text/x-python",
   "name": "python",
   "nbconvert_exporter": "python",
   "pygments_lexer": "ipython3",
   "version": "3.6.6"
  }
 },
 "nbformat": 4,
 "nbformat_minor": 2
}
