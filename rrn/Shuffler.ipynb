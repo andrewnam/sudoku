{
 "cells": [
  {
   "cell_type": "code",
   "execution_count": 9,
   "metadata": {
    "collapsed": false
   },
   "outputs": [],
   "source": [
    "import numpy as np\n",
    "from scipy.special import factorial\n",
    "import re\n",
    "import itertools\n",
    "from enum import Enum\n",
    "import random\n",
    "import pickle\n",
    "\n",
    "import sys\n",
    "sys.path.append('/Users/andrew/Desktop/sudoku/src/sudoku')\n",
    "\n",
    "from board import Board\n",
    "from solutions import Solutions\n",
    "import utils\n",
    "from grid_string import GridString, read_solutions_file\n"
   ]
  },
  {
   "cell_type": "code",
   "execution_count": 5,
   "metadata": {
    "collapsed": false
   },
   "outputs": [],
   "source": [
    "# set random seed to 0\n",
    "random.seed(0)\n",
    "np.random.seed(0)"
   ]
  },
  {
   "cell_type": "code",
   "execution_count": 6,
   "metadata": {
    "collapsed": true
   },
   "outputs": [],
   "source": [
    "filename = '/Users/andrew/Desktop/sudoku/data/shuffled_puzzles.txt'\n",
    "with open(filename) as f:\n",
    "    lines = f.read().splitlines()\n",
    "puzzles = {}\n",
    "for line in lines:\n",
    "    puzzle, solution = line.split(',')\n",
    "    puzzles[GridString(puzzle)] = GridString(solution)"
   ]
  },
  {
   "cell_type": "code",
   "execution_count": 8,
   "metadata": {
    "collapsed": false
   },
   "outputs": [],
   "source": [
    "class Dataset:\n",
    "    \n",
    "    def __init__(self, data: dict, split_boundaries: tuple, split_data: None):\n",
    "        \"\"\"\n",
    "        data: a non-nested dictionary of primitive key-value pairs where\n",
    "            the key is the input and\n",
    "            value is the target output\n",
    "        \"\"\"\n",
    "        assert split_boundaries[0] > 0 and split_boundaries[-1] < 1 and split_boundaries == sorted(split_boundaries)\n",
    "        assert len(data) > len(split_boundaries)\n",
    "        \n",
    "        self.data = data\n",
    "        self.split_boundaries = split_boundaries\n",
    "        if split_data:\n",
    "            self.split_data = split_data\n",
    "        else:\n",
    "            self.split_data = self.create_split_data()\n",
    "        \n",
    "    def create_split_data(self):\n",
    "        \n",
    "        inputs = list(self.data)\n",
    "        np.random.shuffle(inputs)\n",
    "        \n",
    "        split = []\n",
    "        last_boundary = 0\n",
    "        for boundary in self.split_boundaries + [1]:\n",
    "            next_boundary = int(len(data) * boundary)\n",
    "            split.append(data[last_boundary:next_boundary])\n",
    "            last_boundary = next_boundary\n",
    "        return split\n",
    "    \n",
    "    def get_input_data(self, index=None):\n",
    "        if index is None:\n",
    "            return list(self.split_data)\n",
    "        else:\n",
    "            return self.split_data[index]\n",
    "    \n",
    "    def get_output_data(self, index=None):\n",
    "        if index is None:\n",
    "            return [[self.data[k] for k in inputs] for inputs in self.split_data]\n",
    "        else:\n",
    "            return [self.data[k] for k in self.split_data[index]]\n",
    "    \n",
    "    def save(self, filename):\n",
    "        with open(filename, 'wb') as f:\n",
    "            pickle.dump({'data': self.data,\n",
    "                         'split_boundaries': self.split_boundaries,\n",
    "                         'split_data': self.split_data}, f)\n",
    "    \n",
    "    @staticmethod\n",
    "    def load(filename):\n",
    "        with open(filename, 'rb') as f:\n",
    "            raw = pickle.load(f)\n",
    "        return Dataset(raw['data'], raw['split_boundaries'], raw['split_data'])"
   ]
  },
  {
   "cell_type": "code",
   "execution_count": null,
   "metadata": {
    "collapsed": true
   },
   "outputs": [],
   "source": []
  }
 ],
 "metadata": {
  "kernelspec": {
   "display_name": "Python 3",
   "language": "python",
   "name": "python3"
  },
  "language_info": {
   "codemirror_mode": {
    "name": "ipython",
    "version": 3
   },
   "file_extension": ".py",
   "mimetype": "text/x-python",
   "name": "python",
   "nbconvert_exporter": "python",
   "pygments_lexer": "ipython3",
   "version": "3.6.6"
  }
 },
 "nbformat": 4,
 "nbformat_minor": 2
}
